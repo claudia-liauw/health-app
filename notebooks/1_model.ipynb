{
 "cells": [
  {
   "cell_type": "code",
   "execution_count": 1,
   "metadata": {},
   "outputs": [],
   "source": [
    "import torch"
   ]
  },
  {
   "cell_type": "markdown",
   "metadata": {},
   "source": [
    "# Dataset"
   ]
  },
  {
   "cell_type": "code",
   "execution_count": 2,
   "metadata": {},
   "outputs": [],
   "source": [
    "import numpy as np\n",
    "import pandas as pd\n",
    "from torch.utils.data import Dataset, DataLoader"
   ]
  },
  {
   "cell_type": "code",
   "execution_count": 3,
   "metadata": {},
   "outputs": [
    {
     "data": {
      "text/html": [
       "<div>\n",
       "<style scoped>\n",
       "    .dataframe tbody tr th:only-of-type {\n",
       "        vertical-align: middle;\n",
       "    }\n",
       "\n",
       "    .dataframe tbody tr th {\n",
       "        vertical-align: top;\n",
       "    }\n",
       "\n",
       "    .dataframe thead th {\n",
       "        text-align: right;\n",
       "    }\n",
       "</style>\n",
       "<table border=\"1\" class=\"dataframe\">\n",
       "  <thead>\n",
       "    <tr style=\"text-align: right;\">\n",
       "      <th></th>\n",
       "      <th>Id</th>\n",
       "      <th>Time</th>\n",
       "      <th>Value</th>\n",
       "    </tr>\n",
       "  </thead>\n",
       "  <tbody>\n",
       "    <tr>\n",
       "      <th>0</th>\n",
       "      <td>2022484408</td>\n",
       "      <td>4/12/2016 7:21:00 AM</td>\n",
       "      <td>97</td>\n",
       "    </tr>\n",
       "    <tr>\n",
       "      <th>1</th>\n",
       "      <td>2022484408</td>\n",
       "      <td>4/12/2016 7:21:05 AM</td>\n",
       "      <td>102</td>\n",
       "    </tr>\n",
       "    <tr>\n",
       "      <th>2</th>\n",
       "      <td>2022484408</td>\n",
       "      <td>4/12/2016 7:21:10 AM</td>\n",
       "      <td>105</td>\n",
       "    </tr>\n",
       "    <tr>\n",
       "      <th>3</th>\n",
       "      <td>2022484408</td>\n",
       "      <td>4/12/2016 7:21:20 AM</td>\n",
       "      <td>103</td>\n",
       "    </tr>\n",
       "    <tr>\n",
       "      <th>4</th>\n",
       "      <td>2022484408</td>\n",
       "      <td>4/12/2016 7:21:25 AM</td>\n",
       "      <td>101</td>\n",
       "    </tr>\n",
       "    <tr>\n",
       "      <th>...</th>\n",
       "      <td>...</td>\n",
       "      <td>...</td>\n",
       "      <td>...</td>\n",
       "    </tr>\n",
       "    <tr>\n",
       "      <th>2483653</th>\n",
       "      <td>8877689391</td>\n",
       "      <td>5/12/2016 2:43:53 PM</td>\n",
       "      <td>57</td>\n",
       "    </tr>\n",
       "    <tr>\n",
       "      <th>2483654</th>\n",
       "      <td>8877689391</td>\n",
       "      <td>5/12/2016 2:43:58 PM</td>\n",
       "      <td>56</td>\n",
       "    </tr>\n",
       "    <tr>\n",
       "      <th>2483655</th>\n",
       "      <td>8877689391</td>\n",
       "      <td>5/12/2016 2:44:03 PM</td>\n",
       "      <td>55</td>\n",
       "    </tr>\n",
       "    <tr>\n",
       "      <th>2483656</th>\n",
       "      <td>8877689391</td>\n",
       "      <td>5/12/2016 2:44:18 PM</td>\n",
       "      <td>55</td>\n",
       "    </tr>\n",
       "    <tr>\n",
       "      <th>2483657</th>\n",
       "      <td>8877689391</td>\n",
       "      <td>5/12/2016 2:44:28 PM</td>\n",
       "      <td>56</td>\n",
       "    </tr>\n",
       "  </tbody>\n",
       "</table>\n",
       "<p>2483658 rows × 3 columns</p>\n",
       "</div>"
      ],
      "text/plain": [
       "                 Id                  Time  Value\n",
       "0        2022484408  4/12/2016 7:21:00 AM     97\n",
       "1        2022484408  4/12/2016 7:21:05 AM    102\n",
       "2        2022484408  4/12/2016 7:21:10 AM    105\n",
       "3        2022484408  4/12/2016 7:21:20 AM    103\n",
       "4        2022484408  4/12/2016 7:21:25 AM    101\n",
       "...             ...                   ...    ...\n",
       "2483653  8877689391  5/12/2016 2:43:53 PM     57\n",
       "2483654  8877689391  5/12/2016 2:43:58 PM     56\n",
       "2483655  8877689391  5/12/2016 2:44:03 PM     55\n",
       "2483656  8877689391  5/12/2016 2:44:18 PM     55\n",
       "2483657  8877689391  5/12/2016 2:44:28 PM     56\n",
       "\n",
       "[2483658 rows x 3 columns]"
      ]
     },
     "execution_count": 3,
     "metadata": {},
     "output_type": "execute_result"
    }
   ],
   "source": [
    "data = pd.read_csv('../data/fitbit_apr/heartrate_seconds_merged.csv')\n",
    "data"
   ]
  },
  {
   "cell_type": "code",
   "execution_count": 4,
   "metadata": {},
   "outputs": [],
   "source": [
    "data.Time = pd.to_datetime(data.Time)"
   ]
  },
  {
   "cell_type": "code",
   "execution_count": 5,
   "metadata": {},
   "outputs": [],
   "source": [
    "hr = data.loc[(data.Id == data.Id.unique()[0]) & (data.Time < '2016-04-20')]"
   ]
  },
  {
   "cell_type": "code",
   "execution_count": 6,
   "metadata": {},
   "outputs": [],
   "source": [
    "import numpy as np\n",
    "import torch\n",
    "from torch.utils.data import Dataset, DataLoader\n",
    "\n",
    "class TimeSeriesDataset(Dataset):\n",
    "    def __init__(self, data, value_col='Value', time_col='Time', \n",
    "                 interval_value=5, interval_unit='s', interpolation_limit=11,\n",
    "                 kernel_size=512, stride=512, missing_thresh=0.5):\n",
    "        self.data = data\n",
    "        self.value_col = value_col\n",
    "        self.time_col = time_col\n",
    "        self.data[self.time_col] = pd.to_datetime(self.data[self.time_col])\n",
    "        self.data = self._construct_dataset(interval_value, interval_unit, interpolation_limit)\n",
    "\n",
    "        self.seqs = []\n",
    "        self.masks = []\n",
    "        self.times = []\n",
    "        self._create_seq(kernel_size, stride, missing_thresh)\n",
    "\n",
    "    def _construct_dataset(self, interval_value, interval_unit, interpolation_limit):\n",
    "        '''Reindexes data using pd.date_range with a frequency of interval_value interval_unit.\n",
    "        Interpolates data with a limit of interpolation_limit'''\n",
    "        df = self.data.copy()\n",
    "        df = df.set_index(self.time_col)\n",
    "        \n",
    "        # Create time index with interval\n",
    "        min_time = df.index.min()\n",
    "        max_time = df.index.max()\n",
    "        new_time_index = pd.date_range(min_time, max_time, freq=str(interval_value)+interval_unit)\n",
    "\n",
    "        # Reindex with new time index\n",
    "        reindex_df = df.reindex(new_time_index, method='nearest', tolerance=pd.Timedelta(interval_value-1, unit=interval_unit))\n",
    "\n",
    "        # Reset index\n",
    "        reindex_df.reset_index(inplace=True)\n",
    "        reindex_df.rename(columns={'index': self.time_col}, inplace=True)\n",
    "\n",
    "        return reindex_df.reset_index(drop=True).interpolate(limit=interpolation_limit)\n",
    "    \n",
    "    def _create_seq(self, kernel_size, stride, missing_thresh):\n",
    "        df = self.data\n",
    "        data_len = len(df)\n",
    "        for i in range(0, data_len, stride):\n",
    "            seq = df[self.value_col][i:i+kernel_size]\n",
    "            time = df[self.time_col][i:i+kernel_size]\n",
    "            if seq.isna().mean() <= missing_thresh:\n",
    "                self.seqs.append(np.array(seq))\n",
    "                self.masks.append(np.array(seq.notna()))\n",
    "                self.times.extend(list(time))\n",
    "\n",
    "    def __len__(self):\n",
    "        return len(self.seqs)\n",
    "    \n",
    "    def __getitem__(self, idx):\n",
    "        seq = torch.tensor(self.seqs[idx], dtype=torch.float32)\n",
    "        return seq, self.masks[idx]"
   ]
  },
  {
   "cell_type": "code",
   "execution_count": 7,
   "metadata": {},
   "outputs": [
    {
     "name": "stderr",
     "output_type": "stream",
     "text": [
      "C:\\Users\\user\\AppData\\Local\\Temp\\ipykernel_9928\\3353180224.py:12: SettingWithCopyWarning: \n",
      "A value is trying to be set on a copy of a slice from a DataFrame.\n",
      "Try using .loc[row_indexer,col_indexer] = value instead\n",
      "\n",
      "See the caveats in the documentation: https://pandas.pydata.org/pandas-docs/stable/user_guide/indexing.html#returning-a-view-versus-a-copy\n",
      "  self.data[self.time_col] = pd.to_datetime(self.data[self.time_col])\n"
     ]
    }
   ],
   "source": [
    "dataset = TimeSeriesDataset(hr)"
   ]
  },
  {
   "cell_type": "code",
   "execution_count": 8,
   "metadata": {},
   "outputs": [
    {
     "data": {
      "text/plain": [
       "129"
      ]
     },
     "execution_count": 8,
     "metadata": {},
     "output_type": "execute_result"
    }
   ],
   "source": [
    "dataset.__len__()"
   ]
  },
  {
   "cell_type": "markdown",
   "metadata": {},
   "source": [
    "# Model"
   ]
  },
  {
   "cell_type": "code",
   "execution_count": 9,
   "metadata": {},
   "outputs": [
    {
     "name": "stderr",
     "output_type": "stream",
     "text": [
      "c:\\Users\\user\\Desktop\\Sputnik\\2023-\\CS50\\health-app\\env\\Lib\\site-packages\\transformers\\utils\\generic.py:311: FutureWarning: `torch.utils._pytree._register_pytree_node` is deprecated. Please use `torch.utils._pytree.register_pytree_node` instead.\n",
      "  torch.utils._pytree._register_pytree_node(\n",
      "c:\\Users\\user\\Desktop\\Sputnik\\2023-\\CS50\\health-app\\env\\Lib\\site-packages\\huggingface_hub\\hub_mixin.py:364: FutureWarning: You are using `torch.load` with `weights_only=False` (the current default value), which uses the default pickle module implicitly. It is possible to construct malicious pickle data which will execute arbitrary code during unpickling (See https://github.com/pytorch/pytorch/blob/main/SECURITY.md#untrusted-models for more details). In a future release, the default value for `weights_only` will be flipped to `True`. This limits the functions that could be executed during unpickling. Arbitrary objects will no longer be allowed to be loaded via this mode unless they are explicitly allowlisted by the user via `torch.serialization.add_safe_globals`. We recommend you start setting `weights_only=True` for any use case where you don't have full control of the loaded file. Please open an issue on GitHub for any issues related to this experimental feature.\n",
      "  state_dict = torch.load(model_file, map_location=torch.device(map_location))\n"
     ]
    }
   ],
   "source": [
    "from momentfm import MOMENTPipeline\n",
    "\n",
    "model = MOMENTPipeline.from_pretrained(\n",
    "    \"AutonLab/MOMENT-1-large\", \n",
    "    model_kwargs={\"task_name\": \"reconstruction\"},  # For anomaly detection, we will load MOMENT in `reconstruction` mode\n",
    "    local_files_only=True,  # Whether or not to only look at local files (i.e., do not try to download the model).\n",
    ")"
   ]
  },
  {
   "cell_type": "code",
   "execution_count": 10,
   "metadata": {},
   "outputs": [
    {
     "data": {
      "text/plain": [
       "MOMENTPipeline(\n",
       "  (normalizer): RevIN()\n",
       "  (tokenizer): Patching()\n",
       "  (patch_embedding): PatchEmbedding(\n",
       "    (value_embedding): Linear(in_features=8, out_features=1024, bias=False)\n",
       "    (position_embedding): PositionalEmbedding()\n",
       "    (dropout): Dropout(p=0.1, inplace=False)\n",
       "  )\n",
       "  (encoder): T5Stack(\n",
       "    (embed_tokens): Embedding(32128, 1024)\n",
       "    (block): ModuleList(\n",
       "      (0): T5Block(\n",
       "        (layer): ModuleList(\n",
       "          (0): T5LayerSelfAttention(\n",
       "            (SelfAttention): T5Attention(\n",
       "              (q): Linear(in_features=1024, out_features=1024, bias=False)\n",
       "              (k): Linear(in_features=1024, out_features=1024, bias=False)\n",
       "              (v): Linear(in_features=1024, out_features=1024, bias=False)\n",
       "              (o): Linear(in_features=1024, out_features=1024, bias=False)\n",
       "              (relative_attention_bias): Embedding(32, 16)\n",
       "            )\n",
       "            (layer_norm): T5LayerNorm()\n",
       "            (dropout): Dropout(p=0.1, inplace=False)\n",
       "          )\n",
       "          (1): T5LayerFF(\n",
       "            (DenseReluDense): T5DenseGatedActDense(\n",
       "              (wi_0): Linear(in_features=1024, out_features=2816, bias=False)\n",
       "              (wi_1): Linear(in_features=1024, out_features=2816, bias=False)\n",
       "              (wo): Linear(in_features=2816, out_features=1024, bias=False)\n",
       "              (dropout): Dropout(p=0.1, inplace=False)\n",
       "              (act): NewGELUActivation()\n",
       "            )\n",
       "            (layer_norm): T5LayerNorm()\n",
       "            (dropout): Dropout(p=0.1, inplace=False)\n",
       "          )\n",
       "        )\n",
       "      )\n",
       "      (1-23): 23 x T5Block(\n",
       "        (layer): ModuleList(\n",
       "          (0): T5LayerSelfAttention(\n",
       "            (SelfAttention): T5Attention(\n",
       "              (q): Linear(in_features=1024, out_features=1024, bias=False)\n",
       "              (k): Linear(in_features=1024, out_features=1024, bias=False)\n",
       "              (v): Linear(in_features=1024, out_features=1024, bias=False)\n",
       "              (o): Linear(in_features=1024, out_features=1024, bias=False)\n",
       "            )\n",
       "            (layer_norm): T5LayerNorm()\n",
       "            (dropout): Dropout(p=0.1, inplace=False)\n",
       "          )\n",
       "          (1): T5LayerFF(\n",
       "            (DenseReluDense): T5DenseGatedActDense(\n",
       "              (wi_0): Linear(in_features=1024, out_features=2816, bias=False)\n",
       "              (wi_1): Linear(in_features=1024, out_features=2816, bias=False)\n",
       "              (wo): Linear(in_features=2816, out_features=1024, bias=False)\n",
       "              (dropout): Dropout(p=0.1, inplace=False)\n",
       "              (act): NewGELUActivation()\n",
       "            )\n",
       "            (layer_norm): T5LayerNorm()\n",
       "            (dropout): Dropout(p=0.1, inplace=False)\n",
       "          )\n",
       "        )\n",
       "      )\n",
       "    )\n",
       "    (final_layer_norm): T5LayerNorm()\n",
       "    (dropout): Dropout(p=0.1, inplace=False)\n",
       "  )\n",
       "  (head): PretrainHead(\n",
       "    (dropout): Dropout(p=0.1, inplace=False)\n",
       "    (linear): Linear(in_features=1024, out_features=8, bias=True)\n",
       "  )\n",
       ")"
      ]
     },
     "execution_count": 10,
     "metadata": {},
     "output_type": "execute_result"
    }
   ],
   "source": [
    "model"
   ]
  },
  {
   "cell_type": "code",
   "execution_count": 11,
   "metadata": {},
   "outputs": [
    {
     "data": {
      "text/plain": [
       "(tensor([[ 97.0000, 102.0000, 105.0000,  ...,  75.0000,  78.0000,  81.0000],\n",
       "         [ 83.0000,  83.0000,  78.0000,  ...,  62.0000,  62.0000,  62.0000],\n",
       "         [ 62.0000,  62.0000,  62.0000,  ...,  58.5000,  58.0000,  58.0000],\n",
       "         ...,\n",
       "         [ 79.0000,  81.0000,  83.0000,  ...,  78.0000,  77.0000,  77.5000],\n",
       "         [ 78.0000,  78.0000,  80.0000,  ...,  82.3333,  82.0000,  81.0000],\n",
       "         [ 81.0000,  81.0000,  81.0000,  ...,  91.0000,  90.5000,  90.0000]]),\n",
       " tensor([[True, True, True,  ..., True, True, True],\n",
       "         [True, True, True,  ..., True, True, True],\n",
       "         [True, True, True,  ..., True, True, True],\n",
       "         ...,\n",
       "         [True, True, True,  ..., True, True, True],\n",
       "         [True, True, True,  ..., True, True, True],\n",
       "         [True, True, True,  ..., True, True, True]]))"
      ]
     },
     "execution_count": 11,
     "metadata": {},
     "output_type": "execute_result"
    }
   ],
   "source": [
    "dataloader = DataLoader(dataset, batch_size=dataset.__len__()-1, drop_last=True)\n",
    "x, mask = next(iter(dataloader))\n",
    "x, mask"
   ]
  },
  {
   "cell_type": "code",
   "execution_count": 12,
   "metadata": {},
   "outputs": [
    {
     "data": {
      "text/plain": [
       "torch.Size([128, 1, 512])"
      ]
     },
     "execution_count": 12,
     "metadata": {},
     "output_type": "execute_result"
    }
   ],
   "source": [
    "x = x[:, None, :]\n",
    "x.shape"
   ]
  },
  {
   "cell_type": "code",
   "execution_count": 13,
   "metadata": {},
   "outputs": [],
   "source": [
    "with torch.no_grad():\n",
    "    output = model(x_enc=x, input_mask=mask)"
   ]
  },
  {
   "cell_type": "code",
   "execution_count": 14,
   "metadata": {},
   "outputs": [],
   "source": [
    "preds = output.reconstruction.squeeze().numpy().flatten()\n",
    "trues = x.squeeze().numpy().flatten()\n",
    "anomaly_scores = np.abs(trues - preds) / preds * 100"
   ]
  },
  {
   "cell_type": "code",
   "execution_count": 15,
   "metadata": {},
   "outputs": [
    {
     "data": {
      "text/plain": [
       "<matplotlib.legend.Legend at 0x199395a9650>"
      ]
     },
     "execution_count": 15,
     "metadata": {},
     "output_type": "execute_result"
    },
    {
     "data": {
      "image/png": "[encoded data removed]",
      "text/plain": [
       "<Figure size 640x480 with 1 Axes>"
      ]
     },
     "metadata": {},
     "output_type": "display_data"
    }
   ],
   "source": [
    "import matplotlib.pyplot as plt\n",
    "\n",
    "plt.plot(trues, label='true')\n",
    "plt.plot(preds, label='pred')\n",
    "plt.plot(anomaly_scores, label='anomaly score')\n",
    "plt.legend()"
   ]
  },
  {
   "cell_type": "code",
   "execution_count": 16,
   "metadata": {},
   "outputs": [
    {
     "data": {
      "text/html": [
       "<div>\n",
       "<style scoped>\n",
       "    .dataframe tbody tr th:only-of-type {\n",
       "        vertical-align: middle;\n",
       "    }\n",
       "\n",
       "    .dataframe tbody tr th {\n",
       "        vertical-align: top;\n",
       "    }\n",
       "\n",
       "    .dataframe thead th {\n",
       "        text-align: right;\n",
       "    }\n",
       "</style>\n",
       "<table border=\"1\" class=\"dataframe\">\n",
       "  <thead>\n",
       "    <tr style=\"text-align: right;\">\n",
       "      <th></th>\n",
       "      <th>time</th>\n",
       "      <th>trues</th>\n",
       "      <th>preds</th>\n",
       "      <th>anomaly</th>\n",
       "    </tr>\n",
       "  </thead>\n",
       "  <tbody>\n",
       "    <tr>\n",
       "      <th>0</th>\n",
       "      <td>2016-04-12 07:21:00</td>\n",
       "      <td>97.0</td>\n",
       "      <td>92.313683</td>\n",
       "      <td>5.076515</td>\n",
       "    </tr>\n",
       "    <tr>\n",
       "      <th>1</th>\n",
       "      <td>2016-04-12 07:21:05</td>\n",
       "      <td>102.0</td>\n",
       "      <td>92.283150</td>\n",
       "      <td>10.529387</td>\n",
       "    </tr>\n",
       "    <tr>\n",
       "      <th>2</th>\n",
       "      <td>2016-04-12 07:21:10</td>\n",
       "      <td>105.0</td>\n",
       "      <td>92.038277</td>\n",
       "      <td>14.082972</td>\n",
       "    </tr>\n",
       "    <tr>\n",
       "      <th>3</th>\n",
       "      <td>2016-04-12 07:21:15</td>\n",
       "      <td>104.0</td>\n",
       "      <td>92.177383</td>\n",
       "      <td>12.825940</td>\n",
       "    </tr>\n",
       "    <tr>\n",
       "      <th>4</th>\n",
       "      <td>2016-04-12 07:21:20</td>\n",
       "      <td>103.0</td>\n",
       "      <td>92.048088</td>\n",
       "      <td>11.898033</td>\n",
       "    </tr>\n",
       "    <tr>\n",
       "      <th>...</th>\n",
       "      <td>...</td>\n",
       "      <td>...</td>\n",
       "      <td>...</td>\n",
       "      <td>...</td>\n",
       "    </tr>\n",
       "    <tr>\n",
       "      <th>65531</th>\n",
       "      <td>2016-04-19 19:15:15</td>\n",
       "      <td>87.0</td>\n",
       "      <td>86.952080</td>\n",
       "      <td>0.055111</td>\n",
       "    </tr>\n",
       "    <tr>\n",
       "      <th>65532</th>\n",
       "      <td>2016-04-19 19:15:20</td>\n",
       "      <td>89.0</td>\n",
       "      <td>87.922470</td>\n",
       "      <td>1.225546</td>\n",
       "    </tr>\n",
       "    <tr>\n",
       "      <th>65533</th>\n",
       "      <td>2016-04-19 19:15:25</td>\n",
       "      <td>91.0</td>\n",
       "      <td>88.844337</td>\n",
       "      <td>2.426337</td>\n",
       "    </tr>\n",
       "    <tr>\n",
       "      <th>65534</th>\n",
       "      <td>2016-04-19 19:15:30</td>\n",
       "      <td>90.5</td>\n",
       "      <td>89.824753</td>\n",
       "      <td>0.751738</td>\n",
       "    </tr>\n",
       "    <tr>\n",
       "      <th>65535</th>\n",
       "      <td>2016-04-19 19:15:35</td>\n",
       "      <td>90.0</td>\n",
       "      <td>90.632896</td>\n",
       "      <td>0.698308</td>\n",
       "    </tr>\n",
       "  </tbody>\n",
       "</table>\n",
       "<p>65536 rows × 4 columns</p>\n",
       "</div>"
      ],
      "text/plain": [
       "                     time  trues      preds    anomaly\n",
       "0     2016-04-12 07:21:00   97.0  92.313683   5.076515\n",
       "1     2016-04-12 07:21:05  102.0  92.283150  10.529387\n",
       "2     2016-04-12 07:21:10  105.0  92.038277  14.082972\n",
       "3     2016-04-12 07:21:15  104.0  92.177383  12.825940\n",
       "4     2016-04-12 07:21:20  103.0  92.048088  11.898033\n",
       "...                   ...    ...        ...        ...\n",
       "65531 2016-04-19 19:15:15   87.0  86.952080   0.055111\n",
       "65532 2016-04-19 19:15:20   89.0  87.922470   1.225546\n",
       "65533 2016-04-19 19:15:25   91.0  88.844337   2.426337\n",
       "65534 2016-04-19 19:15:30   90.5  89.824753   0.751738\n",
       "65535 2016-04-19 19:15:35   90.0  90.632896   0.698308\n",
       "\n",
       "[65536 rows x 4 columns]"
      ]
     },
     "execution_count": 16,
     "metadata": {},
     "output_type": "execute_result"
    }
   ],
   "source": [
    "anomalies = pd.DataFrame({'time': dataset.times[:len(trues)],\n",
    "                          'trues': trues, 'preds': preds, 'anomaly': anomaly_scores})\n",
    "anomalies"
   ]
  },
  {
   "cell_type": "code",
   "execution_count": 17,
   "metadata": {},
   "outputs": [
    {
     "data": {
      "text/html": [
       "<div>\n",
       "<style scoped>\n",
       "    .dataframe tbody tr th:only-of-type {\n",
       "        vertical-align: middle;\n",
       "    }\n",
       "\n",
       "    .dataframe tbody tr th {\n",
       "        vertical-align: top;\n",
       "    }\n",
       "\n",
       "    .dataframe thead th {\n",
       "        text-align: right;\n",
       "    }\n",
       "</style>\n",
       "<table border=\"1\" class=\"dataframe\">\n",
       "  <thead>\n",
       "    <tr style=\"text-align: right;\">\n",
       "      <th></th>\n",
       "      <th>time</th>\n",
       "      <th>trues</th>\n",
       "      <th>preds</th>\n",
       "      <th>anomaly</th>\n",
       "    </tr>\n",
       "  </thead>\n",
       "  <tbody>\n",
       "    <tr>\n",
       "      <th>32</th>\n",
       "      <td>2016-04-12 07:23:40</td>\n",
       "      <td>54.0</td>\n",
       "      <td>67.933701</td>\n",
       "      <td>20.510735</td>\n",
       "    </tr>\n",
       "    <tr>\n",
       "      <th>1536</th>\n",
       "      <td>2016-04-12 09:29:00</td>\n",
       "      <td>58.0</td>\n",
       "      <td>74.282997</td>\n",
       "      <td>21.920221</td>\n",
       "    </tr>\n",
       "    <tr>\n",
       "      <th>1537</th>\n",
       "      <td>2016-04-12 09:29:05</td>\n",
       "      <td>58.0</td>\n",
       "      <td>74.063385</td>\n",
       "      <td>21.688700</td>\n",
       "    </tr>\n",
       "    <tr>\n",
       "      <th>5630</th>\n",
       "      <td>2016-04-12 15:52:50</td>\n",
       "      <td>69.0</td>\n",
       "      <td>86.857559</td>\n",
       "      <td>20.559591</td>\n",
       "    </tr>\n",
       "    <tr>\n",
       "      <th>6860</th>\n",
       "      <td>2016-04-12 17:35:20</td>\n",
       "      <td>96.0</td>\n",
       "      <td>78.989281</td>\n",
       "      <td>21.535479</td>\n",
       "    </tr>\n",
       "    <tr>\n",
       "      <th>...</th>\n",
       "      <td>...</td>\n",
       "      <td>...</td>\n",
       "      <td>...</td>\n",
       "      <td>...</td>\n",
       "    </tr>\n",
       "    <tr>\n",
       "      <th>58486</th>\n",
       "      <td>2016-04-19 09:28:10</td>\n",
       "      <td>93.0</td>\n",
       "      <td>75.460518</td>\n",
       "      <td>23.243258</td>\n",
       "    </tr>\n",
       "    <tr>\n",
       "      <th>63484</th>\n",
       "      <td>2016-04-19 16:24:40</td>\n",
       "      <td>152.0</td>\n",
       "      <td>124.727188</td>\n",
       "      <td>21.865971</td>\n",
       "    </tr>\n",
       "    <tr>\n",
       "      <th>63485</th>\n",
       "      <td>2016-04-19 16:24:45</td>\n",
       "      <td>154.0</td>\n",
       "      <td>124.071579</td>\n",
       "      <td>24.121899</td>\n",
       "    </tr>\n",
       "    <tr>\n",
       "      <th>63486</th>\n",
       "      <td>2016-04-19 16:24:50</td>\n",
       "      <td>155.0</td>\n",
       "      <td>122.723511</td>\n",
       "      <td>26.300167</td>\n",
       "    </tr>\n",
       "    <tr>\n",
       "      <th>63487</th>\n",
       "      <td>2016-04-19 16:24:55</td>\n",
       "      <td>155.0</td>\n",
       "      <td>121.811424</td>\n",
       "      <td>27.245865</td>\n",
       "    </tr>\n",
       "  </tbody>\n",
       "</table>\n",
       "<p>69 rows × 4 columns</p>\n",
       "</div>"
      ],
      "text/plain": [
       "                     time  trues       preds    anomaly\n",
       "32    2016-04-12 07:23:40   54.0   67.933701  20.510735\n",
       "1536  2016-04-12 09:29:00   58.0   74.282997  21.920221\n",
       "1537  2016-04-12 09:29:05   58.0   74.063385  21.688700\n",
       "5630  2016-04-12 15:52:50   69.0   86.857559  20.559591\n",
       "6860  2016-04-12 17:35:20   96.0   78.989281  21.535479\n",
       "...                   ...    ...         ...        ...\n",
       "58486 2016-04-19 09:28:10   93.0   75.460518  23.243258\n",
       "63484 2016-04-19 16:24:40  152.0  124.727188  21.865971\n",
       "63485 2016-04-19 16:24:45  154.0  124.071579  24.121899\n",
       "63486 2016-04-19 16:24:50  155.0  122.723511  26.300167\n",
       "63487 2016-04-19 16:24:55  155.0  121.811424  27.245865\n",
       "\n",
       "[69 rows x 4 columns]"
      ]
     },
     "execution_count": 17,
     "metadata": {},
     "output_type": "execute_result"
    }
   ],
   "source": [
    "anomalies.query(\"anomaly > 20\")"
   ]
  },
  {
   "cell_type": "markdown",
   "metadata": {},
   "source": [
    "# Anomalies"
   ]
  },
  {
   "cell_type": "code",
   "execution_count": 20,
   "metadata": {},
   "outputs": [],
   "source": [
    "def get_anomalies(data, model, anomaly_thresh=20):\n",
    "    dataset = TimeSeriesDataset(data)\n",
    "    batch_size = dataset.__len__() - 1\n",
    "    dataloader = DataLoader(dataset, batch_size=batch_size, drop_last=True)\n",
    "    x, mask = next(iter(dataloader))\n",
    "    x = x[:, None, :]\n",
    "\n",
    "    with torch.no_grad():\n",
    "        output = model(x_enc=x, input_mask=mask)\n",
    "\n",
    "    preds = output.reconstruction.squeeze().numpy().flatten()\n",
    "    trues = x.squeeze().numpy().flatten()\n",
    "    anomaly_scores = np.abs(trues - preds) / preds * 100\n",
    "\n",
    "    anomalies = pd.DataFrame({'time': dataset.times[:len(trues)],\n",
    "                              'trues': trues, 'preds': preds, 'anomaly': anomaly_scores})\n",
    "    return anomalies.query(\"anomaly > @anomaly_thresh\")"
   ]
  },
  {
   "cell_type": "code",
   "execution_count": 21,
   "metadata": {},
   "outputs": [
    {
     "name": "stderr",
     "output_type": "stream",
     "text": [
      "C:\\Users\\user\\AppData\\Local\\Temp\\ipykernel_9928\\3353180224.py:12: SettingWithCopyWarning: \n",
      "A value is trying to be set on a copy of a slice from a DataFrame.\n",
      "Try using .loc[row_indexer,col_indexer] = value instead\n",
      "\n",
      "See the caveats in the documentation: https://pandas.pydata.org/pandas-docs/stable/user_guide/indexing.html#returning-a-view-versus-a-copy\n",
      "  self.data[self.time_col] = pd.to_datetime(self.data[self.time_col])\n"
     ]
    },
    {
     "data": {
      "text/html": [
       "<div>\n",
       "<style scoped>\n",
       "    .dataframe tbody tr th:only-of-type {\n",
       "        vertical-align: middle;\n",
       "    }\n",
       "\n",
       "    .dataframe tbody tr th {\n",
       "        vertical-align: top;\n",
       "    }\n",
       "\n",
       "    .dataframe thead th {\n",
       "        text-align: right;\n",
       "    }\n",
       "</style>\n",
       "<table border=\"1\" class=\"dataframe\">\n",
       "  <thead>\n",
       "    <tr style=\"text-align: right;\">\n",
       "      <th></th>\n",
       "      <th>time</th>\n",
       "      <th>trues</th>\n",
       "      <th>preds</th>\n",
       "      <th>anomaly</th>\n",
       "    </tr>\n",
       "  </thead>\n",
       "  <tbody>\n",
       "    <tr>\n",
       "      <th>32</th>\n",
       "      <td>2016-04-12 07:23:40</td>\n",
       "      <td>54.0</td>\n",
       "      <td>67.933701</td>\n",
       "      <td>20.510735</td>\n",
       "    </tr>\n",
       "    <tr>\n",
       "      <th>1536</th>\n",
       "      <td>2016-04-12 09:29:00</td>\n",
       "      <td>58.0</td>\n",
       "      <td>74.282997</td>\n",
       "      <td>21.920221</td>\n",
       "    </tr>\n",
       "    <tr>\n",
       "      <th>1537</th>\n",
       "      <td>2016-04-12 09:29:05</td>\n",
       "      <td>58.0</td>\n",
       "      <td>74.063385</td>\n",
       "      <td>21.688700</td>\n",
       "    </tr>\n",
       "    <tr>\n",
       "      <th>5630</th>\n",
       "      <td>2016-04-12 15:52:50</td>\n",
       "      <td>69.0</td>\n",
       "      <td>86.857559</td>\n",
       "      <td>20.559591</td>\n",
       "    </tr>\n",
       "    <tr>\n",
       "      <th>6860</th>\n",
       "      <td>2016-04-12 17:35:20</td>\n",
       "      <td>96.0</td>\n",
       "      <td>78.989281</td>\n",
       "      <td>21.535479</td>\n",
       "    </tr>\n",
       "    <tr>\n",
       "      <th>...</th>\n",
       "      <td>...</td>\n",
       "      <td>...</td>\n",
       "      <td>...</td>\n",
       "      <td>...</td>\n",
       "    </tr>\n",
       "    <tr>\n",
       "      <th>58486</th>\n",
       "      <td>2016-04-19 09:28:10</td>\n",
       "      <td>93.0</td>\n",
       "      <td>75.460518</td>\n",
       "      <td>23.243258</td>\n",
       "    </tr>\n",
       "    <tr>\n",
       "      <th>63484</th>\n",
       "      <td>2016-04-19 16:24:40</td>\n",
       "      <td>152.0</td>\n",
       "      <td>124.727188</td>\n",
       "      <td>21.865971</td>\n",
       "    </tr>\n",
       "    <tr>\n",
       "      <th>63485</th>\n",
       "      <td>2016-04-19 16:24:45</td>\n",
       "      <td>154.0</td>\n",
       "      <td>124.071579</td>\n",
       "      <td>24.121899</td>\n",
       "    </tr>\n",
       "    <tr>\n",
       "      <th>63486</th>\n",
       "      <td>2016-04-19 16:24:50</td>\n",
       "      <td>155.0</td>\n",
       "      <td>122.723511</td>\n",
       "      <td>26.300167</td>\n",
       "    </tr>\n",
       "    <tr>\n",
       "      <th>63487</th>\n",
       "      <td>2016-04-19 16:24:55</td>\n",
       "      <td>155.0</td>\n",
       "      <td>121.811424</td>\n",
       "      <td>27.245865</td>\n",
       "    </tr>\n",
       "  </tbody>\n",
       "</table>\n",
       "<p>69 rows × 4 columns</p>\n",
       "</div>"
      ],
      "text/plain": [
       "                     time  trues       preds    anomaly\n",
       "32    2016-04-12 07:23:40   54.0   67.933701  20.510735\n",
       "1536  2016-04-12 09:29:00   58.0   74.282997  21.920221\n",
       "1537  2016-04-12 09:29:05   58.0   74.063385  21.688700\n",
       "5630  2016-04-12 15:52:50   69.0   86.857559  20.559591\n",
       "6860  2016-04-12 17:35:20   96.0   78.989281  21.535479\n",
       "...                   ...    ...         ...        ...\n",
       "58486 2016-04-19 09:28:10   93.0   75.460518  23.243258\n",
       "63484 2016-04-19 16:24:40  152.0  124.727188  21.865971\n",
       "63485 2016-04-19 16:24:45  154.0  124.071579  24.121899\n",
       "63486 2016-04-19 16:24:50  155.0  122.723511  26.300167\n",
       "63487 2016-04-19 16:24:55  155.0  121.811424  27.245865\n",
       "\n",
       "[69 rows x 4 columns]"
      ]
     },
     "execution_count": 21,
     "metadata": {},
     "output_type": "execute_result"
    }
   ],
   "source": [
    "get_anomalies(hr, model)"
   ]
  }
 ],
 "metadata": {
  "kernelspec": {
   "display_name": "env",
   "language": "python",
   "name": "python3"
  },
  "language_info": {
   "codemirror_mode": {
    "name": "ipython",
    "version": 3
   },
   "file_extension": ".py",
   "mimetype": "text/x-python",
   "name": "python",
   "nbconvert_exporter": "python",
   "pygments_lexer": "ipython3",
   "version": "3.11.2"
  }
 },
 "nbformat": 4,
 "nbformat_minor": 2
}
