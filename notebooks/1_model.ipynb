{
 "cells": [
  {
   "cell_type": "code",
   "execution_count": 1,
   "metadata": {},
   "outputs": [],
   "source": [
    "import torch"
   ]
  },
  {
   "cell_type": "markdown",
   "metadata": {},
   "source": [
    "# Dataset"
   ]
  },
  {
   "cell_type": "code",
   "execution_count": 2,
   "metadata": {},
   "outputs": [],
   "source": [
    "import numpy as np\n",
    "import pandas as pd\n",
    "from torch.utils.data import Dataset, DataLoader"
   ]
  },
  {
   "cell_type": "code",
   "execution_count": 3,
   "metadata": {},
   "outputs": [],
   "source": [
    "hr = pd.read_csv('../data/fitbit_apr/heartrate_seconds_merged.csv')"
   ]
  },
  {
   "cell_type": "code",
   "execution_count": 4,
   "metadata": {},
   "outputs": [],
   "source": [
    "class TimeSeriesDataset(Dataset):\n",
    "    def __init__(self, csv_path, value_col='Value', time_col='Time', \n",
    "                 interval_value=5, interval_unit='s', interpolation_limit=11,\n",
    "                 kernel_size=512, stride=256, missing_thresh=0.5):\n",
    "        self.data = pd.read_csv(csv_path)\n",
    "        self.value_col = value_col\n",
    "        self.time_col = time_col\n",
    "        self.data = self.construct_dataset(interval_value, interval_unit, interpolation_limit)\n",
    "\n",
    "        self.seqs = []\n",
    "        self.masks = []\n",
    "        self.create_seq(kernel_size, stride, missing_thresh)\n",
    "\n",
    "    def construct_dataset(self, interval_value, interval_unit, interpolation_limit):\n",
    "        '''Reindexes data using pd.date_range with a frequency of interval_value interval_unit.\n",
    "        Interpolates data with a limit of interpolation_limit'''\n",
    "        self.data[self.time_col] = pd.to_datetime(self.data[self.time_col])\n",
    "        dfs = []\n",
    "        for id, group_data in self.data.groupby('Id'):\n",
    "            group_data = group_data.set_index(self.time_col)\n",
    "            \n",
    "            # Create time index with interval\n",
    "            min_time = group_data.index.min()\n",
    "            max_time = group_data.index.max()\n",
    "            new_time_index = pd.date_range(min_time, max_time, freq=str(interval_value)+interval_unit)\n",
    "\n",
    "            # Reindex with new time index\n",
    "            reindex_group = group_data.reindex(new_time_index, method='nearest', tolerance=pd.Timedelta(interval_value-1, unit=interval_unit))\n",
    "\n",
    "            # Reset index and add back ID column\n",
    "            reindex_group.reset_index(inplace=True)\n",
    "            reindex_group.rename(columns={'index': self.time_col}, inplace=True)\n",
    "            reindex_group['Id'] = id\n",
    "            \n",
    "            dfs.append(reindex_group)\n",
    "\n",
    "        return pd.concat(dfs).reset_index(drop=True).interpolate(limit=interpolation_limit)\n",
    "    \n",
    "    def create_seq(self, kernel_size, stride, missing_thresh):\n",
    "        for id, group_data in self.data.groupby('Id'):\n",
    "            data_len = len(group_data)\n",
    "            for i in range(0, data_len, stride):\n",
    "                seq = group_data.Value[i:i+kernel_size]\n",
    "                if seq.isna().mean() <= missing_thresh:\n",
    "                    self.seqs.append(np.array(seq))\n",
    "                    self.masks.append(np.array(seq.notna()))\n",
    "\n",
    "    def __len__(self):\n",
    "        return len(self.seqs)\n",
    "    \n",
    "    def __getitem__(self, idx):\n",
    "        seq = torch.tensor(self.seqs[idx], dtype=torch.float32)\n",
    "        return seq, self.masks[idx]"
   ]
  },
  {
   "cell_type": "code",
   "execution_count": 5,
   "metadata": {},
   "outputs": [],
   "source": [
    "dataset = TimeSeriesDataset('../data/fitbit_apr/heartrate_seconds_merged.csv')"
   ]
  },
  {
   "cell_type": "markdown",
   "metadata": {},
   "source": [
    "# Model"
   ]
  },
  {
   "cell_type": "code",
   "execution_count": 6,
   "metadata": {},
   "outputs": [
    {
     "name": "stderr",
     "output_type": "stream",
     "text": [
      "c:\\Users\\user\\Desktop\\Sputnik\\2023-\\CS50\\health-app\\env\\Lib\\site-packages\\transformers\\utils\\generic.py:311: FutureWarning: `torch.utils._pytree._register_pytree_node` is deprecated. Please use `torch.utils._pytree.register_pytree_node` instead.\n",
      "  torch.utils._pytree._register_pytree_node(\n",
      "c:\\Users\\user\\Desktop\\Sputnik\\2023-\\CS50\\health-app\\env\\Lib\\site-packages\\huggingface_hub\\hub_mixin.py:364: FutureWarning: You are using `torch.load` with `weights_only=False` (the current default value), which uses the default pickle module implicitly. It is possible to construct malicious pickle data which will execute arbitrary code during unpickling (See https://github.com/pytorch/pytorch/blob/main/SECURITY.md#untrusted-models for more details). In a future release, the default value for `weights_only` will be flipped to `True`. This limits the functions that could be executed during unpickling. Arbitrary objects will no longer be allowed to be loaded via this mode unless they are explicitly allowlisted by the user via `torch.serialization.add_safe_globals`. We recommend you start setting `weights_only=True` for any use case where you don't have full control of the loaded file. Please open an issue on GitHub for any issues related to this experimental feature.\n",
      "  state_dict = torch.load(model_file, map_location=torch.device(map_location))\n"
     ]
    }
   ],
   "source": [
    "from momentfm import MOMENTPipeline\n",
    "\n",
    "model = MOMENTPipeline.from_pretrained(\n",
    "    \"AutonLab/MOMENT-1-large\", \n",
    "    model_kwargs={\"task_name\": \"reconstruction\"},  # For anomaly detection, we will load MOMENT in `reconstruction` mode\n",
    "    local_files_only=True,  # Whether or not to only look at local files (i.e., do not try to download the model).\n",
    ")"
   ]
  },
  {
   "cell_type": "code",
   "execution_count": 7,
   "metadata": {},
   "outputs": [
    {
     "data": {
      "text/plain": [
       "MOMENTPipeline(\n",
       "  (normalizer): RevIN()\n",
       "  (tokenizer): Patching()\n",
       "  (patch_embedding): PatchEmbedding(\n",
       "    (value_embedding): Linear(in_features=8, out_features=1024, bias=False)\n",
       "    (position_embedding): PositionalEmbedding()\n",
       "    (dropout): Dropout(p=0.1, inplace=False)\n",
       "  )\n",
       "  (encoder): T5Stack(\n",
       "    (embed_tokens): Embedding(32128, 1024)\n",
       "    (block): ModuleList(\n",
       "      (0): T5Block(\n",
       "        (layer): ModuleList(\n",
       "          (0): T5LayerSelfAttention(\n",
       "            (SelfAttention): T5Attention(\n",
       "              (q): Linear(in_features=1024, out_features=1024, bias=False)\n",
       "              (k): Linear(in_features=1024, out_features=1024, bias=False)\n",
       "              (v): Linear(in_features=1024, out_features=1024, bias=False)\n",
       "              (o): Linear(in_features=1024, out_features=1024, bias=False)\n",
       "              (relative_attention_bias): Embedding(32, 16)\n",
       "            )\n",
       "            (layer_norm): T5LayerNorm()\n",
       "            (dropout): Dropout(p=0.1, inplace=False)\n",
       "          )\n",
       "          (1): T5LayerFF(\n",
       "            (DenseReluDense): T5DenseGatedActDense(\n",
       "              (wi_0): Linear(in_features=1024, out_features=2816, bias=False)\n",
       "              (wi_1): Linear(in_features=1024, out_features=2816, bias=False)\n",
       "              (wo): Linear(in_features=2816, out_features=1024, bias=False)\n",
       "              (dropout): Dropout(p=0.1, inplace=False)\n",
       "              (act): NewGELUActivation()\n",
       "            )\n",
       "            (layer_norm): T5LayerNorm()\n",
       "            (dropout): Dropout(p=0.1, inplace=False)\n",
       "          )\n",
       "        )\n",
       "      )\n",
       "      (1-23): 23 x T5Block(\n",
       "        (layer): ModuleList(\n",
       "          (0): T5LayerSelfAttention(\n",
       "            (SelfAttention): T5Attention(\n",
       "              (q): Linear(in_features=1024, out_features=1024, bias=False)\n",
       "              (k): Linear(in_features=1024, out_features=1024, bias=False)\n",
       "              (v): Linear(in_features=1024, out_features=1024, bias=False)\n",
       "              (o): Linear(in_features=1024, out_features=1024, bias=False)\n",
       "            )\n",
       "            (layer_norm): T5LayerNorm()\n",
       "            (dropout): Dropout(p=0.1, inplace=False)\n",
       "          )\n",
       "          (1): T5LayerFF(\n",
       "            (DenseReluDense): T5DenseGatedActDense(\n",
       "              (wi_0): Linear(in_features=1024, out_features=2816, bias=False)\n",
       "              (wi_1): Linear(in_features=1024, out_features=2816, bias=False)\n",
       "              (wo): Linear(in_features=2816, out_features=1024, bias=False)\n",
       "              (dropout): Dropout(p=0.1, inplace=False)\n",
       "              (act): NewGELUActivation()\n",
       "            )\n",
       "            (layer_norm): T5LayerNorm()\n",
       "            (dropout): Dropout(p=0.1, inplace=False)\n",
       "          )\n",
       "        )\n",
       "      )\n",
       "    )\n",
       "    (final_layer_norm): T5LayerNorm()\n",
       "    (dropout): Dropout(p=0.1, inplace=False)\n",
       "  )\n",
       "  (head): PretrainHead(\n",
       "    (dropout): Dropout(p=0.1, inplace=False)\n",
       "    (linear): Linear(in_features=1024, out_features=8, bias=True)\n",
       "  )\n",
       ")"
      ]
     },
     "execution_count": 7,
     "metadata": {},
     "output_type": "execute_result"
    }
   ],
   "source": [
    "model"
   ]
  },
  {
   "cell_type": "code",
   "execution_count": 8,
   "metadata": {},
   "outputs": [
    {
     "data": {
      "text/plain": [
       "(tensor([[ 97.0000, 102.0000, 105.0000, 104.0000, 103.0000, 101.0000, 100.2500,\n",
       "           99.5000,  98.7500,  98.0000,  97.2500,  96.5000,  95.7500,  95.0000,\n",
       "           91.0000,  93.0000,  94.0000,  93.0000,  92.5000,  92.0000,  89.0000,\n",
       "           86.0000,  83.0000,  61.0000,  60.0000,  60.5000,  61.0000,  61.0000,\n",
       "           61.0000,  61.0000,  57.0000,  55.5000,  54.0000,  54.5000,  55.0000,\n",
       "           56.5000,  58.0000,  59.0000,  60.0000,  59.5000,  59.0000,  58.0000,\n",
       "           57.0000,  56.5000,  56.0000,  57.0000,  58.0000,  57.6667,  57.3333,\n",
       "           57.0000,  58.0000,  60.0000,  60.0000,  59.3333,  58.6667,  58.0000,\n",
       "           57.0000,  55.0000,  54.0000,  52.0000,  53.0000,  53.0000,  53.0000,\n",
       "           53.0000,  53.0000,  53.5000,  54.0000,  53.5000,  53.0000,  53.0000,\n",
       "           53.0000,  53.0000,  53.0000,  53.0000,  53.0000,  53.0000,  53.5000,\n",
       "           54.0000,  55.0000,  55.3333,  55.6667,  56.0000,  57.0000,  58.0000,\n",
       "           60.0000,  62.0000,  63.0000,  64.0000,  66.0000,  66.5000,  67.0000,\n",
       "           68.0000,  68.0000,  68.0000,  68.0000,  68.0000,  68.0000,  68.0000,\n",
       "           68.0000,  68.0000,  68.0000,  70.0000,  74.0000,  75.0000,  76.0000,\n",
       "           76.0000,  74.0000,  76.0000,  78.0000,  77.8167,  77.6333,  77.4500,\n",
       "           77.2667,  77.0833,  76.9000,  76.7167,  76.5333,  76.3500,  76.1667,\n",
       "           75.9833,      nan,      nan,      nan,      nan,      nan,      nan,\n",
       "               nan,      nan,      nan,      nan,      nan,      nan,      nan,\n",
       "               nan,      nan,      nan,      nan,      nan,      nan,      nan,\n",
       "               nan,      nan,      nan,      nan,      nan,      nan,      nan,\n",
       "               nan,      nan,      nan,      nan,      nan,      nan,      nan,\n",
       "               nan,      nan,      nan,      nan,      nan,      nan,      nan,\n",
       "               nan,      nan,      nan,      nan,      nan,      nan,      nan,\n",
       "           67.0000,  68.0000,  83.0000,  70.0000,  71.0000,  72.0000,  73.2500,\n",
       "           74.5000,  75.7500,  77.0000,  78.2500,  79.5000,  80.7500,  82.0000,\n",
       "           81.5000,  81.0000,  82.0000,  83.0000,  81.0000,  79.0000,  82.0000,\n",
       "           83.0000,  82.0000,  83.0000,  83.5000,  84.0000,  86.0000,  87.0000,\n",
       "           88.0000,  87.0000,  86.0000,  84.0000,  83.0000,  82.0000,  81.0000,\n",
       "           80.0000,  80.0000,  80.0000,  80.0000,  80.0000,  78.0000,  77.0000,\n",
       "           76.5000,  76.0000,  79.0000,  79.0000,  79.0000,  79.0000,  79.6667,\n",
       "           80.3333,  81.0000,  81.0000,  81.0000,  82.0000,  83.0000,  87.0000,\n",
       "           90.0000,  91.0000,  89.0000,  89.0000,  89.6667,  90.3333,  91.0000,\n",
       "           92.0000,  91.0000,  85.0000,  86.0000,  90.0000,  92.0000,  93.0000,\n",
       "           92.5000,  92.0000,  92.0000,  93.0000,  95.0000,  95.0000,  95.0000,\n",
       "           95.0000,  93.0000,  92.0000,  92.0000,  92.0000,  92.0000,  92.0000,\n",
       "           92.0000,  92.0000,  91.5000,  91.0000,  89.0000,  89.0000,  89.0000,\n",
       "           87.6667,  86.3333,  85.0000,  82.0000,  82.0000,  82.0000,  82.0000,\n",
       "           84.0000,  85.0000,  85.0000,  87.0000,  87.0000,  87.0000,  87.0000,\n",
       "           86.0000,  85.5000,  85.0000,  85.0000,  85.0000,  85.0000,  86.0000,\n",
       "           86.0000,  86.0000,  86.0000,  85.5000,  85.0000,  85.0000,  84.5000,\n",
       "           84.0000,  83.0000,  82.0000,  84.0000,  85.0000,  86.0000,  86.5000,\n",
       "           87.0000,  87.0000,  87.0000,  87.0000,  86.0000,  86.0000,  86.0000,\n",
       "           86.0000,  84.0000,  82.0000,  81.0000,  81.0000,  81.0000,  81.0000,\n",
       "           80.0000,  80.0000,  80.0000,  80.0000,  79.5000,  79.0000,  77.0000,\n",
       "           75.0000,  77.0000,  77.0000,  77.0000,  76.0000,  77.0000,  78.0000,\n",
       "           78.0000,  78.0000,  78.0000,  78.0000,  78.0000,  78.0000,  78.5000,\n",
       "           79.0000,  81.0000,  79.0000,  80.0000,  80.0000,  80.0000,  80.0000,\n",
       "           80.0000,  80.0000,  80.0000,  80.0000,  80.5000,  81.0000,  80.0000,\n",
       "           79.0000,  79.0000,  79.0000,  78.0000,  80.0000,  81.0000,  82.0000,\n",
       "           85.0000,  83.0000,  83.0000,  83.5000,  84.0000,  85.0000,  88.0000,\n",
       "           89.0000,  89.0000,  88.0000,  88.0000,  88.0000,  88.0000,  88.0000,\n",
       "           88.6667,  89.3333,  90.0000,  92.0000,  92.5000,  93.0000,  92.5000,\n",
       "           92.0000,  91.5000,  91.0000,  90.0000,  89.0000,  89.5000,  90.0000,\n",
       "           89.5000,  89.0000,  88.0000,  87.6667,  87.3333,  87.0000,  88.0000,\n",
       "           92.0000,  93.0000,  94.0000,  92.0000,  94.0000,  93.0000,  91.0000,\n",
       "           90.0000,  88.0000,  88.0000,  87.5000,  87.0000,  88.0000,  89.0000,\n",
       "           89.3333,  89.6667,  90.0000,  87.0000,  84.0000,  85.0000,  87.0000,\n",
       "           88.0000,  89.0000,  88.0000,  90.0000,  93.0000,  93.5000,  94.0000,\n",
       "           96.0000,  97.0000,  98.0000, 100.0000, 101.0000,  99.0000, 100.0000,\n",
       "          101.0000, 102.0000, 101.5000, 101.0000,  99.0000, 100.0000, 101.0000,\n",
       "          102.0000, 102.5000, 103.0000, 103.0000, 101.0000,  99.0000, 100.0000,\n",
       "          102.0000, 105.0000, 107.0000, 105.5000, 104.0000, 103.0000, 103.5000,\n",
       "          104.0000, 105.0000, 108.0000, 104.0000, 105.0000, 103.0000, 104.0000,\n",
       "           99.0000,  98.3333,  97.6667,  97.0000,  94.0000,  94.5000,  95.0000,\n",
       "           94.5000,  94.0000,  94.0000,  94.0000,  93.0000,  95.5000,  98.0000,\n",
       "          104.0000, 105.0000, 108.0000, 107.5000, 107.0000, 106.5000, 106.0000,\n",
       "          103.0000, 104.5000, 106.0000, 110.0000, 112.0000, 111.0000, 108.0000,\n",
       "          106.0000, 105.0000, 105.0000, 105.0000, 105.0000, 105.3333, 105.6667,\n",
       "          106.0000, 104.5000, 103.0000, 101.6667, 100.3333,  99.0000, 100.0000,\n",
       "          101.0000, 102.5000, 104.0000, 105.0000,  99.0000,  93.0000,  92.0000,\n",
       "           87.0000,  72.0000,  72.0000,  72.0000,  72.0000,  72.3333,  72.6667,\n",
       "           73.0000,  70.0000,  70.6667,  71.3333,  72.0000,  75.0000,  78.0000,\n",
       "           81.0000]]),\n",
       " tensor([[ True,  True,  True,  True,  True,  True,  True,  True,  True,  True,\n",
       "           True,  True,  True,  True,  True,  True,  True,  True,  True,  True,\n",
       "           True,  True,  True,  True,  True,  True,  True,  True,  True,  True,\n",
       "           True,  True,  True,  True,  True,  True,  True,  True,  True,  True,\n",
       "           True,  True,  True,  True,  True,  True,  True,  True,  True,  True,\n",
       "           True,  True,  True,  True,  True,  True,  True,  True,  True,  True,\n",
       "           True,  True,  True,  True,  True,  True,  True,  True,  True,  True,\n",
       "           True,  True,  True,  True,  True,  True,  True,  True,  True,  True,\n",
       "           True,  True,  True,  True,  True,  True,  True,  True,  True,  True,\n",
       "           True,  True,  True,  True,  True,  True,  True,  True,  True,  True,\n",
       "           True,  True,  True,  True,  True,  True,  True,  True,  True,  True,\n",
       "           True,  True,  True,  True,  True,  True,  True,  True,  True,  True,\n",
       "          False, False, False, False, False, False, False, False, False, False,\n",
       "          False, False, False, False, False, False, False, False, False, False,\n",
       "          False, False, False, False, False, False, False, False, False, False,\n",
       "          False, False, False, False, False, False, False, False, False, False,\n",
       "          False, False, False, False, False, False, False, False,  True,  True,\n",
       "           True,  True,  True,  True,  True,  True,  True,  True,  True,  True,\n",
       "           True,  True,  True,  True,  True,  True,  True,  True,  True,  True,\n",
       "           True,  True,  True,  True,  True,  True,  True,  True,  True,  True,\n",
       "           True,  True,  True,  True,  True,  True,  True,  True,  True,  True,\n",
       "           True,  True,  True,  True,  True,  True,  True,  True,  True,  True,\n",
       "           True,  True,  True,  True,  True,  True,  True,  True,  True,  True,\n",
       "           True,  True,  True,  True,  True,  True,  True,  True,  True,  True,\n",
       "           True,  True,  True,  True,  True,  True,  True,  True,  True,  True,\n",
       "           True,  True,  True,  True,  True,  True,  True,  True,  True,  True,\n",
       "           True,  True,  True,  True,  True,  True,  True,  True,  True,  True,\n",
       "           True,  True,  True,  True,  True,  True,  True,  True,  True,  True,\n",
       "           True,  True,  True,  True,  True,  True,  True,  True,  True,  True,\n",
       "           True,  True,  True,  True,  True,  True,  True,  True,  True,  True,\n",
       "           True,  True,  True,  True,  True,  True,  True,  True,  True,  True,\n",
       "           True,  True,  True,  True,  True,  True,  True,  True,  True,  True,\n",
       "           True,  True,  True,  True,  True,  True,  True,  True,  True,  True,\n",
       "           True,  True,  True,  True,  True,  True,  True,  True,  True,  True,\n",
       "           True,  True,  True,  True,  True,  True,  True,  True,  True,  True,\n",
       "           True,  True,  True,  True,  True,  True,  True,  True,  True,  True,\n",
       "           True,  True,  True,  True,  True,  True,  True,  True,  True,  True,\n",
       "           True,  True,  True,  True,  True,  True,  True,  True,  True,  True,\n",
       "           True,  True,  True,  True,  True,  True,  True,  True,  True,  True,\n",
       "           True,  True,  True,  True,  True,  True,  True,  True,  True,  True,\n",
       "           True,  True,  True,  True,  True,  True,  True,  True,  True,  True,\n",
       "           True,  True,  True,  True,  True,  True,  True,  True,  True,  True,\n",
       "           True,  True,  True,  True,  True,  True,  True,  True,  True,  True,\n",
       "           True,  True,  True,  True,  True,  True,  True,  True,  True,  True,\n",
       "           True,  True,  True,  True,  True,  True,  True,  True,  True,  True,\n",
       "           True,  True,  True,  True,  True,  True,  True,  True,  True,  True,\n",
       "           True,  True,  True,  True,  True,  True,  True,  True,  True,  True,\n",
       "           True,  True,  True,  True,  True,  True,  True,  True,  True,  True,\n",
       "           True,  True,  True,  True,  True,  True,  True,  True,  True,  True,\n",
       "           True,  True,  True,  True,  True,  True,  True,  True,  True,  True,\n",
       "           True,  True,  True,  True,  True,  True,  True,  True,  True,  True,\n",
       "           True,  True]]))"
      ]
     },
     "execution_count": 8,
     "metadata": {},
     "output_type": "execute_result"
    }
   ],
   "source": [
    "dataloader = DataLoader(dataset, batch_size=1)\n",
    "x, mask = next(iter(dataloader))\n",
    "x, mask"
   ]
  },
  {
   "cell_type": "code",
   "execution_count": 9,
   "metadata": {},
   "outputs": [
    {
     "data": {
      "text/plain": [
       "torch.Size([1, 1, 512])"
      ]
     },
     "execution_count": 9,
     "metadata": {},
     "output_type": "execute_result"
    }
   ],
   "source": [
    "x = x[None, :, :]\n",
    "x.shape"
   ]
  },
  {
   "cell_type": "code",
   "execution_count": 10,
   "metadata": {},
   "outputs": [],
   "source": [
    "with torch.no_grad():\n",
    "    output = model(x_enc=x, input_mask=mask)"
   ]
  },
  {
   "cell_type": "code",
   "execution_count": 11,
   "metadata": {},
   "outputs": [],
   "source": [
    "pred = output.reconstruction.squeeze().numpy()\n",
    "true = x.squeeze().numpy()\n",
    "anomaly_score = (true - pred)**2"
   ]
  },
  {
   "cell_type": "code",
   "execution_count": 12,
   "metadata": {},
   "outputs": [
    {
     "data": {
      "text/plain": [
       "[<matplotlib.lines.Line2D at 0x24520c3b490>]"
      ]
     },
     "execution_count": 12,
     "metadata": {},
     "output_type": "execute_result"
    },
    {
     "data": {
      "image/png": "[encoded data removed]",
      "text/plain": [
       "<Figure size 640x480 with 1 Axes>"
      ]
     },
     "metadata": {},
     "output_type": "display_data"
    }
   ],
   "source": [
    "import matplotlib.pyplot as plt\n",
    "\n",
    "plt.plot(true)\n",
    "plt.plot(pred)\n",
    "plt.plot(anomaly_score)"
   ]
  }
 ],
 "metadata": {
  "kernelspec": {
   "display_name": "env",
   "language": "python",
   "name": "python3"
  },
  "language_info": {
   "codemirror_mode": {
    "name": "ipython",
    "version": 3
   },
   "file_extension": ".py",
   "mimetype": "text/x-python",
   "name": "python",
   "nbconvert_exporter": "python",
   "pygments_lexer": "ipython3",
   "version": "3.11.2"
  }
 },
 "nbformat": 4,
 "nbformat_minor": 2
}
