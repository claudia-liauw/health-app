{
 "cells": [
  {
   "cell_type": "code",
   "execution_count": 1,
   "metadata": {},
   "outputs": [],
   "source": [
    "import pandas as pd\n",
    "import plotly.express as px"
   ]
  },
  {
   "cell_type": "markdown",
   "metadata": {},
   "source": [
    "# Steps"
   ]
  },
  {
   "cell_type": "markdown",
   "metadata": {},
   "source": [
    "## Hourly"
   ]
  },
  {
   "cell_type": "code",
   "execution_count": 2,
   "metadata": {},
   "outputs": [
    {
     "data": {
      "text/html": [
       "<div>\n",
       "<style scoped>\n",
       "    .dataframe tbody tr th:only-of-type {\n",
       "        vertical-align: middle;\n",
       "    }\n",
       "\n",
       "    .dataframe tbody tr th {\n",
       "        vertical-align: top;\n",
       "    }\n",
       "\n",
       "    .dataframe thead th {\n",
       "        text-align: right;\n",
       "    }\n",
       "</style>\n",
       "<table border=\"1\" class=\"dataframe\">\n",
       "  <thead>\n",
       "    <tr style=\"text-align: right;\">\n",
       "      <th></th>\n",
       "      <th>Id</th>\n",
       "      <th>ActivityHour</th>\n",
       "      <th>StepTotal</th>\n",
       "    </tr>\n",
       "  </thead>\n",
       "  <tbody>\n",
       "    <tr>\n",
       "      <th>0</th>\n",
       "      <td>1503960366</td>\n",
       "      <td>4/12/2016 12:00:00 AM</td>\n",
       "      <td>373</td>\n",
       "    </tr>\n",
       "    <tr>\n",
       "      <th>1</th>\n",
       "      <td>1503960366</td>\n",
       "      <td>4/12/2016 1:00:00 AM</td>\n",
       "      <td>160</td>\n",
       "    </tr>\n",
       "    <tr>\n",
       "      <th>2</th>\n",
       "      <td>1503960366</td>\n",
       "      <td>4/12/2016 2:00:00 AM</td>\n",
       "      <td>151</td>\n",
       "    </tr>\n",
       "    <tr>\n",
       "      <th>3</th>\n",
       "      <td>1503960366</td>\n",
       "      <td>4/12/2016 3:00:00 AM</td>\n",
       "      <td>0</td>\n",
       "    </tr>\n",
       "    <tr>\n",
       "      <th>4</th>\n",
       "      <td>1503960366</td>\n",
       "      <td>4/12/2016 4:00:00 AM</td>\n",
       "      <td>0</td>\n",
       "    </tr>\n",
       "    <tr>\n",
       "      <th>...</th>\n",
       "      <td>...</td>\n",
       "      <td>...</td>\n",
       "      <td>...</td>\n",
       "    </tr>\n",
       "    <tr>\n",
       "      <th>22094</th>\n",
       "      <td>8877689391</td>\n",
       "      <td>5/12/2016 10:00:00 AM</td>\n",
       "      <td>514</td>\n",
       "    </tr>\n",
       "    <tr>\n",
       "      <th>22095</th>\n",
       "      <td>8877689391</td>\n",
       "      <td>5/12/2016 11:00:00 AM</td>\n",
       "      <td>1407</td>\n",
       "    </tr>\n",
       "    <tr>\n",
       "      <th>22096</th>\n",
       "      <td>8877689391</td>\n",
       "      <td>5/12/2016 12:00:00 PM</td>\n",
       "      <td>3135</td>\n",
       "    </tr>\n",
       "    <tr>\n",
       "      <th>22097</th>\n",
       "      <td>8877689391</td>\n",
       "      <td>5/12/2016 1:00:00 PM</td>\n",
       "      <td>307</td>\n",
       "    </tr>\n",
       "    <tr>\n",
       "      <th>22098</th>\n",
       "      <td>8877689391</td>\n",
       "      <td>5/12/2016 2:00:00 PM</td>\n",
       "      <td>457</td>\n",
       "    </tr>\n",
       "  </tbody>\n",
       "</table>\n",
       "<p>22099 rows × 3 columns</p>\n",
       "</div>"
      ],
      "text/plain": [
       "               Id           ActivityHour  StepTotal\n",
       "0      1503960366  4/12/2016 12:00:00 AM        373\n",
       "1      1503960366   4/12/2016 1:00:00 AM        160\n",
       "2      1503960366   4/12/2016 2:00:00 AM        151\n",
       "3      1503960366   4/12/2016 3:00:00 AM          0\n",
       "4      1503960366   4/12/2016 4:00:00 AM          0\n",
       "...           ...                    ...        ...\n",
       "22094  8877689391  5/12/2016 10:00:00 AM        514\n",
       "22095  8877689391  5/12/2016 11:00:00 AM       1407\n",
       "22096  8877689391  5/12/2016 12:00:00 PM       3135\n",
       "22097  8877689391   5/12/2016 1:00:00 PM        307\n",
       "22098  8877689391   5/12/2016 2:00:00 PM        457\n",
       "\n",
       "[22099 rows x 3 columns]"
      ]
     },
     "execution_count": 2,
     "metadata": {},
     "output_type": "execute_result"
    }
   ],
   "source": [
    "hourly_steps = pd.read_csv('../data/fitbit_apr/hourlySteps_merged.csv')\n",
    "hourly_steps"
   ]
  },
  {
   "cell_type": "code",
   "execution_count": 3,
   "metadata": {},
   "outputs": [
    {
     "name": "stderr",
     "output_type": "stream",
     "text": [
      "C:\\Users\\user\\AppData\\Local\\Temp\\ipykernel_744\\817262792.py:2: UserWarning: Could not infer format, so each element will be parsed individually, falling back to `dateutil`. To ensure parsing is consistent and as-expected, please specify a format.\n",
      "  hourly_steps.Hour = pd.to_datetime(hourly_steps.Hour)\n"
     ]
    }
   ],
   "source": [
    "hourly_steps = hourly_steps.rename(columns={'ActivityHour': 'Hour', 'StepTotal': 'Steps'})\n",
    "hourly_steps.Hour = pd.to_datetime(hourly_steps.Hour)"
   ]
  },
  {
   "cell_type": "code",
   "execution_count": 4,
   "metadata": {},
   "outputs": [],
   "source": [
    "hourly = hourly_steps.loc[(hourly_steps.Id == hourly_steps.Id.unique()[0]) & (hourly_steps.Hour < '2016-04-13')]"
   ]
  },
  {
   "cell_type": "code",
   "execution_count": 5,
   "metadata": {},
   "outputs": [
    {
     "data": {
      "application/vnd.plotly.v1+json": {
       "config": {
        "plotlyServerURL": "https://plot.ly"
       },
       "data": [
        {
         "alignmentgroup": "True",
         "hovertemplate": "Hour=%{x}<br>Steps=%{y}<extra></extra>",
         "legendgroup": "",
         "marker": {
          "color": "#636efa",
          "pattern": {
           "shape": ""
          }
         },
         "name": "",
         "offsetgroup": "",
         "orientation": "v",
         "showlegend": false,
         "textposition": "auto",
         "type": "bar",
         "x": [
          "2016-04-12T00:00:00",
          "2016-04-12T01:00:00",
          "2016-04-12T02:00:00",
          "2016-04-12T03:00:00",
          "2016-04-12T04:00:00",
          "2016-04-12T05:00:00",
          "2016-04-12T06:00:00",
          "2016-04-12T07:00:00",
          "2016-04-12T08:00:00",
          "2016-04-12T09:00:00",
          "2016-04-12T10:00:00",
          "2016-04-12T11:00:00",
          "2016-04-12T12:00:00",
          "2016-04-12T13:00:00",
          "2016-04-12T14:00:00",
          "2016-04-12T15:00:00",
          "2016-04-12T16:00:00",
          "2016-04-12T17:00:00",
          "2016-04-12T18:00:00",
          "2016-04-12T19:00:00",
          "2016-04-12T20:00:00",
          "2016-04-12T21:00:00",
          "2016-04-12T22:00:00",
          "2016-04-12T23:00:00"
         ],
         "xaxis": "x",
         "y": [
          373,
          160,
          151,
          0,
          0,
          0,
          0,
          0,
          250,
          1864,
          676,
          360,
          253,
          221,
          1166,
          2063,
          344,
          489,
          1386,
          558,
          1733,
          684,
          89,
          338
         ],
         "yaxis": "y"
        }
       ],
       "layout": {
        "barmode": "relative",
        "legend": {
         "tracegroupgap": 0
        },
        "margin": {
         "t": 60
        },
        "template": {
         "data": {
          "bar": [
           {
            "error_x": {
             "color": "#2a3f5f"
            },
            "error_y": {
             "color": "#2a3f5f"
            },
            "marker": {
             "line": {
              "color": "#E5ECF6",
              "width": 0.5
             },
             "pattern": {
              "fillmode": "overlay",
              "size": 10,
              "solidity": 0.2
             }
            },
            "type": "bar"
           }
          ],
          "barpolar": [
           {
            "marker": {
             "line": {
              "color": "#E5ECF6",
              "width": 0.5
             },
             "pattern": {
              "fillmode": "overlay",
              "size": 10,
              "solidity": 0.2
             }
            },
            "type": "barpolar"
           }
          ],
          "carpet": [
           {
            "aaxis": {
             "endlinecolor": "#2a3f5f",
             "gridcolor": "white",
             "linecolor": "white",
             "minorgridcolor": "white",
             "startlinecolor": "#2a3f5f"
            },
            "baxis": {
             "endlinecolor": "#2a3f5f",
             "gridcolor": "white",
             "linecolor": "white",
             "minorgridcolor": "white",
             "startlinecolor": "#2a3f5f"
            },
            "type": "carpet"
           }
          ],
          "choropleth": [
           {
            "colorbar": {
             "outlinewidth": 0,
             "ticks": ""
            },
            "type": "choropleth"
           }
          ],
          "contour": [
           {
            "colorbar": {
             "outlinewidth": 0,
             "ticks": ""
            },
            "colorscale": [
             [
              0,
              "#0d0887"
             ],
             [
              0.1111111111111111,
              "#46039f"
             ],
             [
              0.2222222222222222,
              "#7201a8"
             ],
             [
              0.3333333333333333,
              "#9c179e"
             ],
             [
              0.4444444444444444,
              "#bd3786"
             ],
             [
              0.5555555555555556,
              "#d8576b"
             ],
             [
              0.6666666666666666,
              "#ed7953"
             ],
             [
              0.7777777777777778,
              "#fb9f3a"
             ],
             [
              0.8888888888888888,
              "#fdca26"
             ],
             [
              1,
              "#f0f921"
             ]
            ],
            "type": "contour"
           }
          ],
          "contourcarpet": [
           {
            "colorbar": {
             "outlinewidth": 0,
             "ticks": ""
            },
            "type": "contourcarpet"
           }
          ],
          "heatmap": [
           {
            "colorbar": {
             "outlinewidth": 0,
             "ticks": ""
            },
            "colorscale": [
             [
              0,
              "#0d0887"
             ],
             [
              0.1111111111111111,
              "#46039f"
             ],
             [
              0.2222222222222222,
              "#7201a8"
             ],
             [
              0.3333333333333333,
              "#9c179e"
             ],
             [
              0.4444444444444444,
              "#bd3786"
             ],
             [
              0.5555555555555556,
              "#d8576b"
             ],
             [
              0.6666666666666666,
              "#ed7953"
             ],
             [
              0.7777777777777778,
              "#fb9f3a"
             ],
             [
              0.8888888888888888,
              "#fdca26"
             ],
             [
              1,
              "#f0f921"
             ]
            ],
            "type": "heatmap"
           }
          ],
          "heatmapgl": [
           {
            "colorbar": {
             "outlinewidth": 0,
             "ticks": ""
            },
            "colorscale": [
             [
              0,
              "#0d0887"
             ],
             [
              0.1111111111111111,
              "#46039f"
             ],
             [
              0.2222222222222222,
              "#7201a8"
             ],
             [
              0.3333333333333333,
              "#9c179e"
             ],
             [
              0.4444444444444444,
              "#bd3786"
             ],
             [
              0.5555555555555556,
              "#d8576b"
             ],
             [
              0.6666666666666666,
              "#ed7953"
             ],
             [
              0.7777777777777778,
              "#fb9f3a"
             ],
             [
              0.8888888888888888,
              "#fdca26"
             ],
             [
              1,
              "#f0f921"
             ]
            ],
            "type": "heatmapgl"
           }
          ],
          "histogram": [
           {
            "marker": {
             "pattern": {
              "fillmode": "overlay",
              "size": 10,
              "solidity": 0.2
             }
            },
            "type": "histogram"
           }
          ],
          "histogram2d": [
           {
            "colorbar": {
             "outlinewidth": 0,
             "ticks": ""
            },
            "colorscale": [
             [
              0,
              "#0d0887"
             ],
             [
              0.1111111111111111,
              "#46039f"
             ],
             [
              0.2222222222222222,
              "#7201a8"
             ],
             [
              0.3333333333333333,
              "#9c179e"
             ],
             [
              0.4444444444444444,
              "#bd3786"
             ],
             [
              0.5555555555555556,
              "#d8576b"
             ],
             [
              0.6666666666666666,
              "#ed7953"
             ],
             [
              0.7777777777777778,
              "#fb9f3a"
             ],
             [
              0.8888888888888888,
              "#fdca26"
             ],
             [
              1,
              "#f0f921"
             ]
            ],
            "type": "histogram2d"
           }
          ],
          "histogram2dcontour": [
           {
            "colorbar": {
             "outlinewidth": 0,
             "ticks": ""
            },
            "colorscale": [
             [
              0,
              "#0d0887"
             ],
             [
              0.1111111111111111,
              "#46039f"
             ],
             [
              0.2222222222222222,
              "#7201a8"
             ],
             [
              0.3333333333333333,
              "#9c179e"
             ],
             [
              0.4444444444444444,
              "#bd3786"
             ],
             [
              0.5555555555555556,
              "#d8576b"
             ],
             [
              0.6666666666666666,
              "#ed7953"
             ],
             [
              0.7777777777777778,
              "#fb9f3a"
             ],
             [
              0.8888888888888888,
              "#fdca26"
             ],
             [
              1,
              "#f0f921"
             ]
            ],
            "type": "histogram2dcontour"
           }
          ],
          "mesh3d": [
           {
            "colorbar": {
             "outlinewidth": 0,
             "ticks": ""
            },
            "type": "mesh3d"
           }
          ],
          "parcoords": [
           {
            "line": {
             "colorbar": {
              "outlinewidth": 0,
              "ticks": ""
             }
            },
            "type": "parcoords"
           }
          ],
          "pie": [
           {
            "automargin": true,
            "type": "pie"
           }
          ],
          "scatter": [
           {
            "fillpattern": {
             "fillmode": "overlay",
             "size": 10,
             "solidity": 0.2
            },
            "type": "scatter"
           }
          ],
          "scatter3d": [
           {
            "line": {
             "colorbar": {
              "outlinewidth": 0,
              "ticks": ""
             }
            },
            "marker": {
             "colorbar": {
              "outlinewidth": 0,
              "ticks": ""
             }
            },
            "type": "scatter3d"
           }
          ],
          "scattercarpet": [
           {
            "marker": {
             "colorbar": {
              "outlinewidth": 0,
              "ticks": ""
             }
            },
            "type": "scattercarpet"
           }
          ],
          "scattergeo": [
           {
            "marker": {
             "colorbar": {
              "outlinewidth": 0,
              "ticks": ""
             }
            },
            "type": "scattergeo"
           }
          ],
          "scattergl": [
           {
            "marker": {
             "colorbar": {
              "outlinewidth": 0,
              "ticks": ""
             }
            },
            "type": "scattergl"
           }
          ],
          "scattermapbox": [
           {
            "marker": {
             "colorbar": {
              "outlinewidth": 0,
              "ticks": ""
             }
            },
            "type": "scattermapbox"
           }
          ],
          "scatterpolar": [
           {
            "marker": {
             "colorbar": {
              "outlinewidth": 0,
              "ticks": ""
             }
            },
            "type": "scatterpolar"
           }
          ],
          "scatterpolargl": [
           {
            "marker": {
             "colorbar": {
              "outlinewidth": 0,
              "ticks": ""
             }
            },
            "type": "scatterpolargl"
           }
          ],
          "scatterternary": [
           {
            "marker": {
             "colorbar": {
              "outlinewidth": 0,
              "ticks": ""
             }
            },
            "type": "scatterternary"
           }
          ],
          "surface": [
           {
            "colorbar": {
             "outlinewidth": 0,
             "ticks": ""
            },
            "colorscale": [
             [
              0,
              "#0d0887"
             ],
             [
              0.1111111111111111,
              "#46039f"
             ],
             [
              0.2222222222222222,
              "#7201a8"
             ],
             [
              0.3333333333333333,
              "#9c179e"
             ],
             [
              0.4444444444444444,
              "#bd3786"
             ],
             [
              0.5555555555555556,
              "#d8576b"
             ],
             [
              0.6666666666666666,
              "#ed7953"
             ],
             [
              0.7777777777777778,
              "#fb9f3a"
             ],
             [
              0.8888888888888888,
              "#fdca26"
             ],
             [
              1,
              "#f0f921"
             ]
            ],
            "type": "surface"
           }
          ],
          "table": [
           {
            "cells": {
             "fill": {
              "color": "#EBF0F8"
             },
             "line": {
              "color": "white"
             }
            },
            "header": {
             "fill": {
              "color": "#C8D4E3"
             },
             "line": {
              "color": "white"
             }
            },
            "type": "table"
           }
          ]
         },
         "layout": {
          "annotationdefaults": {
           "arrowcolor": "#2a3f5f",
           "arrowhead": 0,
           "arrowwidth": 1
          },
          "autotypenumbers": "strict",
          "coloraxis": {
           "colorbar": {
            "outlinewidth": 0,
            "ticks": ""
           }
          },
          "colorscale": {
           "diverging": [
            [
             0,
             "#8e0152"
            ],
            [
             0.1,
             "#c51b7d"
            ],
            [
             0.2,
             "#de77ae"
            ],
            [
             0.3,
             "#f1b6da"
            ],
            [
             0.4,
             "#fde0ef"
            ],
            [
             0.5,
             "#f7f7f7"
            ],
            [
             0.6,
             "#e6f5d0"
            ],
            [
             0.7,
             "#b8e186"
            ],
            [
             0.8,
             "#7fbc41"
            ],
            [
             0.9,
             "#4d9221"
            ],
            [
             1,
             "#276419"
            ]
           ],
           "sequential": [
            [
             0,
             "#0d0887"
            ],
            [
             0.1111111111111111,
             "#46039f"
            ],
            [
             0.2222222222222222,
             "#7201a8"
            ],
            [
             0.3333333333333333,
             "#9c179e"
            ],
            [
             0.4444444444444444,
             "#bd3786"
            ],
            [
             0.5555555555555556,
             "#d8576b"
            ],
            [
             0.6666666666666666,
             "#ed7953"
            ],
            [
             0.7777777777777778,
             "#fb9f3a"
            ],
            [
             0.8888888888888888,
             "#fdca26"
            ],
            [
             1,
             "#f0f921"
            ]
           ],
           "sequentialminus": [
            [
             0,
             "#0d0887"
            ],
            [
             0.1111111111111111,
             "#46039f"
            ],
            [
             0.2222222222222222,
             "#7201a8"
            ],
            [
             0.3333333333333333,
             "#9c179e"
            ],
            [
             0.4444444444444444,
             "#bd3786"
            ],
            [
             0.5555555555555556,
             "#d8576b"
            ],
            [
             0.6666666666666666,
             "#ed7953"
            ],
            [
             0.7777777777777778,
             "#fb9f3a"
            ],
            [
             0.8888888888888888,
             "#fdca26"
            ],
            [
             1,
             "#f0f921"
            ]
           ]
          },
          "colorway": [
           "#636efa",
           "#EF553B",
           "#00cc96",
           "#ab63fa",
           "#FFA15A",
           "#19d3f3",
           "#FF6692",
           "#B6E880",
           "#FF97FF",
           "#FECB52"
          ],
          "font": {
           "color": "#2a3f5f"
          },
          "geo": {
           "bgcolor": "white",
           "lakecolor": "white",
           "landcolor": "#E5ECF6",
           "showlakes": true,
           "showland": true,
           "subunitcolor": "white"
          },
          "hoverlabel": {
           "align": "left"
          },
          "hovermode": "closest",
          "mapbox": {
           "style": "light"
          },
          "paper_bgcolor": "white",
          "plot_bgcolor": "#E5ECF6",
          "polar": {
           "angularaxis": {
            "gridcolor": "white",
            "linecolor": "white",
            "ticks": ""
           },
           "bgcolor": "#E5ECF6",
           "radialaxis": {
            "gridcolor": "white",
            "linecolor": "white",
            "ticks": ""
           }
          },
          "scene": {
           "xaxis": {
            "backgroundcolor": "#E5ECF6",
            "gridcolor": "white",
            "gridwidth": 2,
            "linecolor": "white",
            "showbackground": true,
            "ticks": "",
            "zerolinecolor": "white"
           },
           "yaxis": {
            "backgroundcolor": "#E5ECF6",
            "gridcolor": "white",
            "gridwidth": 2,
            "linecolor": "white",
            "showbackground": true,
            "ticks": "",
            "zerolinecolor": "white"
           },
           "zaxis": {
            "backgroundcolor": "#E5ECF6",
            "gridcolor": "white",
            "gridwidth": 2,
            "linecolor": "white",
            "showbackground": true,
            "ticks": "",
            "zerolinecolor": "white"
           }
          },
          "shapedefaults": {
           "line": {
            "color": "#2a3f5f"
           }
          },
          "ternary": {
           "aaxis": {
            "gridcolor": "white",
            "linecolor": "white",
            "ticks": ""
           },
           "baxis": {
            "gridcolor": "white",
            "linecolor": "white",
            "ticks": ""
           },
           "bgcolor": "#E5ECF6",
           "caxis": {
            "gridcolor": "white",
            "linecolor": "white",
            "ticks": ""
           }
          },
          "title": {
           "x": 0.05
          },
          "xaxis": {
           "automargin": true,
           "gridcolor": "white",
           "linecolor": "white",
           "ticks": "",
           "title": {
            "standoff": 15
           },
           "zerolinecolor": "white",
           "zerolinewidth": 2
          },
          "yaxis": {
           "automargin": true,
           "gridcolor": "white",
           "linecolor": "white",
           "ticks": "",
           "title": {
            "standoff": 15
           },
           "zerolinecolor": "white",
           "zerolinewidth": 2
          }
         }
        },
        "xaxis": {
         "anchor": "y",
         "domain": [
          0,
          1
         ],
         "title": {
          "text": "Hour"
         }
        },
        "yaxis": {
         "anchor": "x",
         "domain": [
          0,
          1
         ],
         "title": {
          "text": "Steps"
         }
        }
       }
      }
     },
     "metadata": {},
     "output_type": "display_data"
    }
   ],
   "source": [
    "fig = px.bar(hourly, x='Hour', y='Steps')\n",
    "fig.show()"
   ]
  },
  {
   "cell_type": "markdown",
   "metadata": {},
   "source": [
    "## Daily"
   ]
  },
  {
   "cell_type": "code",
   "execution_count": 2,
   "metadata": {},
   "outputs": [
    {
     "data": {
      "text/html": [
       "<div>\n",
       "<style scoped>\n",
       "    .dataframe tbody tr th:only-of-type {\n",
       "        vertical-align: middle;\n",
       "    }\n",
       "\n",
       "    .dataframe tbody tr th {\n",
       "        vertical-align: top;\n",
       "    }\n",
       "\n",
       "    .dataframe thead th {\n",
       "        text-align: right;\n",
       "    }\n",
       "</style>\n",
       "<table border=\"1\" class=\"dataframe\">\n",
       "  <thead>\n",
       "    <tr style=\"text-align: right;\">\n",
       "      <th></th>\n",
       "      <th>Id</th>\n",
       "      <th>ActivityDay</th>\n",
       "      <th>StepTotal</th>\n",
       "    </tr>\n",
       "  </thead>\n",
       "  <tbody>\n",
       "    <tr>\n",
       "      <th>0</th>\n",
       "      <td>1503960366</td>\n",
       "      <td>4/12/2016</td>\n",
       "      <td>13162</td>\n",
       "    </tr>\n",
       "    <tr>\n",
       "      <th>1</th>\n",
       "      <td>1503960366</td>\n",
       "      <td>4/13/2016</td>\n",
       "      <td>10735</td>\n",
       "    </tr>\n",
       "    <tr>\n",
       "      <th>2</th>\n",
       "      <td>1503960366</td>\n",
       "      <td>4/14/2016</td>\n",
       "      <td>10460</td>\n",
       "    </tr>\n",
       "    <tr>\n",
       "      <th>3</th>\n",
       "      <td>1503960366</td>\n",
       "      <td>4/15/2016</td>\n",
       "      <td>9762</td>\n",
       "    </tr>\n",
       "    <tr>\n",
       "      <th>4</th>\n",
       "      <td>1503960366</td>\n",
       "      <td>4/16/2016</td>\n",
       "      <td>12669</td>\n",
       "    </tr>\n",
       "    <tr>\n",
       "      <th>...</th>\n",
       "      <td>...</td>\n",
       "      <td>...</td>\n",
       "      <td>...</td>\n",
       "    </tr>\n",
       "    <tr>\n",
       "      <th>935</th>\n",
       "      <td>8877689391</td>\n",
       "      <td>5/8/2016</td>\n",
       "      <td>10686</td>\n",
       "    </tr>\n",
       "    <tr>\n",
       "      <th>936</th>\n",
       "      <td>8877689391</td>\n",
       "      <td>5/9/2016</td>\n",
       "      <td>20226</td>\n",
       "    </tr>\n",
       "    <tr>\n",
       "      <th>937</th>\n",
       "      <td>8877689391</td>\n",
       "      <td>5/10/2016</td>\n",
       "      <td>10733</td>\n",
       "    </tr>\n",
       "    <tr>\n",
       "      <th>938</th>\n",
       "      <td>8877689391</td>\n",
       "      <td>5/11/2016</td>\n",
       "      <td>21420</td>\n",
       "    </tr>\n",
       "    <tr>\n",
       "      <th>939</th>\n",
       "      <td>8877689391</td>\n",
       "      <td>5/12/2016</td>\n",
       "      <td>8064</td>\n",
       "    </tr>\n",
       "  </tbody>\n",
       "</table>\n",
       "<p>940 rows × 3 columns</p>\n",
       "</div>"
      ],
      "text/plain": [
       "             Id ActivityDay  StepTotal\n",
       "0    1503960366   4/12/2016      13162\n",
       "1    1503960366   4/13/2016      10735\n",
       "2    1503960366   4/14/2016      10460\n",
       "3    1503960366   4/15/2016       9762\n",
       "4    1503960366   4/16/2016      12669\n",
       "..          ...         ...        ...\n",
       "935  8877689391    5/8/2016      10686\n",
       "936  8877689391    5/9/2016      20226\n",
       "937  8877689391   5/10/2016      10733\n",
       "938  8877689391   5/11/2016      21420\n",
       "939  8877689391   5/12/2016       8064\n",
       "\n",
       "[940 rows x 3 columns]"
      ]
     },
     "execution_count": 2,
     "metadata": {},
     "output_type": "execute_result"
    }
   ],
   "source": [
    "daily_steps = pd.read_csv('../data/fitbit_apr/dailySteps_merged.csv')\n",
    "daily_steps"
   ]
  },
  {
   "cell_type": "code",
   "execution_count": 3,
   "metadata": {},
   "outputs": [],
   "source": [
    "daily_steps = daily_steps.rename(columns={'ActivityDay': 'Date', 'StepTotal': 'Steps'})\n",
    "daily_steps.Date = pd.to_datetime(daily_steps.Date)"
   ]
  },
  {
   "cell_type": "code",
   "execution_count": 4,
   "metadata": {},
   "outputs": [],
   "source": [
    "daily = daily_steps.loc[(daily_steps.Id == daily_steps.Id.unique()[0]) & (daily_steps.Date < '2016-04-19')]"
   ]
  },
  {
   "cell_type": "code",
   "execution_count": 5,
   "metadata": {},
   "outputs": [
    {
     "name": "stderr",
     "output_type": "stream",
     "text": [
      "C:\\Users\\user\\AppData\\Local\\Temp\\ipykernel_40236\\3164538546.py:1: SettingWithCopyWarning: \n",
      "A value is trying to be set on a copy of a slice from a DataFrame.\n",
      "Try using .loc[row_indexer,col_indexer] = value instead\n",
      "\n",
      "See the caveats in the documentation: https://pandas.pydata.org/pandas-docs/stable/user_guide/indexing.html#returning-a-view-versus-a-copy\n",
      "  daily['target'] = daily.Steps > 10000\n"
     ]
    }
   ],
   "source": [
    "daily['target'] = daily.Steps > 10000"
   ]
  },
  {
   "cell_type": "code",
   "execution_count": 7,
   "metadata": {},
   "outputs": [
    {
     "data": {
      "application/vnd.plotly.v1+json": {
       "config": {
        "plotlyServerURL": "https://plot.ly"
       },
       "data": [
        {
         "alignmentgroup": "True",
         "hovertemplate": "target=True<br>Date=%{x}<br>Steps=%{y}<extra></extra>",
         "legendgroup": "True",
         "marker": {
          "color": "rgb(27,158,119)",
          "pattern": {
           "shape": ""
          }
         },
         "name": "True",
         "offsetgroup": "True",
         "orientation": "v",
         "showlegend": true,
         "textposition": "auto",
         "type": "bar",
         "x": [
          "2016-04-12T00:00:00",
          "2016-04-13T00:00:00",
          "2016-04-14T00:00:00",
          "2016-04-16T00:00:00",
          "2016-04-18T00:00:00"
         ],
         "xaxis": "x",
         "y": [
          13162,
          10735,
          10460,
          12669,
          13019
         ],
         "yaxis": "y"
        },
        {
         "alignmentgroup": "True",
         "hovertemplate": "target=False<br>Date=%{x}<br>Steps=%{y}<extra></extra>",
         "legendgroup": "False",
         "marker": {
          "color": "rgb(217,95,2)",
          "pattern": {
           "shape": ""
          }
         },
         "name": "False",
         "offsetgroup": "False",
         "orientation": "v",
         "showlegend": true,
         "textposition": "auto",
         "type": "bar",
         "x": [
          "2016-04-15T00:00:00",
          "2016-04-17T00:00:00"
         ],
         "xaxis": "x",
         "y": [
          9762,
          9705
         ],
         "yaxis": "y"
        }
       ],
       "layout": {
        "barmode": "relative",
        "legend": {
         "title": {
          "text": "target"
         },
         "tracegroupgap": 0
        },
        "margin": {
         "t": 60
        },
        "shapes": [
         {
          "line": {
           "dash": "dash"
          },
          "type": "line",
          "x0": 0,
          "x1": 1,
          "xref": "x domain",
          "y0": 10000,
          "y1": 10000,
          "yref": "y"
         }
        ],
        "showlegend": false,
        "template": {
         "data": {
          "bar": [
           {
            "error_x": {
             "color": "#2a3f5f"
            },
            "error_y": {
             "color": "#2a3f5f"
            },
            "marker": {
             "line": {
              "color": "#E5ECF6",
              "width": 0.5
             },
             "pattern": {
              "fillmode": "overlay",
              "size": 10,
              "solidity": 0.2
             }
            },
            "type": "bar"
           }
          ],
          "barpolar": [
           {
            "marker": {
             "line": {
              "color": "#E5ECF6",
              "width": 0.5
             },
             "pattern": {
              "fillmode": "overlay",
              "size": 10,
              "solidity": 0.2
             }
            },
            "type": "barpolar"
           }
          ],
          "carpet": [
           {
            "aaxis": {
             "endlinecolor": "#2a3f5f",
             "gridcolor": "white",
             "linecolor": "white",
             "minorgridcolor": "white",
             "startlinecolor": "#2a3f5f"
            },
            "baxis": {
             "endlinecolor": "#2a3f5f",
             "gridcolor": "white",
             "linecolor": "white",
             "minorgridcolor": "white",
             "startlinecolor": "#2a3f5f"
            },
            "type": "carpet"
           }
          ],
          "choropleth": [
           {
            "colorbar": {
             "outlinewidth": 0,
             "ticks": ""
            },
            "type": "choropleth"
           }
          ],
          "contour": [
           {
            "colorbar": {
             "outlinewidth": 0,
             "ticks": ""
            },
            "colorscale": [
             [
              0,
              "#0d0887"
             ],
             [
              0.1111111111111111,
              "#46039f"
             ],
             [
              0.2222222222222222,
              "#7201a8"
             ],
             [
              0.3333333333333333,
              "#9c179e"
             ],
             [
              0.4444444444444444,
              "#bd3786"
             ],
             [
              0.5555555555555556,
              "#d8576b"
             ],
             [
              0.6666666666666666,
              "#ed7953"
             ],
             [
              0.7777777777777778,
              "#fb9f3a"
             ],
             [
              0.8888888888888888,
              "#fdca26"
             ],
             [
              1,
              "#f0f921"
             ]
            ],
            "type": "contour"
           }
          ],
          "contourcarpet": [
           {
            "colorbar": {
             "outlinewidth": 0,
             "ticks": ""
            },
            "type": "contourcarpet"
           }
          ],
          "heatmap": [
           {
            "colorbar": {
             "outlinewidth": 0,
             "ticks": ""
            },
            "colorscale": [
             [
              0,
              "#0d0887"
             ],
             [
              0.1111111111111111,
              "#46039f"
             ],
             [
              0.2222222222222222,
              "#7201a8"
             ],
             [
              0.3333333333333333,
              "#9c179e"
             ],
             [
              0.4444444444444444,
              "#bd3786"
             ],
             [
              0.5555555555555556,
              "#d8576b"
             ],
             [
              0.6666666666666666,
              "#ed7953"
             ],
             [
              0.7777777777777778,
              "#fb9f3a"
             ],
             [
              0.8888888888888888,
              "#fdca26"
             ],
             [
              1,
              "#f0f921"
             ]
            ],
            "type": "heatmap"
           }
          ],
          "heatmapgl": [
           {
            "colorbar": {
             "outlinewidth": 0,
             "ticks": ""
            },
            "colorscale": [
             [
              0,
              "#0d0887"
             ],
             [
              0.1111111111111111,
              "#46039f"
             ],
             [
              0.2222222222222222,
              "#7201a8"
             ],
             [
              0.3333333333333333,
              "#9c179e"
             ],
             [
              0.4444444444444444,
              "#bd3786"
             ],
             [
              0.5555555555555556,
              "#d8576b"
             ],
             [
              0.6666666666666666,
              "#ed7953"
             ],
             [
              0.7777777777777778,
              "#fb9f3a"
             ],
             [
              0.8888888888888888,
              "#fdca26"
             ],
             [
              1,
              "#f0f921"
             ]
            ],
            "type": "heatmapgl"
           }
          ],
          "histogram": [
           {
            "marker": {
             "pattern": {
              "fillmode": "overlay",
              "size": 10,
              "solidity": 0.2
             }
            },
            "type": "histogram"
           }
          ],
          "histogram2d": [
           {
            "colorbar": {
             "outlinewidth": 0,
             "ticks": ""
            },
            "colorscale": [
             [
              0,
              "#0d0887"
             ],
             [
              0.1111111111111111,
              "#46039f"
             ],
             [
              0.2222222222222222,
              "#7201a8"
             ],
             [
              0.3333333333333333,
              "#9c179e"
             ],
             [
              0.4444444444444444,
              "#bd3786"
             ],
             [
              0.5555555555555556,
              "#d8576b"
             ],
             [
              0.6666666666666666,
              "#ed7953"
             ],
             [
              0.7777777777777778,
              "#fb9f3a"
             ],
             [
              0.8888888888888888,
              "#fdca26"
             ],
             [
              1,
              "#f0f921"
             ]
            ],
            "type": "histogram2d"
           }
          ],
          "histogram2dcontour": [
           {
            "colorbar": {
             "outlinewidth": 0,
             "ticks": ""
            },
            "colorscale": [
             [
              0,
              "#0d0887"
             ],
             [
              0.1111111111111111,
              "#46039f"
             ],
             [
              0.2222222222222222,
              "#7201a8"
             ],
             [
              0.3333333333333333,
              "#9c179e"
             ],
             [
              0.4444444444444444,
              "#bd3786"
             ],
             [
              0.5555555555555556,
              "#d8576b"
             ],
             [
              0.6666666666666666,
              "#ed7953"
             ],
             [
              0.7777777777777778,
              "#fb9f3a"
             ],
             [
              0.8888888888888888,
              "#fdca26"
             ],
             [
              1,
              "#f0f921"
             ]
            ],
            "type": "histogram2dcontour"
           }
          ],
          "mesh3d": [
           {
            "colorbar": {
             "outlinewidth": 0,
             "ticks": ""
            },
            "type": "mesh3d"
           }
          ],
          "parcoords": [
           {
            "line": {
             "colorbar": {
              "outlinewidth": 0,
              "ticks": ""
             }
            },
            "type": "parcoords"
           }
          ],
          "pie": [
           {
            "automargin": true,
            "type": "pie"
           }
          ],
          "scatter": [
           {
            "fillpattern": {
             "fillmode": "overlay",
             "size": 10,
             "solidity": 0.2
            },
            "type": "scatter"
           }
          ],
          "scatter3d": [
           {
            "line": {
             "colorbar": {
              "outlinewidth": 0,
              "ticks": ""
             }
            },
            "marker": {
             "colorbar": {
              "outlinewidth": 0,
              "ticks": ""
             }
            },
            "type": "scatter3d"
           }
          ],
          "scattercarpet": [
           {
            "marker": {
             "colorbar": {
              "outlinewidth": 0,
              "ticks": ""
             }
            },
            "type": "scattercarpet"
           }
          ],
          "scattergeo": [
           {
            "marker": {
             "colorbar": {
              "outlinewidth": 0,
              "ticks": ""
             }
            },
            "type": "scattergeo"
           }
          ],
          "scattergl": [
           {
            "marker": {
             "colorbar": {
              "outlinewidth": 0,
              "ticks": ""
             }
            },
            "type": "scattergl"
           }
          ],
          "scattermapbox": [
           {
            "marker": {
             "colorbar": {
              "outlinewidth": 0,
              "ticks": ""
             }
            },
            "type": "scattermapbox"
           }
          ],
          "scatterpolar": [
           {
            "marker": {
             "colorbar": {
              "outlinewidth": 0,
              "ticks": ""
             }
            },
            "type": "scatterpolar"
           }
          ],
          "scatterpolargl": [
           {
            "marker": {
             "colorbar": {
              "outlinewidth": 0,
              "ticks": ""
             }
            },
            "type": "scatterpolargl"
           }
          ],
          "scatterternary": [
           {
            "marker": {
             "colorbar": {
              "outlinewidth": 0,
              "ticks": ""
             }
            },
            "type": "scatterternary"
           }
          ],
          "surface": [
           {
            "colorbar": {
             "outlinewidth": 0,
             "ticks": ""
            },
            "colorscale": [
             [
              0,
              "#0d0887"
             ],
             [
              0.1111111111111111,
              "#46039f"
             ],
             [
              0.2222222222222222,
              "#7201a8"
             ],
             [
              0.3333333333333333,
              "#9c179e"
             ],
             [
              0.4444444444444444,
              "#bd3786"
             ],
             [
              0.5555555555555556,
              "#d8576b"
             ],
             [
              0.6666666666666666,
              "#ed7953"
             ],
             [
              0.7777777777777778,
              "#fb9f3a"
             ],
             [
              0.8888888888888888,
              "#fdca26"
             ],
             [
              1,
              "#f0f921"
             ]
            ],
            "type": "surface"
           }
          ],
          "table": [
           {
            "cells": {
             "fill": {
              "color": "#EBF0F8"
             },
             "line": {
              "color": "white"
             }
            },
            "header": {
             "fill": {
              "color": "#C8D4E3"
             },
             "line": {
              "color": "white"
             }
            },
            "type": "table"
           }
          ]
         },
         "layout": {
          "annotationdefaults": {
           "arrowcolor": "#2a3f5f",
           "arrowhead": 0,
           "arrowwidth": 1
          },
          "autotypenumbers": "strict",
          "coloraxis": {
           "colorbar": {
            "outlinewidth": 0,
            "ticks": ""
           }
          },
          "colorscale": {
           "diverging": [
            [
             0,
             "#8e0152"
            ],
            [
             0.1,
             "#c51b7d"
            ],
            [
             0.2,
             "#de77ae"
            ],
            [
             0.3,
             "#f1b6da"
            ],
            [
             0.4,
             "#fde0ef"
            ],
            [
             0.5,
             "#f7f7f7"
            ],
            [
             0.6,
             "#e6f5d0"
            ],
            [
             0.7,
             "#b8e186"
            ],
            [
             0.8,
             "#7fbc41"
            ],
            [
             0.9,
             "#4d9221"
            ],
            [
             1,
             "#276419"
            ]
           ],
           "sequential": [
            [
             0,
             "#0d0887"
            ],
            [
             0.1111111111111111,
             "#46039f"
            ],
            [
             0.2222222222222222,
             "#7201a8"
            ],
            [
             0.3333333333333333,
             "#9c179e"
            ],
            [
             0.4444444444444444,
             "#bd3786"
            ],
            [
             0.5555555555555556,
             "#d8576b"
            ],
            [
             0.6666666666666666,
             "#ed7953"
            ],
            [
             0.7777777777777778,
             "#fb9f3a"
            ],
            [
             0.8888888888888888,
             "#fdca26"
            ],
            [
             1,
             "#f0f921"
            ]
           ],
           "sequentialminus": [
            [
             0,
             "#0d0887"
            ],
            [
             0.1111111111111111,
             "#46039f"
            ],
            [
             0.2222222222222222,
             "#7201a8"
            ],
            [
             0.3333333333333333,
             "#9c179e"
            ],
            [
             0.4444444444444444,
             "#bd3786"
            ],
            [
             0.5555555555555556,
             "#d8576b"
            ],
            [
             0.6666666666666666,
             "#ed7953"
            ],
            [
             0.7777777777777778,
             "#fb9f3a"
            ],
            [
             0.8888888888888888,
             "#fdca26"
            ],
            [
             1,
             "#f0f921"
            ]
           ]
          },
          "colorway": [
           "#636efa",
           "#EF553B",
           "#00cc96",
           "#ab63fa",
           "#FFA15A",
           "#19d3f3",
           "#FF6692",
           "#B6E880",
           "#FF97FF",
           "#FECB52"
          ],
          "font": {
           "color": "#2a3f5f"
          },
          "geo": {
           "bgcolor": "white",
           "lakecolor": "white",
           "landcolor": "#E5ECF6",
           "showlakes": true,
           "showland": true,
           "subunitcolor": "white"
          },
          "hoverlabel": {
           "align": "left"
          },
          "hovermode": "closest",
          "mapbox": {
           "style": "light"
          },
          "paper_bgcolor": "white",
          "plot_bgcolor": "#E5ECF6",
          "polar": {
           "angularaxis": {
            "gridcolor": "white",
            "linecolor": "white",
            "ticks": ""
           },
           "bgcolor": "#E5ECF6",
           "radialaxis": {
            "gridcolor": "white",
            "linecolor": "white",
            "ticks": ""
           }
          },
          "scene": {
           "xaxis": {
            "backgroundcolor": "#E5ECF6",
            "gridcolor": "white",
            "gridwidth": 2,
            "linecolor": "white",
            "showbackground": true,
            "ticks": "",
            "zerolinecolor": "white"
           },
           "yaxis": {
            "backgroundcolor": "#E5ECF6",
            "gridcolor": "white",
            "gridwidth": 2,
            "linecolor": "white",
            "showbackground": true,
            "ticks": "",
            "zerolinecolor": "white"
           },
           "zaxis": {
            "backgroundcolor": "#E5ECF6",
            "gridcolor": "white",
            "gridwidth": 2,
            "linecolor": "white",
            "showbackground": true,
            "ticks": "",
            "zerolinecolor": "white"
           }
          },
          "shapedefaults": {
           "line": {
            "color": "#2a3f5f"
           }
          },
          "ternary": {
           "aaxis": {
            "gridcolor": "white",
            "linecolor": "white",
            "ticks": ""
           },
           "baxis": {
            "gridcolor": "white",
            "linecolor": "white",
            "ticks": ""
           },
           "bgcolor": "#E5ECF6",
           "caxis": {
            "gridcolor": "white",
            "linecolor": "white",
            "ticks": ""
           }
          },
          "title": {
           "x": 0.05
          },
          "xaxis": {
           "automargin": true,
           "gridcolor": "white",
           "linecolor": "white",
           "ticks": "",
           "title": {
            "standoff": 15
           },
           "zerolinecolor": "white",
           "zerolinewidth": 2
          },
          "yaxis": {
           "automargin": true,
           "gridcolor": "white",
           "linecolor": "white",
           "ticks": "",
           "title": {
            "standoff": 15
           },
           "zerolinecolor": "white",
           "zerolinewidth": 2
          }
         }
        },
        "xaxis": {
         "anchor": "y",
         "domain": [
          0,
          1
         ],
         "title": {
          "text": "Date"
         }
        },
        "yaxis": {
         "anchor": "x",
         "domain": [
          0,
          1
         ],
         "title": {
          "text": "Steps"
         }
        }
       }
      }
     },
     "metadata": {},
     "output_type": "display_data"
    }
   ],
   "source": [
    "fig = px.bar(daily, x='Date', y='Steps', color='target', color_discrete_sequence=px.colors.qualitative.Dark2)\n",
    "fig.add_hline(y=10000, line_dash=\"dash\")\n",
    "fig.update_layout(showlegend=False)\n",
    "fig.show()"
   ]
  },
  {
   "cell_type": "markdown",
   "metadata": {},
   "source": [
    "# Sleep"
   ]
  },
  {
   "cell_type": "code",
   "execution_count": 10,
   "metadata": {},
   "outputs": [
    {
     "data": {
      "text/html": [
       "<div>\n",
       "<style scoped>\n",
       "    .dataframe tbody tr th:only-of-type {\n",
       "        vertical-align: middle;\n",
       "    }\n",
       "\n",
       "    .dataframe tbody tr th {\n",
       "        vertical-align: top;\n",
       "    }\n",
       "\n",
       "    .dataframe thead th {\n",
       "        text-align: right;\n",
       "    }\n",
       "</style>\n",
       "<table border=\"1\" class=\"dataframe\">\n",
       "  <thead>\n",
       "    <tr style=\"text-align: right;\">\n",
       "      <th></th>\n",
       "      <th>Id</th>\n",
       "      <th>SleepDay</th>\n",
       "      <th>TotalSleepRecords</th>\n",
       "      <th>TotalMinutesAsleep</th>\n",
       "      <th>TotalTimeInBed</th>\n",
       "    </tr>\n",
       "  </thead>\n",
       "  <tbody>\n",
       "    <tr>\n",
       "      <th>0</th>\n",
       "      <td>1503960366</td>\n",
       "      <td>4/12/2016 12:00:00 AM</td>\n",
       "      <td>1</td>\n",
       "      <td>327</td>\n",
       "      <td>346</td>\n",
       "    </tr>\n",
       "    <tr>\n",
       "      <th>1</th>\n",
       "      <td>1503960366</td>\n",
       "      <td>4/13/2016 12:00:00 AM</td>\n",
       "      <td>2</td>\n",
       "      <td>384</td>\n",
       "      <td>407</td>\n",
       "    </tr>\n",
       "    <tr>\n",
       "      <th>2</th>\n",
       "      <td>1503960366</td>\n",
       "      <td>4/15/2016 12:00:00 AM</td>\n",
       "      <td>1</td>\n",
       "      <td>412</td>\n",
       "      <td>442</td>\n",
       "    </tr>\n",
       "    <tr>\n",
       "      <th>3</th>\n",
       "      <td>1503960366</td>\n",
       "      <td>4/16/2016 12:00:00 AM</td>\n",
       "      <td>2</td>\n",
       "      <td>340</td>\n",
       "      <td>367</td>\n",
       "    </tr>\n",
       "    <tr>\n",
       "      <th>4</th>\n",
       "      <td>1503960366</td>\n",
       "      <td>4/17/2016 12:00:00 AM</td>\n",
       "      <td>1</td>\n",
       "      <td>700</td>\n",
       "      <td>712</td>\n",
       "    </tr>\n",
       "    <tr>\n",
       "      <th>...</th>\n",
       "      <td>...</td>\n",
       "      <td>...</td>\n",
       "      <td>...</td>\n",
       "      <td>...</td>\n",
       "      <td>...</td>\n",
       "    </tr>\n",
       "    <tr>\n",
       "      <th>408</th>\n",
       "      <td>8792009665</td>\n",
       "      <td>4/30/2016 12:00:00 AM</td>\n",
       "      <td>1</td>\n",
       "      <td>343</td>\n",
       "      <td>360</td>\n",
       "    </tr>\n",
       "    <tr>\n",
       "      <th>409</th>\n",
       "      <td>8792009665</td>\n",
       "      <td>5/1/2016 12:00:00 AM</td>\n",
       "      <td>1</td>\n",
       "      <td>503</td>\n",
       "      <td>527</td>\n",
       "    </tr>\n",
       "    <tr>\n",
       "      <th>410</th>\n",
       "      <td>8792009665</td>\n",
       "      <td>5/2/2016 12:00:00 AM</td>\n",
       "      <td>1</td>\n",
       "      <td>415</td>\n",
       "      <td>423</td>\n",
       "    </tr>\n",
       "    <tr>\n",
       "      <th>411</th>\n",
       "      <td>8792009665</td>\n",
       "      <td>5/3/2016 12:00:00 AM</td>\n",
       "      <td>1</td>\n",
       "      <td>516</td>\n",
       "      <td>545</td>\n",
       "    </tr>\n",
       "    <tr>\n",
       "      <th>412</th>\n",
       "      <td>8792009665</td>\n",
       "      <td>5/4/2016 12:00:00 AM</td>\n",
       "      <td>1</td>\n",
       "      <td>439</td>\n",
       "      <td>463</td>\n",
       "    </tr>\n",
       "  </tbody>\n",
       "</table>\n",
       "<p>413 rows × 5 columns</p>\n",
       "</div>"
      ],
      "text/plain": [
       "             Id               SleepDay  TotalSleepRecords  TotalMinutesAsleep  \\\n",
       "0    1503960366  4/12/2016 12:00:00 AM                  1                 327   \n",
       "1    1503960366  4/13/2016 12:00:00 AM                  2                 384   \n",
       "2    1503960366  4/15/2016 12:00:00 AM                  1                 412   \n",
       "3    1503960366  4/16/2016 12:00:00 AM                  2                 340   \n",
       "4    1503960366  4/17/2016 12:00:00 AM                  1                 700   \n",
       "..          ...                    ...                ...                 ...   \n",
       "408  8792009665  4/30/2016 12:00:00 AM                  1                 343   \n",
       "409  8792009665   5/1/2016 12:00:00 AM                  1                 503   \n",
       "410  8792009665   5/2/2016 12:00:00 AM                  1                 415   \n",
       "411  8792009665   5/3/2016 12:00:00 AM                  1                 516   \n",
       "412  8792009665   5/4/2016 12:00:00 AM                  1                 439   \n",
       "\n",
       "     TotalTimeInBed  \n",
       "0               346  \n",
       "1               407  \n",
       "2               442  \n",
       "3               367  \n",
       "4               712  \n",
       "..              ...  \n",
       "408             360  \n",
       "409             527  \n",
       "410             423  \n",
       "411             545  \n",
       "412             463  \n",
       "\n",
       "[413 rows x 5 columns]"
      ]
     },
     "execution_count": 10,
     "metadata": {},
     "output_type": "execute_result"
    }
   ],
   "source": [
    "daily_sleep = pd.read_csv('../data/fitbit_apr/sleepDay_merged.csv')\n",
    "daily_sleep"
   ]
  },
  {
   "cell_type": "code",
   "execution_count": 11,
   "metadata": {},
   "outputs": [
    {
     "name": "stderr",
     "output_type": "stream",
     "text": [
      "C:\\Users\\user\\AppData\\Local\\Temp\\ipykernel_744\\1350970457.py:2: UserWarning:\n",
      "\n",
      "Could not infer format, so each element will be parsed individually, falling back to `dateutil`. To ensure parsing is consistent and as-expected, please specify a format.\n",
      "\n"
     ]
    }
   ],
   "source": [
    "daily_sleep = daily_sleep.rename(columns={'SleepDay': 'Date', 'TotalMinutesAsleep': 'Total Minutes Asleep'})\n",
    "daily_sleep.Date = pd.to_datetime(daily_sleep.Date)"
   ]
  },
  {
   "cell_type": "code",
   "execution_count": 12,
   "metadata": {},
   "outputs": [],
   "source": [
    "sleep = daily_sleep.loc[(daily_sleep.Id == daily_sleep.Id.unique()[0]) & (daily_sleep.Date < '2016-04-19')]"
   ]
  },
  {
   "cell_type": "code",
   "execution_count": 13,
   "metadata": {},
   "outputs": [
    {
     "data": {
      "application/vnd.plotly.v1+json": {
       "config": {
        "plotlyServerURL": "https://plot.ly"
       },
       "data": [
        {
         "alignmentgroup": "True",
         "hovertemplate": "Date=%{x}<br>Total Minutes Asleep=%{y}<extra></extra>",
         "legendgroup": "",
         "marker": {
          "color": "#636efa",
          "pattern": {
           "shape": ""
          }
         },
         "name": "",
         "offsetgroup": "",
         "orientation": "v",
         "showlegend": false,
         "textposition": "auto",
         "type": "bar",
         "x": [
          "2016-04-12T00:00:00",
          "2016-04-13T00:00:00",
          "2016-04-15T00:00:00",
          "2016-04-16T00:00:00",
          "2016-04-17T00:00:00"
         ],
         "xaxis": "x",
         "y": [
          327,
          384,
          412,
          340,
          700
         ],
         "yaxis": "y"
        }
       ],
       "layout": {
        "barmode": "relative",
        "legend": {
         "tracegroupgap": 0
        },
        "margin": {
         "t": 60
        },
        "template": {
         "data": {
          "bar": [
           {
            "error_x": {
             "color": "#2a3f5f"
            },
            "error_y": {
             "color": "#2a3f5f"
            },
            "marker": {
             "line": {
              "color": "#E5ECF6",
              "width": 0.5
             },
             "pattern": {
              "fillmode": "overlay",
              "size": 10,
              "solidity": 0.2
             }
            },
            "type": "bar"
           }
          ],
          "barpolar": [
           {
            "marker": {
             "line": {
              "color": "#E5ECF6",
              "width": 0.5
             },
             "pattern": {
              "fillmode": "overlay",
              "size": 10,
              "solidity": 0.2
             }
            },
            "type": "barpolar"
           }
          ],
          "carpet": [
           {
            "aaxis": {
             "endlinecolor": "#2a3f5f",
             "gridcolor": "white",
             "linecolor": "white",
             "minorgridcolor": "white",
             "startlinecolor": "#2a3f5f"
            },
            "baxis": {
             "endlinecolor": "#2a3f5f",
             "gridcolor": "white",
             "linecolor": "white",
             "minorgridcolor": "white",
             "startlinecolor": "#2a3f5f"
            },
            "type": "carpet"
           }
          ],
          "choropleth": [
           {
            "colorbar": {
             "outlinewidth": 0,
             "ticks": ""
            },
            "type": "choropleth"
           }
          ],
          "contour": [
           {
            "colorbar": {
             "outlinewidth": 0,
             "ticks": ""
            },
            "colorscale": [
             [
              0,
              "#0d0887"
             ],
             [
              0.1111111111111111,
              "#46039f"
             ],
             [
              0.2222222222222222,
              "#7201a8"
             ],
             [
              0.3333333333333333,
              "#9c179e"
             ],
             [
              0.4444444444444444,
              "#bd3786"
             ],
             [
              0.5555555555555556,
              "#d8576b"
             ],
             [
              0.6666666666666666,
              "#ed7953"
             ],
             [
              0.7777777777777778,
              "#fb9f3a"
             ],
             [
              0.8888888888888888,
              "#fdca26"
             ],
             [
              1,
              "#f0f921"
             ]
            ],
            "type": "contour"
           }
          ],
          "contourcarpet": [
           {
            "colorbar": {
             "outlinewidth": 0,
             "ticks": ""
            },
            "type": "contourcarpet"
           }
          ],
          "heatmap": [
           {
            "colorbar": {
             "outlinewidth": 0,
             "ticks": ""
            },
            "colorscale": [
             [
              0,
              "#0d0887"
             ],
             [
              0.1111111111111111,
              "#46039f"
             ],
             [
              0.2222222222222222,
              "#7201a8"
             ],
             [
              0.3333333333333333,
              "#9c179e"
             ],
             [
              0.4444444444444444,
              "#bd3786"
             ],
             [
              0.5555555555555556,
              "#d8576b"
             ],
             [
              0.6666666666666666,
              "#ed7953"
             ],
             [
              0.7777777777777778,
              "#fb9f3a"
             ],
             [
              0.8888888888888888,
              "#fdca26"
             ],
             [
              1,
              "#f0f921"
             ]
            ],
            "type": "heatmap"
           }
          ],
          "heatmapgl": [
           {
            "colorbar": {
             "outlinewidth": 0,
             "ticks": ""
            },
            "colorscale": [
             [
              0,
              "#0d0887"
             ],
             [
              0.1111111111111111,
              "#46039f"
             ],
             [
              0.2222222222222222,
              "#7201a8"
             ],
             [
              0.3333333333333333,
              "#9c179e"
             ],
             [
              0.4444444444444444,
              "#bd3786"
             ],
             [
              0.5555555555555556,
              "#d8576b"
             ],
             [
              0.6666666666666666,
              "#ed7953"
             ],
             [
              0.7777777777777778,
              "#fb9f3a"
             ],
             [
              0.8888888888888888,
              "#fdca26"
             ],
             [
              1,
              "#f0f921"
             ]
            ],
            "type": "heatmapgl"
           }
          ],
          "histogram": [
           {
            "marker": {
             "pattern": {
              "fillmode": "overlay",
              "size": 10,
              "solidity": 0.2
             }
            },
            "type": "histogram"
           }
          ],
          "histogram2d": [
           {
            "colorbar": {
             "outlinewidth": 0,
             "ticks": ""
            },
            "colorscale": [
             [
              0,
              "#0d0887"
             ],
             [
              0.1111111111111111,
              "#46039f"
             ],
             [
              0.2222222222222222,
              "#7201a8"
             ],
             [
              0.3333333333333333,
              "#9c179e"
             ],
             [
              0.4444444444444444,
              "#bd3786"
             ],
             [
              0.5555555555555556,
              "#d8576b"
             ],
             [
              0.6666666666666666,
              "#ed7953"
             ],
             [
              0.7777777777777778,
              "#fb9f3a"
             ],
             [
              0.8888888888888888,
              "#fdca26"
             ],
             [
              1,
              "#f0f921"
             ]
            ],
            "type": "histogram2d"
           }
          ],
          "histogram2dcontour": [
           {
            "colorbar": {
             "outlinewidth": 0,
             "ticks": ""
            },
            "colorscale": [
             [
              0,
              "#0d0887"
             ],
             [
              0.1111111111111111,
              "#46039f"
             ],
             [
              0.2222222222222222,
              "#7201a8"
             ],
             [
              0.3333333333333333,
              "#9c179e"
             ],
             [
              0.4444444444444444,
              "#bd3786"
             ],
             [
              0.5555555555555556,
              "#d8576b"
             ],
             [
              0.6666666666666666,
              "#ed7953"
             ],
             [
              0.7777777777777778,
              "#fb9f3a"
             ],
             [
              0.8888888888888888,
              "#fdca26"
             ],
             [
              1,
              "#f0f921"
             ]
            ],
            "type": "histogram2dcontour"
           }
          ],
          "mesh3d": [
           {
            "colorbar": {
             "outlinewidth": 0,
             "ticks": ""
            },
            "type": "mesh3d"
           }
          ],
          "parcoords": [
           {
            "line": {
             "colorbar": {
              "outlinewidth": 0,
              "ticks": ""
             }
            },
            "type": "parcoords"
           }
          ],
          "pie": [
           {
            "automargin": true,
            "type": "pie"
           }
          ],
          "scatter": [
           {
            "fillpattern": {
             "fillmode": "overlay",
             "size": 10,
             "solidity": 0.2
            },
            "type": "scatter"
           }
          ],
          "scatter3d": [
           {
            "line": {
             "colorbar": {
              "outlinewidth": 0,
              "ticks": ""
             }
            },
            "marker": {
             "colorbar": {
              "outlinewidth": 0,
              "ticks": ""
             }
            },
            "type": "scatter3d"
           }
          ],
          "scattercarpet": [
           {
            "marker": {
             "colorbar": {
              "outlinewidth": 0,
              "ticks": ""
             }
            },
            "type": "scattercarpet"
           }
          ],
          "scattergeo": [
           {
            "marker": {
             "colorbar": {
              "outlinewidth": 0,
              "ticks": ""
             }
            },
            "type": "scattergeo"
           }
          ],
          "scattergl": [
           {
            "marker": {
             "colorbar": {
              "outlinewidth": 0,
              "ticks": ""
             }
            },
            "type": "scattergl"
           }
          ],
          "scattermapbox": [
           {
            "marker": {
             "colorbar": {
              "outlinewidth": 0,
              "ticks": ""
             }
            },
            "type": "scattermapbox"
           }
          ],
          "scatterpolar": [
           {
            "marker": {
             "colorbar": {
              "outlinewidth": 0,
              "ticks": ""
             }
            },
            "type": "scatterpolar"
           }
          ],
          "scatterpolargl": [
           {
            "marker": {
             "colorbar": {
              "outlinewidth": 0,
              "ticks": ""
             }
            },
            "type": "scatterpolargl"
           }
          ],
          "scatterternary": [
           {
            "marker": {
             "colorbar": {
              "outlinewidth": 0,
              "ticks": ""
             }
            },
            "type": "scatterternary"
           }
          ],
          "surface": [
           {
            "colorbar": {
             "outlinewidth": 0,
             "ticks": ""
            },
            "colorscale": [
             [
              0,
              "#0d0887"
             ],
             [
              0.1111111111111111,
              "#46039f"
             ],
             [
              0.2222222222222222,
              "#7201a8"
             ],
             [
              0.3333333333333333,
              "#9c179e"
             ],
             [
              0.4444444444444444,
              "#bd3786"
             ],
             [
              0.5555555555555556,
              "#d8576b"
             ],
             [
              0.6666666666666666,
              "#ed7953"
             ],
             [
              0.7777777777777778,
              "#fb9f3a"
             ],
             [
              0.8888888888888888,
              "#fdca26"
             ],
             [
              1,
              "#f0f921"
             ]
            ],
            "type": "surface"
           }
          ],
          "table": [
           {
            "cells": {
             "fill": {
              "color": "#EBF0F8"
             },
             "line": {
              "color": "white"
             }
            },
            "header": {
             "fill": {
              "color": "#C8D4E3"
             },
             "line": {
              "color": "white"
             }
            },
            "type": "table"
           }
          ]
         },
         "layout": {
          "annotationdefaults": {
           "arrowcolor": "#2a3f5f",
           "arrowhead": 0,
           "arrowwidth": 1
          },
          "autotypenumbers": "strict",
          "coloraxis": {
           "colorbar": {
            "outlinewidth": 0,
            "ticks": ""
           }
          },
          "colorscale": {
           "diverging": [
            [
             0,
             "#8e0152"
            ],
            [
             0.1,
             "#c51b7d"
            ],
            [
             0.2,
             "#de77ae"
            ],
            [
             0.3,
             "#f1b6da"
            ],
            [
             0.4,
             "#fde0ef"
            ],
            [
             0.5,
             "#f7f7f7"
            ],
            [
             0.6,
             "#e6f5d0"
            ],
            [
             0.7,
             "#b8e186"
            ],
            [
             0.8,
             "#7fbc41"
            ],
            [
             0.9,
             "#4d9221"
            ],
            [
             1,
             "#276419"
            ]
           ],
           "sequential": [
            [
             0,
             "#0d0887"
            ],
            [
             0.1111111111111111,
             "#46039f"
            ],
            [
             0.2222222222222222,
             "#7201a8"
            ],
            [
             0.3333333333333333,
             "#9c179e"
            ],
            [
             0.4444444444444444,
             "#bd3786"
            ],
            [
             0.5555555555555556,
             "#d8576b"
            ],
            [
             0.6666666666666666,
             "#ed7953"
            ],
            [
             0.7777777777777778,
             "#fb9f3a"
            ],
            [
             0.8888888888888888,
             "#fdca26"
            ],
            [
             1,
             "#f0f921"
            ]
           ],
           "sequentialminus": [
            [
             0,
             "#0d0887"
            ],
            [
             0.1111111111111111,
             "#46039f"
            ],
            [
             0.2222222222222222,
             "#7201a8"
            ],
            [
             0.3333333333333333,
             "#9c179e"
            ],
            [
             0.4444444444444444,
             "#bd3786"
            ],
            [
             0.5555555555555556,
             "#d8576b"
            ],
            [
             0.6666666666666666,
             "#ed7953"
            ],
            [
             0.7777777777777778,
             "#fb9f3a"
            ],
            [
             0.8888888888888888,
             "#fdca26"
            ],
            [
             1,
             "#f0f921"
            ]
           ]
          },
          "colorway": [
           "#636efa",
           "#EF553B",
           "#00cc96",
           "#ab63fa",
           "#FFA15A",
           "#19d3f3",
           "#FF6692",
           "#B6E880",
           "#FF97FF",
           "#FECB52"
          ],
          "font": {
           "color": "#2a3f5f"
          },
          "geo": {
           "bgcolor": "white",
           "lakecolor": "white",
           "landcolor": "#E5ECF6",
           "showlakes": true,
           "showland": true,
           "subunitcolor": "white"
          },
          "hoverlabel": {
           "align": "left"
          },
          "hovermode": "closest",
          "mapbox": {
           "style": "light"
          },
          "paper_bgcolor": "white",
          "plot_bgcolor": "#E5ECF6",
          "polar": {
           "angularaxis": {
            "gridcolor": "white",
            "linecolor": "white",
            "ticks": ""
           },
           "bgcolor": "#E5ECF6",
           "radialaxis": {
            "gridcolor": "white",
            "linecolor": "white",
            "ticks": ""
           }
          },
          "scene": {
           "xaxis": {
            "backgroundcolor": "#E5ECF6",
            "gridcolor": "white",
            "gridwidth": 2,
            "linecolor": "white",
            "showbackground": true,
            "ticks": "",
            "zerolinecolor": "white"
           },
           "yaxis": {
            "backgroundcolor": "#E5ECF6",
            "gridcolor": "white",
            "gridwidth": 2,
            "linecolor": "white",
            "showbackground": true,
            "ticks": "",
            "zerolinecolor": "white"
           },
           "zaxis": {
            "backgroundcolor": "#E5ECF6",
            "gridcolor": "white",
            "gridwidth": 2,
            "linecolor": "white",
            "showbackground": true,
            "ticks": "",
            "zerolinecolor": "white"
           }
          },
          "shapedefaults": {
           "line": {
            "color": "#2a3f5f"
           }
          },
          "ternary": {
           "aaxis": {
            "gridcolor": "white",
            "linecolor": "white",
            "ticks": ""
           },
           "baxis": {
            "gridcolor": "white",
            "linecolor": "white",
            "ticks": ""
           },
           "bgcolor": "#E5ECF6",
           "caxis": {
            "gridcolor": "white",
            "linecolor": "white",
            "ticks": ""
           }
          },
          "title": {
           "x": 0.05
          },
          "xaxis": {
           "automargin": true,
           "gridcolor": "white",
           "linecolor": "white",
           "ticks": "",
           "title": {
            "standoff": 15
           },
           "zerolinecolor": "white",
           "zerolinewidth": 2
          },
          "yaxis": {
           "automargin": true,
           "gridcolor": "white",
           "linecolor": "white",
           "ticks": "",
           "title": {
            "standoff": 15
           },
           "zerolinecolor": "white",
           "zerolinewidth": 2
          }
         }
        },
        "xaxis": {
         "anchor": "y",
         "domain": [
          0,
          1
         ],
         "title": {
          "text": "Date"
         }
        },
        "yaxis": {
         "anchor": "x",
         "domain": [
          0,
          1
         ],
         "title": {
          "text": "Total Minutes Asleep"
         }
        }
       }
      }
     },
     "metadata": {},
     "output_type": "display_data"
    }
   ],
   "source": [
    "fig = px.bar(sleep, x='Date', y='Total Minutes Asleep')\n",
    "fig.show()"
   ]
  },
  {
   "cell_type": "markdown",
   "metadata": {},
   "source": [
    "# Database"
   ]
  },
  {
   "cell_type": "code",
   "execution_count": 1,
   "metadata": {},
   "outputs": [],
   "source": [
    "import sqlite3"
   ]
  },
  {
   "cell_type": "markdown",
   "metadata": {},
   "source": [
    "## Users"
   ]
  },
  {
   "cell_type": "code",
   "execution_count": null,
   "metadata": {},
   "outputs": [],
   "source": [
    "with sqlite3.connect(\"../data/users.db\") as con:\n",
    "    # con.execute('''CREATE TABLE users(\n",
    "    #             username NOT NULL UNIQUE, \n",
    "    #             hash NOT NULL)''')\n",
    "    con.execute(\"insert into users (username, hash) values ('me', 'password')\")\n",
    "    rows = con.execute('select * from users where username = ?', ('me',)).fetchall()"
   ]
  },
  {
   "cell_type": "code",
   "execution_count": 3,
   "metadata": {},
   "outputs": [
    {
     "data": {
      "text/plain": [
       "1"
      ]
     },
     "execution_count": 3,
     "metadata": {},
     "output_type": "execute_result"
    }
   ],
   "source": [
    "len(rows)"
   ]
  },
  {
   "cell_type": "code",
   "execution_count": 4,
   "metadata": {},
   "outputs": [
    {
     "data": {
      "text/plain": [
       "'me'"
      ]
     },
     "execution_count": 4,
     "metadata": {},
     "output_type": "execute_result"
    }
   ],
   "source": [
    "rows[0][0]"
   ]
  },
  {
   "cell_type": "code",
   "execution_count": 5,
   "metadata": {},
   "outputs": [
    {
     "data": {
      "text/plain": [
       "'password'"
      ]
     },
     "execution_count": 5,
     "metadata": {},
     "output_type": "execute_result"
    }
   ],
   "source": [
    "rows[0][1]"
   ]
  },
  {
   "cell_type": "markdown",
   "metadata": {},
   "source": [
    "## Goals"
   ]
  },
  {
   "cell_type": "code",
   "execution_count": 6,
   "metadata": {},
   "outputs": [],
   "source": [
    "with sqlite3.connect(\"../data/users.db\") as con:\n",
    "    con.execute('''CREATE TABLE profile(\n",
    "                username NOT NULL UNIQUE, \n",
    "                step_goal NOT NULL,\n",
    "                sleep_goal NOT NULL)''')\n",
    "    con.execute(\"insert into profile (username, step_goal, sleep_goal) values ('me', 2000, 'create one')\")\n",
    "    rows = con.execute(\"select * from profile where username = 'me'\").fetchall()"
   ]
  },
  {
   "cell_type": "code",
   "execution_count": 7,
   "metadata": {},
   "outputs": [
    {
     "data": {
      "text/plain": [
       "[('me', 2000, 'create one')]"
      ]
     },
     "execution_count": 7,
     "metadata": {},
     "output_type": "execute_result"
    }
   ],
   "source": [
    "rows"
   ]
  },
  {
   "cell_type": "markdown",
   "metadata": {},
   "source": [
    "# Fitbit API"
   ]
  },
  {
   "cell_type": "code",
   "execution_count": 1,
   "metadata": {},
   "outputs": [],
   "source": [
    "import requests\n",
    "import pandas as pd\n",
    "import plotly.express as px\n",
    "\n",
    "with open('../data/fitbit_access_token.txt', 'r') as f:\n",
    "    FITBIT_ACCESS_TOKEN = f.read()"
   ]
  },
  {
   "cell_type": "markdown",
   "metadata": {},
   "source": [
    "## Steps"
   ]
  },
  {
   "cell_type": "markdown",
   "metadata": {},
   "source": [
    "### Hourly"
   ]
  },
  {
   "cell_type": "code",
   "execution_count": 2,
   "metadata": {},
   "outputs": [
    {
     "data": {
      "text/plain": [
       "{'activities-steps': [{'dateTime': '2024-10-10', 'value': '53'}],\n",
       " 'activities-steps-intraday': {'dataset': [{'time': '00:00:00', 'value': 0},\n",
       "   {'time': '00:01:00', 'value': 0},\n",
       "   {'time': '00:02:00', 'value': 0},\n",
       "   {'time': '00:03:00', 'value': 0},\n",
       "   {'time': '00:04:00', 'value': 0},\n",
       "   {'time': '00:05:00', 'value': 0},\n",
       "   {'time': '00:06:00', 'value': 0},\n",
       "   {'time': '00:07:00', 'value': 0},\n",
       "   {'time': '00:08:00', 'value': 0},\n",
       "   {'time': '00:09:00', 'value': 0},\n",
       "   {'time': '00:10:00', 'value': 0},\n",
       "   {'time': '00:11:00', 'value': 0},\n",
       "   {'time': '00:12:00', 'value': 0},\n",
       "   {'time': '00:13:00', 'value': 0},\n",
       "   {'time': '00:14:00', 'value': 0},\n",
       "   {'time': '00:15:00', 'value': 0},\n",
       "   {'time': '00:16:00', 'value': 0},\n",
       "   {'time': '00:17:00', 'value': 0},\n",
       "   {'time': '00:18:00', 'value': 0},\n",
       "   {'time': '00:19:00', 'value': 0},\n",
       "   {'time': '00:20:00', 'value': 0},\n",
       "   {'time': '00:21:00', 'value': 0},\n",
       "   {'time': '00:22:00', 'value': 0},\n",
       "   {'time': '00:23:00', 'value': 0},\n",
       "   {'time': '00:24:00', 'value': 0},\n",
       "   {'time': '00:25:00', 'value': 0},\n",
       "   {'time': '00:26:00', 'value': 0},\n",
       "   {'time': '00:27:00', 'value': 0},\n",
       "   {'time': '00:28:00', 'value': 0},\n",
       "   {'time': '00:29:00', 'value': 0},\n",
       "   {'time': '00:30:00', 'value': 0},\n",
       "   {'time': '00:31:00', 'value': 0},\n",
       "   {'time': '00:32:00', 'value': 0},\n",
       "   {'time': '00:33:00', 'value': 0},\n",
       "   {'time': '00:34:00', 'value': 0},\n",
       "   {'time': '00:35:00', 'value': 0},\n",
       "   {'time': '00:36:00', 'value': 0},\n",
       "   {'time': '00:37:00', 'value': 0},\n",
       "   {'time': '00:38:00', 'value': 0},\n",
       "   {'time': '00:39:00', 'value': 0},\n",
       "   {'time': '00:40:00', 'value': 0},\n",
       "   {'time': '00:41:00', 'value': 0},\n",
       "   {'time': '00:42:00', 'value': 0},\n",
       "   {'time': '00:43:00', 'value': 0},\n",
       "   {'time': '00:44:00', 'value': 0},\n",
       "   {'time': '00:45:00', 'value': 0},\n",
       "   {'time': '00:46:00', 'value': 0},\n",
       "   {'time': '00:47:00', 'value': 0},\n",
       "   {'time': '00:48:00', 'value': 0},\n",
       "   {'time': '00:49:00', 'value': 0},\n",
       "   {'time': '00:50:00', 'value': 0},\n",
       "   {'time': '00:51:00', 'value': 0},\n",
       "   {'time': '00:52:00', 'value': 0},\n",
       "   {'time': '00:53:00', 'value': 0},\n",
       "   {'time': '00:54:00', 'value': 0},\n",
       "   {'time': '00:55:00', 'value': 0},\n",
       "   {'time': '00:56:00', 'value': 0},\n",
       "   {'time': '00:57:00', 'value': 0},\n",
       "   {'time': '00:58:00', 'value': 0},\n",
       "   {'time': '00:59:00', 'value': 0},\n",
       "   {'time': '01:00:00', 'value': 0},\n",
       "   {'time': '01:01:00', 'value': 0},\n",
       "   {'time': '01:02:00', 'value': 0},\n",
       "   {'time': '01:03:00', 'value': 0},\n",
       "   {'time': '01:04:00', 'value': 0},\n",
       "   {'time': '01:05:00', 'value': 0},\n",
       "   {'time': '01:06:00', 'value': 0},\n",
       "   {'time': '01:07:00', 'value': 0},\n",
       "   {'time': '01:08:00', 'value': 0},\n",
       "   {'time': '01:09:00', 'value': 0},\n",
       "   {'time': '01:10:00', 'value': 0},\n",
       "   {'time': '01:11:00', 'value': 0},\n",
       "   {'time': '01:12:00', 'value': 0},\n",
       "   {'time': '01:13:00', 'value': 0},\n",
       "   {'time': '01:14:00', 'value': 0},\n",
       "   {'time': '01:15:00', 'value': 0},\n",
       "   {'time': '01:16:00', 'value': 0},\n",
       "   {'time': '01:17:00', 'value': 0},\n",
       "   {'time': '01:18:00', 'value': 0},\n",
       "   {'time': '01:19:00', 'value': 0},\n",
       "   {'time': '01:20:00', 'value': 0},\n",
       "   {'time': '01:21:00', 'value': 0},\n",
       "   {'time': '01:22:00', 'value': 0},\n",
       "   {'time': '01:23:00', 'value': 0},\n",
       "   {'time': '01:24:00', 'value': 0},\n",
       "   {'time': '01:25:00', 'value': 0},\n",
       "   {'time': '01:26:00', 'value': 0},\n",
       "   {'time': '01:27:00', 'value': 0},\n",
       "   {'time': '01:28:00', 'value': 0},\n",
       "   {'time': '01:29:00', 'value': 0},\n",
       "   {'time': '01:30:00', 'value': 0},\n",
       "   {'time': '01:31:00', 'value': 0},\n",
       "   {'time': '01:32:00', 'value': 0},\n",
       "   {'time': '01:33:00', 'value': 0},\n",
       "   {'time': '01:34:00', 'value': 0},\n",
       "   {'time': '01:35:00', 'value': 0},\n",
       "   {'time': '01:36:00', 'value': 0},\n",
       "   {'time': '01:37:00', 'value': 0},\n",
       "   {'time': '01:38:00', 'value': 0},\n",
       "   {'time': '01:39:00', 'value': 0},\n",
       "   {'time': '01:40:00', 'value': 0},\n",
       "   {'time': '01:41:00', 'value': 0},\n",
       "   {'time': '01:42:00', 'value': 0},\n",
       "   {'time': '01:43:00', 'value': 0},\n",
       "   {'time': '01:44:00', 'value': 0},\n",
       "   {'time': '01:45:00', 'value': 0},\n",
       "   {'time': '01:46:00', 'value': 0},\n",
       "   {'time': '01:47:00', 'value': 0},\n",
       "   {'time': '01:48:00', 'value': 0},\n",
       "   {'time': '01:49:00', 'value': 0},\n",
       "   {'time': '01:50:00', 'value': 0},\n",
       "   {'time': '01:51:00', 'value': 0},\n",
       "   {'time': '01:52:00', 'value': 0},\n",
       "   {'time': '01:53:00', 'value': 0},\n",
       "   {'time': '01:54:00', 'value': 0},\n",
       "   {'time': '01:55:00', 'value': 0},\n",
       "   {'time': '01:56:00', 'value': 0},\n",
       "   {'time': '01:57:00', 'value': 0},\n",
       "   {'time': '01:58:00', 'value': 0},\n",
       "   {'time': '01:59:00', 'value': 0},\n",
       "   {'time': '02:00:00', 'value': 0},\n",
       "   {'time': '02:01:00', 'value': 0},\n",
       "   {'time': '02:02:00', 'value': 0},\n",
       "   {'time': '02:03:00', 'value': 0},\n",
       "   {'time': '02:04:00', 'value': 0},\n",
       "   {'time': '02:05:00', 'value': 0},\n",
       "   {'time': '02:06:00', 'value': 0},\n",
       "   {'time': '02:07:00', 'value': 0},\n",
       "   {'time': '02:08:00', 'value': 0},\n",
       "   {'time': '02:09:00', 'value': 8},\n",
       "   {'time': '02:10:00', 'value': 1},\n",
       "   {'time': '02:11:00', 'value': 0},\n",
       "   {'time': '02:12:00', 'value': 0},\n",
       "   {'time': '02:13:00', 'value': 0},\n",
       "   {'time': '02:14:00', 'value': 0},\n",
       "   {'time': '02:15:00', 'value': 0},\n",
       "   {'time': '02:16:00', 'value': 0},\n",
       "   {'time': '02:17:00', 'value': 0},\n",
       "   {'time': '02:18:00', 'value': 0},\n",
       "   {'time': '02:19:00', 'value': 0},\n",
       "   {'time': '02:20:00', 'value': 0},\n",
       "   {'time': '02:21:00', 'value': 0},\n",
       "   {'time': '02:22:00', 'value': 0},\n",
       "   {'time': '02:23:00', 'value': 0},\n",
       "   {'time': '02:24:00', 'value': 0},\n",
       "   {'time': '02:25:00', 'value': 0},\n",
       "   {'time': '02:26:00', 'value': 0},\n",
       "   {'time': '02:27:00', 'value': 0},\n",
       "   {'time': '02:28:00', 'value': 0},\n",
       "   {'time': '02:29:00', 'value': 0},\n",
       "   {'time': '02:30:00', 'value': 0},\n",
       "   {'time': '02:31:00', 'value': 0},\n",
       "   {'time': '02:32:00', 'value': 0},\n",
       "   {'time': '02:33:00', 'value': 0},\n",
       "   {'time': '02:34:00', 'value': 0},\n",
       "   {'time': '02:35:00', 'value': 0},\n",
       "   {'time': '02:36:00', 'value': 0},\n",
       "   {'time': '02:37:00', 'value': 0},\n",
       "   {'time': '02:38:00', 'value': 0},\n",
       "   {'time': '02:39:00', 'value': 0},\n",
       "   {'time': '02:40:00', 'value': 0},\n",
       "   {'time': '02:41:00', 'value': 0},\n",
       "   {'time': '02:42:00', 'value': 0},\n",
       "   {'time': '02:43:00', 'value': 0},\n",
       "   {'time': '02:44:00', 'value': 0},\n",
       "   {'time': '02:45:00', 'value': 0},\n",
       "   {'time': '02:46:00', 'value': 0},\n",
       "   {'time': '02:47:00', 'value': 0},\n",
       "   {'time': '02:48:00', 'value': 0},\n",
       "   {'time': '02:49:00', 'value': 0},\n",
       "   {'time': '02:50:00', 'value': 0},\n",
       "   {'time': '02:51:00', 'value': 0},\n",
       "   {'time': '02:52:00', 'value': 0},\n",
       "   {'time': '02:53:00', 'value': 0},\n",
       "   {'time': '02:54:00', 'value': 0},\n",
       "   {'time': '02:55:00', 'value': 0},\n",
       "   {'time': '02:56:00', 'value': 0},\n",
       "   {'time': '02:57:00', 'value': 0},\n",
       "   {'time': '02:58:00', 'value': 0},\n",
       "   {'time': '02:59:00', 'value': 0},\n",
       "   {'time': '03:00:00', 'value': 0},\n",
       "   {'time': '03:01:00', 'value': 0},\n",
       "   {'time': '03:02:00', 'value': 0},\n",
       "   {'time': '03:03:00', 'value': 0},\n",
       "   {'time': '03:04:00', 'value': 0},\n",
       "   {'time': '03:05:00', 'value': 0},\n",
       "   {'time': '03:06:00', 'value': 0},\n",
       "   {'time': '03:07:00', 'value': 0},\n",
       "   {'time': '03:08:00', 'value': 0},\n",
       "   {'time': '03:09:00', 'value': 0},\n",
       "   {'time': '03:10:00', 'value': 0},\n",
       "   {'time': '03:11:00', 'value': 0},\n",
       "   {'time': '03:12:00', 'value': 0},\n",
       "   {'time': '03:13:00', 'value': 0},\n",
       "   {'time': '03:14:00', 'value': 0},\n",
       "   {'time': '03:15:00', 'value': 0},\n",
       "   {'time': '03:16:00', 'value': 0},\n",
       "   {'time': '03:17:00', 'value': 0},\n",
       "   {'time': '03:18:00', 'value': 0},\n",
       "   {'time': '03:19:00', 'value': 0},\n",
       "   {'time': '03:20:00', 'value': 0},\n",
       "   {'time': '03:21:00', 'value': 0},\n",
       "   {'time': '03:22:00', 'value': 0},\n",
       "   {'time': '03:23:00', 'value': 0},\n",
       "   {'time': '03:24:00', 'value': 0},\n",
       "   {'time': '03:25:00', 'value': 0},\n",
       "   {'time': '03:26:00', 'value': 0},\n",
       "   {'time': '03:27:00', 'value': 0},\n",
       "   {'time': '03:28:00', 'value': 0},\n",
       "   {'time': '03:29:00', 'value': 0},\n",
       "   {'time': '03:30:00', 'value': 0},\n",
       "   {'time': '03:31:00', 'value': 0},\n",
       "   {'time': '03:32:00', 'value': 0},\n",
       "   {'time': '03:33:00', 'value': 0},\n",
       "   {'time': '03:34:00', 'value': 0},\n",
       "   {'time': '03:35:00', 'value': 0},\n",
       "   {'time': '03:36:00', 'value': 0},\n",
       "   {'time': '03:37:00', 'value': 0},\n",
       "   {'time': '03:38:00', 'value': 0},\n",
       "   {'time': '03:39:00', 'value': 0},\n",
       "   {'time': '03:40:00', 'value': 0},\n",
       "   {'time': '03:41:00', 'value': 0},\n",
       "   {'time': '03:42:00', 'value': 0},\n",
       "   {'time': '03:43:00', 'value': 0},\n",
       "   {'time': '03:44:00', 'value': 0},\n",
       "   {'time': '03:45:00', 'value': 0},\n",
       "   {'time': '03:46:00', 'value': 0},\n",
       "   {'time': '03:47:00', 'value': 0},\n",
       "   {'time': '03:48:00', 'value': 0},\n",
       "   {'time': '03:49:00', 'value': 0},\n",
       "   {'time': '03:50:00', 'value': 0},\n",
       "   {'time': '03:51:00', 'value': 0},\n",
       "   {'time': '03:52:00', 'value': 0},\n",
       "   {'time': '03:53:00', 'value': 0},\n",
       "   {'time': '03:54:00', 'value': 0},\n",
       "   {'time': '03:55:00', 'value': 0},\n",
       "   {'time': '03:56:00', 'value': 0},\n",
       "   {'time': '03:57:00', 'value': 0},\n",
       "   {'time': '03:58:00', 'value': 0},\n",
       "   {'time': '03:59:00', 'value': 0},\n",
       "   {'time': '04:00:00', 'value': 0},\n",
       "   {'time': '04:01:00', 'value': 0},\n",
       "   {'time': '04:02:00', 'value': 0},\n",
       "   {'time': '04:03:00', 'value': 0},\n",
       "   {'time': '04:04:00', 'value': 0},\n",
       "   {'time': '04:05:00', 'value': 0},\n",
       "   {'time': '04:06:00', 'value': 0},\n",
       "   {'time': '04:07:00', 'value': 0},\n",
       "   {'time': '04:08:00', 'value': 0},\n",
       "   {'time': '04:09:00', 'value': 5},\n",
       "   {'time': '04:10:00', 'value': 0},\n",
       "   {'time': '04:11:00', 'value': 0},\n",
       "   {'time': '04:12:00', 'value': 0},\n",
       "   {'time': '04:13:00', 'value': 0},\n",
       "   {'time': '04:14:00', 'value': 0},\n",
       "   {'time': '04:15:00', 'value': 0},\n",
       "   {'time': '04:16:00', 'value': 0},\n",
       "   {'time': '04:17:00', 'value': 0},\n",
       "   {'time': '04:18:00', 'value': 0},\n",
       "   {'time': '04:19:00', 'value': 0},\n",
       "   {'time': '04:20:00', 'value': 0},\n",
       "   {'time': '04:21:00', 'value': 0},\n",
       "   {'time': '04:22:00', 'value': 0},\n",
       "   {'time': '04:23:00', 'value': 0},\n",
       "   {'time': '04:24:00', 'value': 0},\n",
       "   {'time': '04:25:00', 'value': 0},\n",
       "   {'time': '04:26:00', 'value': 0},\n",
       "   {'time': '04:27:00', 'value': 0},\n",
       "   {'time': '04:28:00', 'value': 0},\n",
       "   {'time': '04:29:00', 'value': 0},\n",
       "   {'time': '04:30:00', 'value': 0},\n",
       "   {'time': '04:31:00', 'value': 0},\n",
       "   {'time': '04:32:00', 'value': 0},\n",
       "   {'time': '04:33:00', 'value': 0},\n",
       "   {'time': '04:34:00', 'value': 0},\n",
       "   {'time': '04:35:00', 'value': 0},\n",
       "   {'time': '04:36:00', 'value': 0},\n",
       "   {'time': '04:37:00', 'value': 0},\n",
       "   {'time': '04:38:00', 'value': 0},\n",
       "   {'time': '04:39:00', 'value': 0},\n",
       "   {'time': '04:40:00', 'value': 0},\n",
       "   {'time': '04:41:00', 'value': 0},\n",
       "   {'time': '04:42:00', 'value': 0},\n",
       "   {'time': '04:43:00', 'value': 0},\n",
       "   {'time': '04:44:00', 'value': 0},\n",
       "   {'time': '04:45:00', 'value': 0},\n",
       "   {'time': '04:46:00', 'value': 0},\n",
       "   {'time': '04:47:00', 'value': 0},\n",
       "   {'time': '04:48:00', 'value': 0},\n",
       "   {'time': '04:49:00', 'value': 0},\n",
       "   {'time': '04:50:00', 'value': 0},\n",
       "   {'time': '04:51:00', 'value': 0},\n",
       "   {'time': '04:52:00', 'value': 0},\n",
       "   {'time': '04:53:00', 'value': 0},\n",
       "   {'time': '04:54:00', 'value': 0},\n",
       "   {'time': '04:55:00', 'value': 0},\n",
       "   {'time': '04:56:00', 'value': 0},\n",
       "   {'time': '04:57:00', 'value': 0},\n",
       "   {'time': '04:58:00', 'value': 0},\n",
       "   {'time': '04:59:00', 'value': 0},\n",
       "   {'time': '05:00:00', 'value': 0},\n",
       "   {'time': '05:01:00', 'value': 0},\n",
       "   {'time': '05:02:00', 'value': 0},\n",
       "   {'time': '05:03:00', 'value': 0},\n",
       "   {'time': '05:04:00', 'value': 0},\n",
       "   {'time': '05:05:00', 'value': 0},\n",
       "   {'time': '05:06:00', 'value': 0},\n",
       "   {'time': '05:07:00', 'value': 0},\n",
       "   {'time': '05:08:00', 'value': 0},\n",
       "   {'time': '05:09:00', 'value': 0},\n",
       "   {'time': '05:10:00', 'value': 0},\n",
       "   {'time': '05:11:00', 'value': 0},\n",
       "   {'time': '05:12:00', 'value': 0},\n",
       "   {'time': '05:13:00', 'value': 0},\n",
       "   {'time': '05:14:00', 'value': 0},\n",
       "   {'time': '05:15:00', 'value': 0},\n",
       "   {'time': '05:16:00', 'value': 0},\n",
       "   {'time': '05:17:00', 'value': 0},\n",
       "   {'time': '05:18:00', 'value': 0},\n",
       "   {'time': '05:19:00', 'value': 0},\n",
       "   {'time': '05:20:00', 'value': 0},\n",
       "   {'time': '05:21:00', 'value': 0},\n",
       "   {'time': '05:22:00', 'value': 0},\n",
       "   {'time': '05:23:00', 'value': 0},\n",
       "   {'time': '05:24:00', 'value': 0},\n",
       "   {'time': '05:25:00', 'value': 0},\n",
       "   {'time': '05:26:00', 'value': 0},\n",
       "   {'time': '05:27:00', 'value': 6},\n",
       "   {'time': '05:28:00', 'value': 0},\n",
       "   {'time': '05:29:00', 'value': 0},\n",
       "   {'time': '05:30:00', 'value': 0},\n",
       "   {'time': '05:31:00', 'value': 0},\n",
       "   {'time': '05:32:00', 'value': 0},\n",
       "   {'time': '05:33:00', 'value': 0},\n",
       "   {'time': '05:34:00', 'value': 0},\n",
       "   {'time': '05:35:00', 'value': 0},\n",
       "   {'time': '05:36:00', 'value': 0},\n",
       "   {'time': '05:37:00', 'value': 0},\n",
       "   {'time': '05:38:00', 'value': 0},\n",
       "   {'time': '05:39:00', 'value': 0},\n",
       "   {'time': '05:40:00', 'value': 0},\n",
       "   {'time': '05:41:00', 'value': 0},\n",
       "   {'time': '05:42:00', 'value': 0},\n",
       "   {'time': '05:43:00', 'value': 0},\n",
       "   {'time': '05:44:00', 'value': 0},\n",
       "   {'time': '05:45:00', 'value': 0},\n",
       "   {'time': '05:46:00', 'value': 0},\n",
       "   {'time': '05:47:00', 'value': 0},\n",
       "   {'time': '05:48:00', 'value': 0},\n",
       "   {'time': '05:49:00', 'value': 0},\n",
       "   {'time': '05:50:00', 'value': 0},\n",
       "   {'time': '05:51:00', 'value': 0},\n",
       "   {'time': '05:52:00', 'value': 0},\n",
       "   {'time': '05:53:00', 'value': 0},\n",
       "   {'time': '05:54:00', 'value': 0},\n",
       "   {'time': '05:55:00', 'value': 0},\n",
       "   {'time': '05:56:00', 'value': 0},\n",
       "   {'time': '05:57:00', 'value': 0},\n",
       "   {'time': '05:58:00', 'value': 0},\n",
       "   {'time': '05:59:00', 'value': 0},\n",
       "   {'time': '06:00:00', 'value': 0},\n",
       "   {'time': '06:01:00', 'value': 0},\n",
       "   {'time': '06:02:00', 'value': 0},\n",
       "   {'time': '06:03:00', 'value': 0},\n",
       "   {'time': '06:04:00', 'value': 0},\n",
       "   {'time': '06:05:00', 'value': 0},\n",
       "   {'time': '06:06:00', 'value': 0},\n",
       "   {'time': '06:07:00', 'value': 0},\n",
       "   {'time': '06:08:00', 'value': 0},\n",
       "   {'time': '06:09:00', 'value': 0},\n",
       "   {'time': '06:10:00', 'value': 0},\n",
       "   {'time': '06:11:00', 'value': 0},\n",
       "   {'time': '06:12:00', 'value': 0},\n",
       "   {'time': '06:13:00', 'value': 0},\n",
       "   {'time': '06:14:00', 'value': 0},\n",
       "   {'time': '06:15:00', 'value': 0},\n",
       "   {'time': '06:16:00', 'value': 0},\n",
       "   {'time': '06:17:00', 'value': 0},\n",
       "   {'time': '06:18:00', 'value': 0},\n",
       "   {'time': '06:19:00', 'value': 0},\n",
       "   {'time': '06:20:00', 'value': 0},\n",
       "   {'time': '06:21:00', 'value': 0},\n",
       "   {'time': '06:22:00', 'value': 0},\n",
       "   {'time': '06:23:00', 'value': 0},\n",
       "   {'time': '06:24:00', 'value': 0},\n",
       "   {'time': '06:25:00', 'value': 0},\n",
       "   {'time': '06:26:00', 'value': 0},\n",
       "   {'time': '06:27:00', 'value': 0},\n",
       "   {'time': '06:28:00', 'value': 0},\n",
       "   {'time': '06:29:00', 'value': 0},\n",
       "   {'time': '06:30:00', 'value': 0},\n",
       "   {'time': '06:31:00', 'value': 0},\n",
       "   {'time': '06:32:00', 'value': 0},\n",
       "   {'time': '06:33:00', 'value': 0},\n",
       "   {'time': '06:34:00', 'value': 0},\n",
       "   {'time': '06:35:00', 'value': 0},\n",
       "   {'time': '06:36:00', 'value': 0},\n",
       "   {'time': '06:37:00', 'value': 0},\n",
       "   {'time': '06:38:00', 'value': 0},\n",
       "   {'time': '06:39:00', 'value': 0},\n",
       "   {'time': '06:40:00', 'value': 0},\n",
       "   {'time': '06:41:00', 'value': 0},\n",
       "   {'time': '06:42:00', 'value': 0},\n",
       "   {'time': '06:43:00', 'value': 0},\n",
       "   {'time': '06:44:00', 'value': 0},\n",
       "   {'time': '06:45:00', 'value': 0},\n",
       "   {'time': '06:46:00', 'value': 0},\n",
       "   {'time': '06:47:00', 'value': 0},\n",
       "   {'time': '06:48:00', 'value': 0},\n",
       "   {'time': '06:49:00', 'value': 0},\n",
       "   {'time': '06:50:00', 'value': 0},\n",
       "   {'time': '06:51:00', 'value': 0},\n",
       "   {'time': '06:52:00', 'value': 0},\n",
       "   {'time': '06:53:00', 'value': 0},\n",
       "   {'time': '06:54:00', 'value': 0},\n",
       "   {'time': '06:55:00', 'value': 0},\n",
       "   {'time': '06:56:00', 'value': 0},\n",
       "   {'time': '06:57:00', 'value': 0},\n",
       "   {'time': '06:58:00', 'value': 0},\n",
       "   {'time': '06:59:00', 'value': 0},\n",
       "   {'time': '07:00:00', 'value': 9},\n",
       "   {'time': '07:01:00', 'value': 0},\n",
       "   {'time': '07:02:00', 'value': 0},\n",
       "   {'time': '07:03:00', 'value': 0},\n",
       "   {'time': '07:04:00', 'value': 0},\n",
       "   {'time': '07:05:00', 'value': 0},\n",
       "   {'time': '07:06:00', 'value': 0},\n",
       "   {'time': '07:07:00', 'value': 0},\n",
       "   {'time': '07:08:00', 'value': 0},\n",
       "   {'time': '07:09:00', 'value': 24},\n",
       "   {'time': '07:10:00', 'value': 0},\n",
       "   {'time': '07:11:00', 'value': 0},\n",
       "   {'time': '07:12:00', 'value': 0},\n",
       "   {'time': '07:13:00', 'value': 0},\n",
       "   {'time': '07:14:00', 'value': 0},\n",
       "   {'time': '07:15:00', 'value': 0},\n",
       "   {'time': '07:16:00', 'value': 0},\n",
       "   {'time': '07:17:00', 'value': 0},\n",
       "   {'time': '07:18:00', 'value': 0},\n",
       "   {'time': '07:19:00', 'value': 0},\n",
       "   {'time': '07:20:00', 'value': 0},\n",
       "   {'time': '07:21:00', 'value': 0},\n",
       "   {'time': '07:22:00', 'value': 0},\n",
       "   {'time': '07:23:00', 'value': 0},\n",
       "   {'time': '07:24:00', 'value': 0},\n",
       "   {'time': '07:25:00', 'value': 0},\n",
       "   {'time': '07:26:00', 'value': 0},\n",
       "   {'time': '07:27:00', 'value': 0},\n",
       "   {'time': '07:28:00', 'value': 0},\n",
       "   {'time': '07:29:00', 'value': 0},\n",
       "   {'time': '07:30:00', 'value': 0},\n",
       "   {'time': '07:31:00', 'value': 0},\n",
       "   {'time': '07:32:00', 'value': 0},\n",
       "   {'time': '07:33:00', 'value': 0},\n",
       "   {'time': '07:34:00', 'value': 0},\n",
       "   {'time': '07:35:00', 'value': 0},\n",
       "   {'time': '07:36:00', 'value': 0},\n",
       "   {'time': '07:37:00', 'value': 0},\n",
       "   {'time': '07:38:00', 'value': 0},\n",
       "   {'time': '07:39:00', 'value': 0},\n",
       "   {'time': '07:40:00', 'value': 0},\n",
       "   {'time': '07:41:00', 'value': 0},\n",
       "   {'time': '07:42:00', 'value': 0},\n",
       "   {'time': '07:43:00', 'value': 0},\n",
       "   {'time': '07:44:00', 'value': 0},\n",
       "   {'time': '07:45:00', 'value': 0},\n",
       "   {'time': '07:46:00', 'value': 0},\n",
       "   {'time': '07:47:00', 'value': 0},\n",
       "   {'time': '07:48:00', 'value': 0},\n",
       "   {'time': '07:49:00', 'value': 0},\n",
       "   {'time': '07:50:00', 'value': 0},\n",
       "   {'time': '07:51:00', 'value': 0},\n",
       "   {'time': '07:52:00', 'value': 0},\n",
       "   {'time': '07:53:00', 'value': 0},\n",
       "   {'time': '07:54:00', 'value': 0},\n",
       "   {'time': '07:55:00', 'value': 0},\n",
       "   {'time': '07:56:00', 'value': 0},\n",
       "   {'time': '07:57:00', 'value': 0},\n",
       "   {'time': '07:58:00', 'value': 0},\n",
       "   {'time': '07:59:00', 'value': 0},\n",
       "   {'time': '08:00:00', 'value': 0},\n",
       "   {'time': '08:01:00', 'value': 0},\n",
       "   {'time': '08:02:00', 'value': 0},\n",
       "   {'time': '08:03:00', 'value': 0},\n",
       "   {'time': '08:04:00', 'value': 0},\n",
       "   {'time': '08:05:00', 'value': 0},\n",
       "   {'time': '08:06:00', 'value': 0},\n",
       "   {'time': '08:07:00', 'value': 0},\n",
       "   {'time': '08:08:00', 'value': 0},\n",
       "   {'time': '08:09:00', 'value': 0},\n",
       "   {'time': '08:10:00', 'value': 0},\n",
       "   {'time': '08:11:00', 'value': 0},\n",
       "   {'time': '08:12:00', 'value': 0},\n",
       "   {'time': '08:13:00', 'value': 0},\n",
       "   {'time': '08:14:00', 'value': 0},\n",
       "   {'time': '08:15:00', 'value': 0},\n",
       "   {'time': '08:16:00', 'value': 0},\n",
       "   {'time': '08:17:00', 'value': 0},\n",
       "   {'time': '08:18:00', 'value': 0},\n",
       "   {'time': '08:19:00', 'value': 0},\n",
       "   {'time': '08:20:00', 'value': 0},\n",
       "   {'time': '08:21:00', 'value': 0},\n",
       "   {'time': '08:22:00', 'value': 0},\n",
       "   {'time': '08:23:00', 'value': 0},\n",
       "   {'time': '08:24:00', 'value': 0},\n",
       "   {'time': '08:25:00', 'value': 0},\n",
       "   {'time': '08:26:00', 'value': 0},\n",
       "   {'time': '08:27:00', 'value': 0},\n",
       "   {'time': '08:28:00', 'value': 0},\n",
       "   {'time': '08:29:00', 'value': 0},\n",
       "   {'time': '08:30:00', 'value': 0},\n",
       "   {'time': '08:31:00', 'value': 0},\n",
       "   {'time': '08:32:00', 'value': 0},\n",
       "   {'time': '08:33:00', 'value': 0},\n",
       "   {'time': '08:34:00', 'value': 0},\n",
       "   {'time': '08:35:00', 'value': 0},\n",
       "   {'time': '08:36:00', 'value': 0},\n",
       "   {'time': '08:37:00', 'value': 0},\n",
       "   {'time': '08:38:00', 'value': 0},\n",
       "   {'time': '08:39:00', 'value': 0},\n",
       "   {'time': '08:40:00', 'value': 0},\n",
       "   {'time': '08:41:00', 'value': 0},\n",
       "   {'time': '08:42:00', 'value': 0},\n",
       "   {'time': '08:43:00', 'value': 0},\n",
       "   {'time': '08:44:00', 'value': 0},\n",
       "   {'time': '08:45:00', 'value': 0},\n",
       "   {'time': '08:46:00', 'value': 0},\n",
       "   {'time': '08:47:00', 'value': 0},\n",
       "   {'time': '08:48:00', 'value': 0},\n",
       "   {'time': '08:49:00', 'value': 0},\n",
       "   {'time': '08:50:00', 'value': 0},\n",
       "   {'time': '08:51:00', 'value': 0},\n",
       "   {'time': '08:52:00', 'value': 0},\n",
       "   {'time': '08:53:00', 'value': 0},\n",
       "   {'time': '08:54:00', 'value': 0},\n",
       "   {'time': '08:55:00', 'value': 0},\n",
       "   {'time': '08:56:00', 'value': 0},\n",
       "   {'time': '08:57:00', 'value': 0},\n",
       "   {'time': '08:58:00', 'value': 0},\n",
       "   {'time': '08:59:00', 'value': 0},\n",
       "   {'time': '09:00:00', 'value': 0},\n",
       "   {'time': '09:01:00', 'value': 0},\n",
       "   {'time': '09:02:00', 'value': 0},\n",
       "   {'time': '09:03:00', 'value': 0},\n",
       "   {'time': '09:04:00', 'value': 0},\n",
       "   {'time': '09:05:00', 'value': 0},\n",
       "   {'time': '09:06:00', 'value': 0},\n",
       "   {'time': '09:07:00', 'value': 0},\n",
       "   {'time': '09:08:00', 'value': 0},\n",
       "   {'time': '09:09:00', 'value': 0},\n",
       "   {'time': '09:10:00', 'value': 0},\n",
       "   {'time': '09:11:00', 'value': 0},\n",
       "   {'time': '09:12:00', 'value': 0},\n",
       "   {'time': '09:13:00', 'value': 0},\n",
       "   {'time': '09:14:00', 'value': 0},\n",
       "   {'time': '09:15:00', 'value': 0},\n",
       "   {'time': '09:16:00', 'value': 0},\n",
       "   {'time': '09:17:00', 'value': 0},\n",
       "   {'time': '09:18:00', 'value': 0},\n",
       "   {'time': '09:19:00', 'value': 0},\n",
       "   {'time': '09:20:00', 'value': 0},\n",
       "   {'time': '09:21:00', 'value': 0},\n",
       "   {'time': '09:22:00', 'value': 0},\n",
       "   {'time': '09:23:00', 'value': 0},\n",
       "   {'time': '09:24:00', 'value': 0},\n",
       "   {'time': '09:25:00', 'value': 0},\n",
       "   {'time': '09:26:00', 'value': 0},\n",
       "   {'time': '09:27:00', 'value': 0},\n",
       "   {'time': '09:28:00', 'value': 0},\n",
       "   {'time': '09:29:00', 'value': 0},\n",
       "   {'time': '09:30:00', 'value': 0},\n",
       "   {'time': '09:31:00', 'value': 0},\n",
       "   {'time': '09:32:00', 'value': 0},\n",
       "   {'time': '09:33:00', 'value': 0},\n",
       "   {'time': '09:34:00', 'value': 0},\n",
       "   {'time': '09:35:00', 'value': 0},\n",
       "   {'time': '09:36:00', 'value': 0},\n",
       "   {'time': '09:37:00', 'value': 0},\n",
       "   {'time': '09:38:00', 'value': 0},\n",
       "   {'time': '09:39:00', 'value': 0},\n",
       "   {'time': '09:40:00', 'value': 0},\n",
       "   {'time': '09:41:00', 'value': 0},\n",
       "   {'time': '09:42:00', 'value': 0},\n",
       "   {'time': '09:43:00', 'value': 0},\n",
       "   {'time': '09:44:00', 'value': 0},\n",
       "   {'time': '09:45:00', 'value': 0},\n",
       "   {'time': '09:46:00', 'value': 0},\n",
       "   {'time': '09:47:00', 'value': 0},\n",
       "   {'time': '09:48:00', 'value': 0},\n",
       "   {'time': '09:49:00', 'value': 0},\n",
       "   {'time': '09:50:00', 'value': 0},\n",
       "   {'time': '09:51:00', 'value': 0},\n",
       "   {'time': '09:52:00', 'value': 0},\n",
       "   {'time': '09:53:00', 'value': 0},\n",
       "   {'time': '09:54:00', 'value': 0},\n",
       "   {'time': '09:55:00', 'value': 0},\n",
       "   {'time': '09:56:00', 'value': 0},\n",
       "   {'time': '09:57:00', 'value': 0},\n",
       "   {'time': '09:58:00', 'value': 0},\n",
       "   {'time': '09:59:00', 'value': 0},\n",
       "   {'time': '10:00:00', 'value': 0},\n",
       "   {'time': '10:01:00', 'value': 0},\n",
       "   {'time': '10:02:00', 'value': 0},\n",
       "   {'time': '10:03:00', 'value': 0},\n",
       "   {'time': '10:04:00', 'value': 0},\n",
       "   {'time': '10:05:00', 'value': 0},\n",
       "   {'time': '10:06:00', 'value': 0},\n",
       "   {'time': '10:07:00', 'value': 0},\n",
       "   {'time': '10:08:00', 'value': 0},\n",
       "   {'time': '10:09:00', 'value': 0},\n",
       "   {'time': '10:10:00', 'value': 0},\n",
       "   {'time': '10:11:00', 'value': 0},\n",
       "   {'time': '10:12:00', 'value': 0},\n",
       "   {'time': '10:13:00', 'value': 0},\n",
       "   {'time': '10:14:00', 'value': 0},\n",
       "   {'time': '10:15:00', 'value': 0},\n",
       "   {'time': '10:16:00', 'value': 0},\n",
       "   {'time': '10:17:00', 'value': 0},\n",
       "   {'time': '10:18:00', 'value': 0},\n",
       "   {'time': '10:19:00', 'value': 0},\n",
       "   {'time': '10:20:00', 'value': 0},\n",
       "   {'time': '10:21:00', 'value': 0},\n",
       "   {'time': '10:22:00', 'value': 0},\n",
       "   {'time': '10:23:00', 'value': 0},\n",
       "   {'time': '10:24:00', 'value': 0},\n",
       "   {'time': '10:25:00', 'value': 0},\n",
       "   {'time': '10:26:00', 'value': 0},\n",
       "   {'time': '10:27:00', 'value': 0},\n",
       "   {'time': '10:28:00', 'value': 0},\n",
       "   {'time': '10:29:00', 'value': 0},\n",
       "   {'time': '10:30:00', 'value': 0},\n",
       "   {'time': '10:31:00', 'value': 0},\n",
       "   {'time': '10:32:00', 'value': 0},\n",
       "   {'time': '10:33:00', 'value': 0},\n",
       "   {'time': '10:34:00', 'value': 0},\n",
       "   {'time': '10:35:00', 'value': 0},\n",
       "   {'time': '10:36:00', 'value': 0},\n",
       "   {'time': '10:37:00', 'value': 0},\n",
       "   {'time': '10:38:00', 'value': 0},\n",
       "   {'time': '10:39:00', 'value': 0},\n",
       "   {'time': '10:40:00', 'value': 0},\n",
       "   {'time': '10:41:00', 'value': 0},\n",
       "   {'time': '10:42:00', 'value': 0},\n",
       "   {'time': '10:43:00', 'value': 0},\n",
       "   {'time': '10:44:00', 'value': 0},\n",
       "   {'time': '10:45:00', 'value': 0},\n",
       "   {'time': '10:46:00', 'value': 0},\n",
       "   {'time': '10:47:00', 'value': 0},\n",
       "   {'time': '10:48:00', 'value': 0},\n",
       "   {'time': '10:49:00', 'value': 0},\n",
       "   {'time': '10:50:00', 'value': 0},\n",
       "   {'time': '10:51:00', 'value': 0},\n",
       "   {'time': '10:52:00', 'value': 0},\n",
       "   {'time': '10:53:00', 'value': 0},\n",
       "   {'time': '10:54:00', 'value': 0},\n",
       "   {'time': '10:55:00', 'value': 0},\n",
       "   {'time': '10:56:00', 'value': 0},\n",
       "   {'time': '10:57:00', 'value': 0},\n",
       "   {'time': '10:58:00', 'value': 0},\n",
       "   {'time': '10:59:00', 'value': 0},\n",
       "   {'time': '11:00:00', 'value': 0},\n",
       "   {'time': '11:01:00', 'value': 0},\n",
       "   {'time': '11:02:00', 'value': 0},\n",
       "   {'time': '11:03:00', 'value': 0},\n",
       "   {'time': '11:04:00', 'value': 0},\n",
       "   {'time': '11:05:00', 'value': 0},\n",
       "   {'time': '11:06:00', 'value': 0},\n",
       "   {'time': '11:07:00', 'value': 0},\n",
       "   {'time': '11:08:00', 'value': 0},\n",
       "   {'time': '11:09:00', 'value': 0},\n",
       "   {'time': '11:10:00', 'value': 0},\n",
       "   {'time': '11:11:00', 'value': 0},\n",
       "   {'time': '11:12:00', 'value': 0},\n",
       "   {'time': '11:13:00', 'value': 0},\n",
       "   {'time': '11:14:00', 'value': 0},\n",
       "   {'time': '11:15:00', 'value': 0},\n",
       "   {'time': '11:16:00', 'value': 0},\n",
       "   {'time': '11:17:00', 'value': 0},\n",
       "   {'time': '11:18:00', 'value': 0},\n",
       "   {'time': '11:19:00', 'value': 0},\n",
       "   {'time': '11:20:00', 'value': 0},\n",
       "   {'time': '11:21:00', 'value': 0},\n",
       "   {'time': '11:22:00', 'value': 0},\n",
       "   {'time': '11:23:00', 'value': 0},\n",
       "   {'time': '11:24:00', 'value': 0},\n",
       "   {'time': '11:25:00', 'value': 0},\n",
       "   {'time': '11:26:00', 'value': 0},\n",
       "   {'time': '11:27:00', 'value': 0},\n",
       "   {'time': '11:28:00', 'value': 0},\n",
       "   {'time': '11:29:00', 'value': 0},\n",
       "   {'time': '11:30:00', 'value': 0},\n",
       "   {'time': '11:31:00', 'value': 0},\n",
       "   {'time': '11:32:00', 'value': 0},\n",
       "   {'time': '11:33:00', 'value': 0},\n",
       "   {'time': '11:34:00', 'value': 0},\n",
       "   {'time': '11:35:00', 'value': 0},\n",
       "   {'time': '11:36:00', 'value': 0},\n",
       "   {'time': '11:37:00', 'value': 0},\n",
       "   {'time': '11:38:00', 'value': 0},\n",
       "   {'time': '11:39:00', 'value': 0},\n",
       "   {'time': '11:40:00', 'value': 0},\n",
       "   {'time': '11:41:00', 'value': 0},\n",
       "   {'time': '11:42:00', 'value': 0},\n",
       "   {'time': '11:43:00', 'value': 0},\n",
       "   {'time': '11:44:00', 'value': 0},\n",
       "   {'time': '11:45:00', 'value': 0},\n",
       "   {'time': '11:46:00', 'value': 0},\n",
       "   {'time': '11:47:00', 'value': 0},\n",
       "   {'time': '11:48:00', 'value': 0},\n",
       "   {'time': '11:49:00', 'value': 0},\n",
       "   {'time': '11:50:00', 'value': 0},\n",
       "   {'time': '11:51:00', 'value': 0},\n",
       "   {'time': '11:52:00', 'value': 0},\n",
       "   {'time': '11:53:00', 'value': 0},\n",
       "   {'time': '11:54:00', 'value': 0},\n",
       "   {'time': '11:55:00', 'value': 0},\n",
       "   {'time': '11:56:00', 'value': 0},\n",
       "   {'time': '11:57:00', 'value': 0},\n",
       "   {'time': '11:58:00', 'value': 0},\n",
       "   {'time': '11:59:00', 'value': 0},\n",
       "   {'time': '12:00:00', 'value': 0},\n",
       "   {'time': '12:01:00', 'value': 0},\n",
       "   {'time': '12:02:00', 'value': 0},\n",
       "   {'time': '12:03:00', 'value': 0},\n",
       "   {'time': '12:04:00', 'value': 0},\n",
       "   {'time': '12:05:00', 'value': 0},\n",
       "   {'time': '12:06:00', 'value': 0},\n",
       "   {'time': '12:07:00', 'value': 0},\n",
       "   {'time': '12:08:00', 'value': 0},\n",
       "   {'time': '12:09:00', 'value': 0},\n",
       "   {'time': '12:10:00', 'value': 0},\n",
       "   {'time': '12:11:00', 'value': 0},\n",
       "   {'time': '12:12:00', 'value': 0},\n",
       "   {'time': '12:13:00', 'value': 0},\n",
       "   {'time': '12:14:00', 'value': 0},\n",
       "   {'time': '12:15:00', 'value': 0},\n",
       "   {'time': '12:16:00', 'value': 0},\n",
       "   {'time': '12:17:00', 'value': 0},\n",
       "   {'time': '12:18:00', 'value': 0},\n",
       "   {'time': '12:19:00', 'value': 0},\n",
       "   {'time': '12:20:00', 'value': 0},\n",
       "   {'time': '12:21:00', 'value': 0},\n",
       "   {'time': '12:22:00', 'value': 0},\n",
       "   {'time': '12:23:00', 'value': 0},\n",
       "   {'time': '12:24:00', 'value': 0},\n",
       "   {'time': '12:25:00', 'value': 0},\n",
       "   {'time': '12:26:00', 'value': 0},\n",
       "   {'time': '12:27:00', 'value': 0},\n",
       "   {'time': '12:28:00', 'value': 0},\n",
       "   {'time': '12:29:00', 'value': 0},\n",
       "   {'time': '12:30:00', 'value': 0},\n",
       "   {'time': '12:31:00', 'value': 0},\n",
       "   {'time': '12:32:00', 'value': 0},\n",
       "   {'time': '12:33:00', 'value': 0},\n",
       "   {'time': '12:34:00', 'value': 0},\n",
       "   {'time': '12:35:00', 'value': 0},\n",
       "   {'time': '12:36:00', 'value': 0},\n",
       "   {'time': '12:37:00', 'value': 0},\n",
       "   {'time': '12:38:00', 'value': 0},\n",
       "   {'time': '12:39:00', 'value': 0},\n",
       "   {'time': '12:40:00', 'value': 0},\n",
       "   {'time': '12:41:00', 'value': 0},\n",
       "   {'time': '12:42:00', 'value': 0},\n",
       "   {'time': '12:43:00', 'value': 0},\n",
       "   {'time': '12:44:00', 'value': 0},\n",
       "   {'time': '12:45:00', 'value': 0},\n",
       "   {'time': '12:46:00', 'value': 0},\n",
       "   {'time': '12:47:00', 'value': 0},\n",
       "   {'time': '12:48:00', 'value': 0},\n",
       "   {'time': '12:49:00', 'value': 0},\n",
       "   {'time': '12:50:00', 'value': 0},\n",
       "   {'time': '12:51:00', 'value': 0},\n",
       "   {'time': '12:52:00', 'value': 0},\n",
       "   {'time': '12:53:00', 'value': 0},\n",
       "   {'time': '12:54:00', 'value': 0},\n",
       "   {'time': '12:55:00', 'value': 0},\n",
       "   {'time': '12:56:00', 'value': 0},\n",
       "   {'time': '12:57:00', 'value': 0},\n",
       "   {'time': '12:58:00', 'value': 0},\n",
       "   {'time': '12:59:00', 'value': 0},\n",
       "   {'time': '13:00:00', 'value': 0},\n",
       "   {'time': '13:01:00', 'value': 0},\n",
       "   {'time': '13:02:00', 'value': 0},\n",
       "   {'time': '13:03:00', 'value': 0},\n",
       "   {'time': '13:04:00', 'value': 0},\n",
       "   {'time': '13:05:00', 'value': 0},\n",
       "   {'time': '13:06:00', 'value': 0},\n",
       "   {'time': '13:07:00', 'value': 0},\n",
       "   {'time': '13:08:00', 'value': 0},\n",
       "   {'time': '13:09:00', 'value': 0},\n",
       "   {'time': '13:10:00', 'value': 0},\n",
       "   {'time': '13:11:00', 'value': 0},\n",
       "   {'time': '13:12:00', 'value': 0},\n",
       "   {'time': '13:13:00', 'value': 0},\n",
       "   {'time': '13:14:00', 'value': 0},\n",
       "   {'time': '13:15:00', 'value': 0},\n",
       "   {'time': '13:16:00', 'value': 0},\n",
       "   {'time': '13:17:00', 'value': 0},\n",
       "   {'time': '13:18:00', 'value': 0},\n",
       "   {'time': '13:19:00', 'value': 0},\n",
       "   {'time': '13:20:00', 'value': 0},\n",
       "   {'time': '13:21:00', 'value': 0},\n",
       "   {'time': '13:22:00', 'value': 0},\n",
       "   {'time': '13:23:00', 'value': 0},\n",
       "   {'time': '13:24:00', 'value': 0},\n",
       "   {'time': '13:25:00', 'value': 0},\n",
       "   {'time': '13:26:00', 'value': 0},\n",
       "   {'time': '13:27:00', 'value': 0},\n",
       "   {'time': '13:28:00', 'value': 0},\n",
       "   {'time': '13:29:00', 'value': 0},\n",
       "   {'time': '13:30:00', 'value': 0},\n",
       "   {'time': '13:31:00', 'value': 0},\n",
       "   {'time': '13:32:00', 'value': 0},\n",
       "   {'time': '13:33:00', 'value': 0},\n",
       "   {'time': '13:34:00', 'value': 0},\n",
       "   {'time': '13:35:00', 'value': 0},\n",
       "   {'time': '13:36:00', 'value': 0},\n",
       "   {'time': '13:37:00', 'value': 0},\n",
       "   {'time': '13:38:00', 'value': 0},\n",
       "   {'time': '13:39:00', 'value': 0},\n",
       "   {'time': '13:40:00', 'value': 0},\n",
       "   {'time': '13:41:00', 'value': 0},\n",
       "   {'time': '13:42:00', 'value': 0},\n",
       "   {'time': '13:43:00', 'value': 0},\n",
       "   {'time': '13:44:00', 'value': 0},\n",
       "   {'time': '13:45:00', 'value': 0},\n",
       "   {'time': '13:46:00', 'value': 0},\n",
       "   {'time': '13:47:00', 'value': 0},\n",
       "   {'time': '13:48:00', 'value': 0},\n",
       "   {'time': '13:49:00', 'value': 0},\n",
       "   {'time': '13:50:00', 'value': 0},\n",
       "   {'time': '13:51:00', 'value': 0},\n",
       "   {'time': '13:52:00', 'value': 0},\n",
       "   {'time': '13:53:00', 'value': 0},\n",
       "   {'time': '13:54:00', 'value': 0},\n",
       "   {'time': '13:55:00', 'value': 0},\n",
       "   {'time': '13:56:00', 'value': 0},\n",
       "   {'time': '13:57:00', 'value': 0},\n",
       "   {'time': '13:58:00', 'value': 0},\n",
       "   {'time': '13:59:00', 'value': 0},\n",
       "   {'time': '14:00:00', 'value': 0},\n",
       "   {'time': '14:01:00', 'value': 0},\n",
       "   {'time': '14:02:00', 'value': 0},\n",
       "   {'time': '14:03:00', 'value': 0},\n",
       "   {'time': '14:04:00', 'value': 0},\n",
       "   {'time': '14:05:00', 'value': 0},\n",
       "   {'time': '14:06:00', 'value': 0},\n",
       "   {'time': '14:07:00', 'value': 0},\n",
       "   {'time': '14:08:00', 'value': 0},\n",
       "   {'time': '14:09:00', 'value': 0},\n",
       "   {'time': '14:10:00', 'value': 0},\n",
       "   {'time': '14:11:00', 'value': 0},\n",
       "   {'time': '14:12:00', 'value': 0},\n",
       "   {'time': '14:13:00', 'value': 0},\n",
       "   {'time': '14:14:00', 'value': 0},\n",
       "   {'time': '14:15:00', 'value': 0},\n",
       "   {'time': '14:16:00', 'value': 0},\n",
       "   {'time': '14:17:00', 'value': 0},\n",
       "   {'time': '14:18:00', 'value': 0},\n",
       "   {'time': '14:19:00', 'value': 0},\n",
       "   {'time': '14:20:00', 'value': 0},\n",
       "   {'time': '14:21:00', 'value': 0},\n",
       "   {'time': '14:22:00', 'value': 0},\n",
       "   {'time': '14:23:00', 'value': 0},\n",
       "   {'time': '14:24:00', 'value': 0},\n",
       "   {'time': '14:25:00', 'value': 0},\n",
       "   {'time': '14:26:00', 'value': 0},\n",
       "   {'time': '14:27:00', 'value': 0},\n",
       "   {'time': '14:28:00', 'value': 0},\n",
       "   {'time': '14:29:00', 'value': 0},\n",
       "   {'time': '14:30:00', 'value': 0},\n",
       "   {'time': '14:31:00', 'value': 0},\n",
       "   {'time': '14:32:00', 'value': 0},\n",
       "   {'time': '14:33:00', 'value': 0},\n",
       "   {'time': '14:34:00', 'value': 0},\n",
       "   {'time': '14:35:00', 'value': 0},\n",
       "   {'time': '14:36:00', 'value': 0},\n",
       "   {'time': '14:37:00', 'value': 0},\n",
       "   {'time': '14:38:00', 'value': 0},\n",
       "   {'time': '14:39:00', 'value': 0},\n",
       "   {'time': '14:40:00', 'value': 0},\n",
       "   {'time': '14:41:00', 'value': 0},\n",
       "   {'time': '14:42:00', 'value': 0},\n",
       "   {'time': '14:43:00', 'value': 0},\n",
       "   {'time': '14:44:00', 'value': 0},\n",
       "   {'time': '14:45:00', 'value': 0},\n",
       "   {'time': '14:46:00', 'value': 0},\n",
       "   {'time': '14:47:00', 'value': 0},\n",
       "   {'time': '14:48:00', 'value': 0},\n",
       "   {'time': '14:49:00', 'value': 0},\n",
       "   {'time': '14:50:00', 'value': 0},\n",
       "   {'time': '14:51:00', 'value': 0},\n",
       "   {'time': '14:52:00', 'value': 0},\n",
       "   {'time': '14:53:00', 'value': 0},\n",
       "   {'time': '14:54:00', 'value': 0},\n",
       "   {'time': '14:55:00', 'value': 0},\n",
       "   {'time': '14:56:00', 'value': 0},\n",
       "   {'time': '14:57:00', 'value': 0},\n",
       "   {'time': '14:58:00', 'value': 0},\n",
       "   {'time': '14:59:00', 'value': 0},\n",
       "   {'time': '15:00:00', 'value': 0},\n",
       "   {'time': '15:01:00', 'value': 0},\n",
       "   {'time': '15:02:00', 'value': 0},\n",
       "   {'time': '15:03:00', 'value': 0},\n",
       "   {'time': '15:04:00', 'value': 0},\n",
       "   {'time': '15:05:00', 'value': 0},\n",
       "   {'time': '15:06:00', 'value': 0},\n",
       "   {'time': '15:07:00', 'value': 0},\n",
       "   {'time': '15:08:00', 'value': 0},\n",
       "   {'time': '15:09:00', 'value': 0},\n",
       "   {'time': '15:10:00', 'value': 0},\n",
       "   {'time': '15:11:00', 'value': 0},\n",
       "   {'time': '15:12:00', 'value': 0},\n",
       "   {'time': '15:13:00', 'value': 0},\n",
       "   {'time': '15:14:00', 'value': 0},\n",
       "   {'time': '15:15:00', 'value': 0},\n",
       "   {'time': '15:16:00', 'value': 0},\n",
       "   {'time': '15:17:00', 'value': 0},\n",
       "   {'time': '15:18:00', 'value': 0},\n",
       "   {'time': '15:19:00', 'value': 0},\n",
       "   {'time': '15:20:00', 'value': 0},\n",
       "   {'time': '15:21:00', 'value': 0},\n",
       "   {'time': '15:22:00', 'value': 0},\n",
       "   {'time': '15:23:00', 'value': 0},\n",
       "   {'time': '15:24:00', 'value': 0},\n",
       "   {'time': '15:25:00', 'value': 0},\n",
       "   {'time': '15:26:00', 'value': 0},\n",
       "   {'time': '15:27:00', 'value': 0},\n",
       "   {'time': '15:28:00', 'value': 0},\n",
       "   {'time': '15:29:00', 'value': 0},\n",
       "   {'time': '15:30:00', 'value': 0},\n",
       "   {'time': '15:31:00', 'value': 0},\n",
       "   {'time': '15:32:00', 'value': 0},\n",
       "   {'time': '15:33:00', 'value': 0},\n",
       "   {'time': '15:34:00', 'value': 0},\n",
       "   {'time': '15:35:00', 'value': 0},\n",
       "   {'time': '15:36:00', 'value': 0},\n",
       "   {'time': '15:37:00', 'value': 0},\n",
       "   {'time': '15:38:00', 'value': 0},\n",
       "   {'time': '15:39:00', 'value': 0},\n",
       "   {'time': '15:40:00', 'value': 0},\n",
       "   {'time': '15:41:00', 'value': 0},\n",
       "   {'time': '15:42:00', 'value': 0},\n",
       "   {'time': '15:43:00', 'value': 0},\n",
       "   {'time': '15:44:00', 'value': 0},\n",
       "   {'time': '15:45:00', 'value': 0},\n",
       "   {'time': '15:46:00', 'value': 0},\n",
       "   {'time': '15:47:00', 'value': 0},\n",
       "   {'time': '15:48:00', 'value': 0},\n",
       "   {'time': '15:49:00', 'value': 0},\n",
       "   {'time': '15:50:00', 'value': 0},\n",
       "   {'time': '15:51:00', 'value': 0},\n",
       "   {'time': '15:52:00', 'value': 0},\n",
       "   {'time': '15:53:00', 'value': 0},\n",
       "   {'time': '15:54:00', 'value': 0},\n",
       "   {'time': '15:55:00', 'value': 0},\n",
       "   {'time': '15:56:00', 'value': 0},\n",
       "   {'time': '15:57:00', 'value': 0},\n",
       "   {'time': '15:58:00', 'value': 0},\n",
       "   {'time': '15:59:00', 'value': 0},\n",
       "   {'time': '16:00:00', 'value': 0},\n",
       "   {'time': '16:01:00', 'value': 0},\n",
       "   {'time': '16:02:00', 'value': 0},\n",
       "   {'time': '16:03:00', 'value': 0},\n",
       "   {'time': '16:04:00', 'value': 0},\n",
       "   {'time': '16:05:00', 'value': 0},\n",
       "   {'time': '16:06:00', 'value': 0},\n",
       "   {'time': '16:07:00', 'value': 0},\n",
       "   {'time': '16:08:00', 'value': 0},\n",
       "   {'time': '16:09:00', 'value': 0},\n",
       "   {'time': '16:10:00', 'value': 0},\n",
       "   {'time': '16:11:00', 'value': 0},\n",
       "   {'time': '16:12:00', 'value': 0},\n",
       "   {'time': '16:13:00', 'value': 0},\n",
       "   {'time': '16:14:00', 'value': 0},\n",
       "   {'time': '16:15:00', 'value': 0},\n",
       "   {'time': '16:16:00', 'value': 0},\n",
       "   {'time': '16:17:00', 'value': 0},\n",
       "   {'time': '16:18:00', 'value': 0},\n",
       "   {'time': '16:19:00', 'value': 0},\n",
       "   {'time': '16:20:00', 'value': 0},\n",
       "   {'time': '16:21:00', 'value': 0},\n",
       "   {'time': '16:22:00', 'value': 0},\n",
       "   {'time': '16:23:00', 'value': 0},\n",
       "   {'time': '16:24:00', 'value': 0},\n",
       "   {'time': '16:25:00', 'value': 0},\n",
       "   {'time': '16:26:00', 'value': 0},\n",
       "   {'time': '16:27:00', 'value': 0},\n",
       "   {'time': '16:28:00', 'value': 0},\n",
       "   {'time': '16:29:00', 'value': 0},\n",
       "   {'time': '16:30:00', 'value': 0},\n",
       "   {'time': '16:31:00', 'value': 0},\n",
       "   {'time': '16:32:00', 'value': 0},\n",
       "   {'time': '16:33:00', 'value': 0},\n",
       "   {'time': '16:34:00', 'value': 0},\n",
       "   {'time': '16:35:00', 'value': 0},\n",
       "   {'time': '16:36:00', 'value': 0},\n",
       "   {'time': '16:37:00', 'value': 0},\n",
       "   {'time': '16:38:00', 'value': 0},\n",
       "   {'time': '16:39:00', 'value': 0},\n",
       "   ...],\n",
       "  'datasetInterval': 1,\n",
       "  'datasetType': 'minute'}}"
      ]
     },
     "execution_count": 2,
     "metadata": {},
     "output_type": "execute_result"
    }
   ],
   "source": [
    "response = requests.get('https://api.fitbit.com/1/user/-/activities/steps/date/2024-10-10/1d.json',\n",
    "    headers={'Authorization': 'Bearer ' + FITBIT_ACCESS_TOKEN})\n",
    "today_json = response.json()\n",
    "today_json"
   ]
  },
  {
   "cell_type": "code",
   "execution_count": 3,
   "metadata": {},
   "outputs": [
    {
     "data": {
      "text/plain": [
       "'53'"
      ]
     },
     "execution_count": 3,
     "metadata": {},
     "output_type": "execute_result"
    }
   ],
   "source": [
    "today_json['activities-steps'][0]['value']"
   ]
  },
  {
   "cell_type": "code",
   "execution_count": 4,
   "metadata": {},
   "outputs": [
    {
     "data": {
      "text/html": [
       "<div>\n",
       "<style scoped>\n",
       "    .dataframe tbody tr th:only-of-type {\n",
       "        vertical-align: middle;\n",
       "    }\n",
       "\n",
       "    .dataframe tbody tr th {\n",
       "        vertical-align: top;\n",
       "    }\n",
       "\n",
       "    .dataframe thead th {\n",
       "        text-align: right;\n",
       "    }\n",
       "</style>\n",
       "<table border=\"1\" class=\"dataframe\">\n",
       "  <thead>\n",
       "    <tr style=\"text-align: right;\">\n",
       "      <th></th>\n",
       "      <th>time</th>\n",
       "      <th>value</th>\n",
       "    </tr>\n",
       "  </thead>\n",
       "  <tbody>\n",
       "    <tr>\n",
       "      <th>0</th>\n",
       "      <td>00:00:00</td>\n",
       "      <td>0</td>\n",
       "    </tr>\n",
       "    <tr>\n",
       "      <th>1</th>\n",
       "      <td>00:01:00</td>\n",
       "      <td>0</td>\n",
       "    </tr>\n",
       "    <tr>\n",
       "      <th>2</th>\n",
       "      <td>00:02:00</td>\n",
       "      <td>0</td>\n",
       "    </tr>\n",
       "    <tr>\n",
       "      <th>3</th>\n",
       "      <td>00:03:00</td>\n",
       "      <td>0</td>\n",
       "    </tr>\n",
       "    <tr>\n",
       "      <th>4</th>\n",
       "      <td>00:04:00</td>\n",
       "      <td>0</td>\n",
       "    </tr>\n",
       "    <tr>\n",
       "      <th>...</th>\n",
       "      <td>...</td>\n",
       "      <td>...</td>\n",
       "    </tr>\n",
       "    <tr>\n",
       "      <th>1435</th>\n",
       "      <td>23:55:00</td>\n",
       "      <td>0</td>\n",
       "    </tr>\n",
       "    <tr>\n",
       "      <th>1436</th>\n",
       "      <td>23:56:00</td>\n",
       "      <td>0</td>\n",
       "    </tr>\n",
       "    <tr>\n",
       "      <th>1437</th>\n",
       "      <td>23:57:00</td>\n",
       "      <td>0</td>\n",
       "    </tr>\n",
       "    <tr>\n",
       "      <th>1438</th>\n",
       "      <td>23:58:00</td>\n",
       "      <td>0</td>\n",
       "    </tr>\n",
       "    <tr>\n",
       "      <th>1439</th>\n",
       "      <td>23:59:00</td>\n",
       "      <td>0</td>\n",
       "    </tr>\n",
       "  </tbody>\n",
       "</table>\n",
       "<p>1440 rows × 2 columns</p>\n",
       "</div>"
      ],
      "text/plain": [
       "          time  value\n",
       "0     00:00:00      0\n",
       "1     00:01:00      0\n",
       "2     00:02:00      0\n",
       "3     00:03:00      0\n",
       "4     00:04:00      0\n",
       "...        ...    ...\n",
       "1435  23:55:00      0\n",
       "1436  23:56:00      0\n",
       "1437  23:57:00      0\n",
       "1438  23:58:00      0\n",
       "1439  23:59:00      0\n",
       "\n",
       "[1440 rows x 2 columns]"
      ]
     },
     "execution_count": 4,
     "metadata": {},
     "output_type": "execute_result"
    }
   ],
   "source": [
    "today_steps = pd.DataFrame(today_json['activities-steps-intraday']['dataset'])\n",
    "today_steps"
   ]
  },
  {
   "cell_type": "code",
   "execution_count": 5,
   "metadata": {},
   "outputs": [],
   "source": [
    "date = today_json['activities-steps'][0]['dateTime']\n",
    "today_steps.time = pd.to_datetime(date + ' ' + today_steps.time)"
   ]
  },
  {
   "cell_type": "code",
   "execution_count": 6,
   "metadata": {},
   "outputs": [
    {
     "data": {
      "text/html": [
       "<div>\n",
       "<style scoped>\n",
       "    .dataframe tbody tr th:only-of-type {\n",
       "        vertical-align: middle;\n",
       "    }\n",
       "\n",
       "    .dataframe tbody tr th {\n",
       "        vertical-align: top;\n",
       "    }\n",
       "\n",
       "    .dataframe thead th {\n",
       "        text-align: right;\n",
       "    }\n",
       "</style>\n",
       "<table border=\"1\" class=\"dataframe\">\n",
       "  <thead>\n",
       "    <tr style=\"text-align: right;\">\n",
       "      <th></th>\n",
       "      <th>time</th>\n",
       "      <th>value</th>\n",
       "    </tr>\n",
       "  </thead>\n",
       "  <tbody>\n",
       "    <tr>\n",
       "      <th>0</th>\n",
       "      <td>2024-10-10 00:00:00</td>\n",
       "      <td>0</td>\n",
       "    </tr>\n",
       "    <tr>\n",
       "      <th>1</th>\n",
       "      <td>2024-10-10 01:00:00</td>\n",
       "      <td>0</td>\n",
       "    </tr>\n",
       "    <tr>\n",
       "      <th>2</th>\n",
       "      <td>2024-10-10 02:00:00</td>\n",
       "      <td>9</td>\n",
       "    </tr>\n",
       "    <tr>\n",
       "      <th>3</th>\n",
       "      <td>2024-10-10 03:00:00</td>\n",
       "      <td>0</td>\n",
       "    </tr>\n",
       "    <tr>\n",
       "      <th>4</th>\n",
       "      <td>2024-10-10 04:00:00</td>\n",
       "      <td>5</td>\n",
       "    </tr>\n",
       "    <tr>\n",
       "      <th>5</th>\n",
       "      <td>2024-10-10 05:00:00</td>\n",
       "      <td>6</td>\n",
       "    </tr>\n",
       "    <tr>\n",
       "      <th>6</th>\n",
       "      <td>2024-10-10 06:00:00</td>\n",
       "      <td>0</td>\n",
       "    </tr>\n",
       "    <tr>\n",
       "      <th>7</th>\n",
       "      <td>2024-10-10 07:00:00</td>\n",
       "      <td>33</td>\n",
       "    </tr>\n",
       "    <tr>\n",
       "      <th>8</th>\n",
       "      <td>2024-10-10 08:00:00</td>\n",
       "      <td>0</td>\n",
       "    </tr>\n",
       "    <tr>\n",
       "      <th>9</th>\n",
       "      <td>2024-10-10 09:00:00</td>\n",
       "      <td>0</td>\n",
       "    </tr>\n",
       "    <tr>\n",
       "      <th>10</th>\n",
       "      <td>2024-10-10 10:00:00</td>\n",
       "      <td>0</td>\n",
       "    </tr>\n",
       "    <tr>\n",
       "      <th>11</th>\n",
       "      <td>2024-10-10 11:00:00</td>\n",
       "      <td>0</td>\n",
       "    </tr>\n",
       "    <tr>\n",
       "      <th>12</th>\n",
       "      <td>2024-10-10 12:00:00</td>\n",
       "      <td>0</td>\n",
       "    </tr>\n",
       "    <tr>\n",
       "      <th>13</th>\n",
       "      <td>2024-10-10 13:00:00</td>\n",
       "      <td>0</td>\n",
       "    </tr>\n",
       "    <tr>\n",
       "      <th>14</th>\n",
       "      <td>2024-10-10 14:00:00</td>\n",
       "      <td>0</td>\n",
       "    </tr>\n",
       "    <tr>\n",
       "      <th>15</th>\n",
       "      <td>2024-10-10 15:00:00</td>\n",
       "      <td>0</td>\n",
       "    </tr>\n",
       "    <tr>\n",
       "      <th>16</th>\n",
       "      <td>2024-10-10 16:00:00</td>\n",
       "      <td>0</td>\n",
       "    </tr>\n",
       "    <tr>\n",
       "      <th>17</th>\n",
       "      <td>2024-10-10 17:00:00</td>\n",
       "      <td>0</td>\n",
       "    </tr>\n",
       "    <tr>\n",
       "      <th>18</th>\n",
       "      <td>2024-10-10 18:00:00</td>\n",
       "      <td>0</td>\n",
       "    </tr>\n",
       "    <tr>\n",
       "      <th>19</th>\n",
       "      <td>2024-10-10 19:00:00</td>\n",
       "      <td>0</td>\n",
       "    </tr>\n",
       "    <tr>\n",
       "      <th>20</th>\n",
       "      <td>2024-10-10 20:00:00</td>\n",
       "      <td>0</td>\n",
       "    </tr>\n",
       "    <tr>\n",
       "      <th>21</th>\n",
       "      <td>2024-10-10 21:00:00</td>\n",
       "      <td>0</td>\n",
       "    </tr>\n",
       "    <tr>\n",
       "      <th>22</th>\n",
       "      <td>2024-10-10 22:00:00</td>\n",
       "      <td>0</td>\n",
       "    </tr>\n",
       "    <tr>\n",
       "      <th>23</th>\n",
       "      <td>2024-10-10 23:00:00</td>\n",
       "      <td>0</td>\n",
       "    </tr>\n",
       "  </tbody>\n",
       "</table>\n",
       "</div>"
      ],
      "text/plain": [
       "                  time  value\n",
       "0  2024-10-10 00:00:00      0\n",
       "1  2024-10-10 01:00:00      0\n",
       "2  2024-10-10 02:00:00      9\n",
       "3  2024-10-10 03:00:00      0\n",
       "4  2024-10-10 04:00:00      5\n",
       "5  2024-10-10 05:00:00      6\n",
       "6  2024-10-10 06:00:00      0\n",
       "7  2024-10-10 07:00:00     33\n",
       "8  2024-10-10 08:00:00      0\n",
       "9  2024-10-10 09:00:00      0\n",
       "10 2024-10-10 10:00:00      0\n",
       "11 2024-10-10 11:00:00      0\n",
       "12 2024-10-10 12:00:00      0\n",
       "13 2024-10-10 13:00:00      0\n",
       "14 2024-10-10 14:00:00      0\n",
       "15 2024-10-10 15:00:00      0\n",
       "16 2024-10-10 16:00:00      0\n",
       "17 2024-10-10 17:00:00      0\n",
       "18 2024-10-10 18:00:00      0\n",
       "19 2024-10-10 19:00:00      0\n",
       "20 2024-10-10 20:00:00      0\n",
       "21 2024-10-10 21:00:00      0\n",
       "22 2024-10-10 22:00:00      0\n",
       "23 2024-10-10 23:00:00      0"
      ]
     },
     "execution_count": 6,
     "metadata": {},
     "output_type": "execute_result"
    }
   ],
   "source": [
    "hourly_steps = today_steps.groupby(pd.Grouper(key='time', freq='h')).sum().reset_index()\n",
    "hourly_steps"
   ]
  },
  {
   "cell_type": "code",
   "execution_count": 7,
   "metadata": {},
   "outputs": [
    {
     "data": {
      "application/vnd.plotly.v1+json": {
       "config": {
        "plotlyServerURL": "https://plot.ly"
       },
       "data": [
        {
         "alignmentgroup": "True",
         "hovertemplate": "time=%{x}<br>value=%{y}<extra></extra>",
         "legendgroup": "",
         "marker": {
          "color": "#636efa",
          "pattern": {
           "shape": ""
          }
         },
         "name": "",
         "offsetgroup": "",
         "orientation": "v",
         "showlegend": false,
         "textposition": "auto",
         "type": "bar",
         "x": [
          "2024-10-10T00:00:00",
          "2024-10-10T01:00:00",
          "2024-10-10T02:00:00",
          "2024-10-10T03:00:00",
          "2024-10-10T04:00:00",
          "2024-10-10T05:00:00",
          "2024-10-10T06:00:00",
          "2024-10-10T07:00:00",
          "2024-10-10T08:00:00",
          "2024-10-10T09:00:00",
          "2024-10-10T10:00:00",
          "2024-10-10T11:00:00",
          "2024-10-10T12:00:00",
          "2024-10-10T13:00:00",
          "2024-10-10T14:00:00",
          "2024-10-10T15:00:00",
          "2024-10-10T16:00:00",
          "2024-10-10T17:00:00",
          "2024-10-10T18:00:00",
          "2024-10-10T19:00:00",
          "2024-10-10T20:00:00",
          "2024-10-10T21:00:00",
          "2024-10-10T22:00:00",
          "2024-10-10T23:00:00"
         ],
         "xaxis": "x",
         "y": [
          0,
          0,
          9,
          0,
          5,
          6,
          0,
          33,
          0,
          0,
          0,
          0,
          0,
          0,
          0,
          0,
          0,
          0,
          0,
          0,
          0,
          0,
          0,
          0
         ],
         "yaxis": "y"
        }
       ],
       "layout": {
        "barmode": "relative",
        "legend": {
         "tracegroupgap": 0
        },
        "margin": {
         "t": 60
        },
        "template": {
         "data": {
          "bar": [
           {
            "error_x": {
             "color": "#2a3f5f"
            },
            "error_y": {
             "color": "#2a3f5f"
            },
            "marker": {
             "line": {
              "color": "#E5ECF6",
              "width": 0.5
             },
             "pattern": {
              "fillmode": "overlay",
              "size": 10,
              "solidity": 0.2
             }
            },
            "type": "bar"
           }
          ],
          "barpolar": [
           {
            "marker": {
             "line": {
              "color": "#E5ECF6",
              "width": 0.5
             },
             "pattern": {
              "fillmode": "overlay",
              "size": 10,
              "solidity": 0.2
             }
            },
            "type": "barpolar"
           }
          ],
          "carpet": [
           {
            "aaxis": {
             "endlinecolor": "#2a3f5f",
             "gridcolor": "white",
             "linecolor": "white",
             "minorgridcolor": "white",
             "startlinecolor": "#2a3f5f"
            },
            "baxis": {
             "endlinecolor": "#2a3f5f",
             "gridcolor": "white",
             "linecolor": "white",
             "minorgridcolor": "white",
             "startlinecolor": "#2a3f5f"
            },
            "type": "carpet"
           }
          ],
          "choropleth": [
           {
            "colorbar": {
             "outlinewidth": 0,
             "ticks": ""
            },
            "type": "choropleth"
           }
          ],
          "contour": [
           {
            "colorbar": {
             "outlinewidth": 0,
             "ticks": ""
            },
            "colorscale": [
             [
              0,
              "#0d0887"
             ],
             [
              0.1111111111111111,
              "#46039f"
             ],
             [
              0.2222222222222222,
              "#7201a8"
             ],
             [
              0.3333333333333333,
              "#9c179e"
             ],
             [
              0.4444444444444444,
              "#bd3786"
             ],
             [
              0.5555555555555556,
              "#d8576b"
             ],
             [
              0.6666666666666666,
              "#ed7953"
             ],
             [
              0.7777777777777778,
              "#fb9f3a"
             ],
             [
              0.8888888888888888,
              "#fdca26"
             ],
             [
              1,
              "#f0f921"
             ]
            ],
            "type": "contour"
           }
          ],
          "contourcarpet": [
           {
            "colorbar": {
             "outlinewidth": 0,
             "ticks": ""
            },
            "type": "contourcarpet"
           }
          ],
          "heatmap": [
           {
            "colorbar": {
             "outlinewidth": 0,
             "ticks": ""
            },
            "colorscale": [
             [
              0,
              "#0d0887"
             ],
             [
              0.1111111111111111,
              "#46039f"
             ],
             [
              0.2222222222222222,
              "#7201a8"
             ],
             [
              0.3333333333333333,
              "#9c179e"
             ],
             [
              0.4444444444444444,
              "#bd3786"
             ],
             [
              0.5555555555555556,
              "#d8576b"
             ],
             [
              0.6666666666666666,
              "#ed7953"
             ],
             [
              0.7777777777777778,
              "#fb9f3a"
             ],
             [
              0.8888888888888888,
              "#fdca26"
             ],
             [
              1,
              "#f0f921"
             ]
            ],
            "type": "heatmap"
           }
          ],
          "heatmapgl": [
           {
            "colorbar": {
             "outlinewidth": 0,
             "ticks": ""
            },
            "colorscale": [
             [
              0,
              "#0d0887"
             ],
             [
              0.1111111111111111,
              "#46039f"
             ],
             [
              0.2222222222222222,
              "#7201a8"
             ],
             [
              0.3333333333333333,
              "#9c179e"
             ],
             [
              0.4444444444444444,
              "#bd3786"
             ],
             [
              0.5555555555555556,
              "#d8576b"
             ],
             [
              0.6666666666666666,
              "#ed7953"
             ],
             [
              0.7777777777777778,
              "#fb9f3a"
             ],
             [
              0.8888888888888888,
              "#fdca26"
             ],
             [
              1,
              "#f0f921"
             ]
            ],
            "type": "heatmapgl"
           }
          ],
          "histogram": [
           {
            "marker": {
             "pattern": {
              "fillmode": "overlay",
              "size": 10,
              "solidity": 0.2
             }
            },
            "type": "histogram"
           }
          ],
          "histogram2d": [
           {
            "colorbar": {
             "outlinewidth": 0,
             "ticks": ""
            },
            "colorscale": [
             [
              0,
              "#0d0887"
             ],
             [
              0.1111111111111111,
              "#46039f"
             ],
             [
              0.2222222222222222,
              "#7201a8"
             ],
             [
              0.3333333333333333,
              "#9c179e"
             ],
             [
              0.4444444444444444,
              "#bd3786"
             ],
             [
              0.5555555555555556,
              "#d8576b"
             ],
             [
              0.6666666666666666,
              "#ed7953"
             ],
             [
              0.7777777777777778,
              "#fb9f3a"
             ],
             [
              0.8888888888888888,
              "#fdca26"
             ],
             [
              1,
              "#f0f921"
             ]
            ],
            "type": "histogram2d"
           }
          ],
          "histogram2dcontour": [
           {
            "colorbar": {
             "outlinewidth": 0,
             "ticks": ""
            },
            "colorscale": [
             [
              0,
              "#0d0887"
             ],
             [
              0.1111111111111111,
              "#46039f"
             ],
             [
              0.2222222222222222,
              "#7201a8"
             ],
             [
              0.3333333333333333,
              "#9c179e"
             ],
             [
              0.4444444444444444,
              "#bd3786"
             ],
             [
              0.5555555555555556,
              "#d8576b"
             ],
             [
              0.6666666666666666,
              "#ed7953"
             ],
             [
              0.7777777777777778,
              "#fb9f3a"
             ],
             [
              0.8888888888888888,
              "#fdca26"
             ],
             [
              1,
              "#f0f921"
             ]
            ],
            "type": "histogram2dcontour"
           }
          ],
          "mesh3d": [
           {
            "colorbar": {
             "outlinewidth": 0,
             "ticks": ""
            },
            "type": "mesh3d"
           }
          ],
          "parcoords": [
           {
            "line": {
             "colorbar": {
              "outlinewidth": 0,
              "ticks": ""
             }
            },
            "type": "parcoords"
           }
          ],
          "pie": [
           {
            "automargin": true,
            "type": "pie"
           }
          ],
          "scatter": [
           {
            "fillpattern": {
             "fillmode": "overlay",
             "size": 10,
             "solidity": 0.2
            },
            "type": "scatter"
           }
          ],
          "scatter3d": [
           {
            "line": {
             "colorbar": {
              "outlinewidth": 0,
              "ticks": ""
             }
            },
            "marker": {
             "colorbar": {
              "outlinewidth": 0,
              "ticks": ""
             }
            },
            "type": "scatter3d"
           }
          ],
          "scattercarpet": [
           {
            "marker": {
             "colorbar": {
              "outlinewidth": 0,
              "ticks": ""
             }
            },
            "type": "scattercarpet"
           }
          ],
          "scattergeo": [
           {
            "marker": {
             "colorbar": {
              "outlinewidth": 0,
              "ticks": ""
             }
            },
            "type": "scattergeo"
           }
          ],
          "scattergl": [
           {
            "marker": {
             "colorbar": {
              "outlinewidth": 0,
              "ticks": ""
             }
            },
            "type": "scattergl"
           }
          ],
          "scattermapbox": [
           {
            "marker": {
             "colorbar": {
              "outlinewidth": 0,
              "ticks": ""
             }
            },
            "type": "scattermapbox"
           }
          ],
          "scatterpolar": [
           {
            "marker": {
             "colorbar": {
              "outlinewidth": 0,
              "ticks": ""
             }
            },
            "type": "scatterpolar"
           }
          ],
          "scatterpolargl": [
           {
            "marker": {
             "colorbar": {
              "outlinewidth": 0,
              "ticks": ""
             }
            },
            "type": "scatterpolargl"
           }
          ],
          "scatterternary": [
           {
            "marker": {
             "colorbar": {
              "outlinewidth": 0,
              "ticks": ""
             }
            },
            "type": "scatterternary"
           }
          ],
          "surface": [
           {
            "colorbar": {
             "outlinewidth": 0,
             "ticks": ""
            },
            "colorscale": [
             [
              0,
              "#0d0887"
             ],
             [
              0.1111111111111111,
              "#46039f"
             ],
             [
              0.2222222222222222,
              "#7201a8"
             ],
             [
              0.3333333333333333,
              "#9c179e"
             ],
             [
              0.4444444444444444,
              "#bd3786"
             ],
             [
              0.5555555555555556,
              "#d8576b"
             ],
             [
              0.6666666666666666,
              "#ed7953"
             ],
             [
              0.7777777777777778,
              "#fb9f3a"
             ],
             [
              0.8888888888888888,
              "#fdca26"
             ],
             [
              1,
              "#f0f921"
             ]
            ],
            "type": "surface"
           }
          ],
          "table": [
           {
            "cells": {
             "fill": {
              "color": "#EBF0F8"
             },
             "line": {
              "color": "white"
             }
            },
            "header": {
             "fill": {
              "color": "#C8D4E3"
             },
             "line": {
              "color": "white"
             }
            },
            "type": "table"
           }
          ]
         },
         "layout": {
          "annotationdefaults": {
           "arrowcolor": "#2a3f5f",
           "arrowhead": 0,
           "arrowwidth": 1
          },
          "autotypenumbers": "strict",
          "coloraxis": {
           "colorbar": {
            "outlinewidth": 0,
            "ticks": ""
           }
          },
          "colorscale": {
           "diverging": [
            [
             0,
             "#8e0152"
            ],
            [
             0.1,
             "#c51b7d"
            ],
            [
             0.2,
             "#de77ae"
            ],
            [
             0.3,
             "#f1b6da"
            ],
            [
             0.4,
             "#fde0ef"
            ],
            [
             0.5,
             "#f7f7f7"
            ],
            [
             0.6,
             "#e6f5d0"
            ],
            [
             0.7,
             "#b8e186"
            ],
            [
             0.8,
             "#7fbc41"
            ],
            [
             0.9,
             "#4d9221"
            ],
            [
             1,
             "#276419"
            ]
           ],
           "sequential": [
            [
             0,
             "#0d0887"
            ],
            [
             0.1111111111111111,
             "#46039f"
            ],
            [
             0.2222222222222222,
             "#7201a8"
            ],
            [
             0.3333333333333333,
             "#9c179e"
            ],
            [
             0.4444444444444444,
             "#bd3786"
            ],
            [
             0.5555555555555556,
             "#d8576b"
            ],
            [
             0.6666666666666666,
             "#ed7953"
            ],
            [
             0.7777777777777778,
             "#fb9f3a"
            ],
            [
             0.8888888888888888,
             "#fdca26"
            ],
            [
             1,
             "#f0f921"
            ]
           ],
           "sequentialminus": [
            [
             0,
             "#0d0887"
            ],
            [
             0.1111111111111111,
             "#46039f"
            ],
            [
             0.2222222222222222,
             "#7201a8"
            ],
            [
             0.3333333333333333,
             "#9c179e"
            ],
            [
             0.4444444444444444,
             "#bd3786"
            ],
            [
             0.5555555555555556,
             "#d8576b"
            ],
            [
             0.6666666666666666,
             "#ed7953"
            ],
            [
             0.7777777777777778,
             "#fb9f3a"
            ],
            [
             0.8888888888888888,
             "#fdca26"
            ],
            [
             1,
             "#f0f921"
            ]
           ]
          },
          "colorway": [
           "#636efa",
           "#EF553B",
           "#00cc96",
           "#ab63fa",
           "#FFA15A",
           "#19d3f3",
           "#FF6692",
           "#B6E880",
           "#FF97FF",
           "#FECB52"
          ],
          "font": {
           "color": "#2a3f5f"
          },
          "geo": {
           "bgcolor": "white",
           "lakecolor": "white",
           "landcolor": "#E5ECF6",
           "showlakes": true,
           "showland": true,
           "subunitcolor": "white"
          },
          "hoverlabel": {
           "align": "left"
          },
          "hovermode": "closest",
          "mapbox": {
           "style": "light"
          },
          "paper_bgcolor": "white",
          "plot_bgcolor": "#E5ECF6",
          "polar": {
           "angularaxis": {
            "gridcolor": "white",
            "linecolor": "white",
            "ticks": ""
           },
           "bgcolor": "#E5ECF6",
           "radialaxis": {
            "gridcolor": "white",
            "linecolor": "white",
            "ticks": ""
           }
          },
          "scene": {
           "xaxis": {
            "backgroundcolor": "#E5ECF6",
            "gridcolor": "white",
            "gridwidth": 2,
            "linecolor": "white",
            "showbackground": true,
            "ticks": "",
            "zerolinecolor": "white"
           },
           "yaxis": {
            "backgroundcolor": "#E5ECF6",
            "gridcolor": "white",
            "gridwidth": 2,
            "linecolor": "white",
            "showbackground": true,
            "ticks": "",
            "zerolinecolor": "white"
           },
           "zaxis": {
            "backgroundcolor": "#E5ECF6",
            "gridcolor": "white",
            "gridwidth": 2,
            "linecolor": "white",
            "showbackground": true,
            "ticks": "",
            "zerolinecolor": "white"
           }
          },
          "shapedefaults": {
           "line": {
            "color": "#2a3f5f"
           }
          },
          "ternary": {
           "aaxis": {
            "gridcolor": "white",
            "linecolor": "white",
            "ticks": ""
           },
           "baxis": {
            "gridcolor": "white",
            "linecolor": "white",
            "ticks": ""
           },
           "bgcolor": "#E5ECF6",
           "caxis": {
            "gridcolor": "white",
            "linecolor": "white",
            "ticks": ""
           }
          },
          "title": {
           "x": 0.05
          },
          "xaxis": {
           "automargin": true,
           "gridcolor": "white",
           "linecolor": "white",
           "ticks": "",
           "title": {
            "standoff": 15
           },
           "zerolinecolor": "white",
           "zerolinewidth": 2
          },
          "yaxis": {
           "automargin": true,
           "gridcolor": "white",
           "linecolor": "white",
           "ticks": "",
           "title": {
            "standoff": 15
           },
           "zerolinecolor": "white",
           "zerolinewidth": 2
          }
         }
        },
        "xaxis": {
         "anchor": "y",
         "domain": [
          0,
          1
         ],
         "title": {
          "text": "time"
         }
        },
        "yaxis": {
         "anchor": "x",
         "domain": [
          0,
          1
         ],
         "title": {
          "text": "value"
         }
        }
       }
      }
     },
     "metadata": {},
     "output_type": "display_data"
    }
   ],
   "source": [
    "fig = px.bar(hourly_steps, x='time', y='value')\n",
    "fig.show()"
   ]
  },
  {
   "cell_type": "markdown",
   "metadata": {},
   "source": [
    "### Daily"
   ]
  },
  {
   "cell_type": "code",
   "execution_count": 2,
   "metadata": {},
   "outputs": [
    {
     "data": {
      "text/plain": [
       "{'activities-steps': [{'dateTime': '2024-10-04', 'value': '40'},\n",
       "  {'dateTime': '2024-10-05', 'value': '0'},\n",
       "  {'dateTime': '2024-10-06', 'value': '8'},\n",
       "  {'dateTime': '2024-10-07', 'value': '52'},\n",
       "  {'dateTime': '2024-10-08', 'value': '81'},\n",
       "  {'dateTime': '2024-10-09', 'value': '11'},\n",
       "  {'dateTime': '2024-10-10', 'value': '53'}]}"
      ]
     },
     "execution_count": 2,
     "metadata": {},
     "output_type": "execute_result"
    }
   ],
   "source": [
    "response = requests.get('https://api.fitbit.com/1/user/-/activities/steps/date/2024-10-10/7d.json',\n",
    "    headers={'Authorization': 'Bearer ' + FITBIT_ACCESS_TOKEN})\n",
    "week_json = response.json()\n",
    "week_json"
   ]
  },
  {
   "cell_type": "code",
   "execution_count": 3,
   "metadata": {},
   "outputs": [
    {
     "data": {
      "text/html": [
       "<div>\n",
       "<style scoped>\n",
       "    .dataframe tbody tr th:only-of-type {\n",
       "        vertical-align: middle;\n",
       "    }\n",
       "\n",
       "    .dataframe tbody tr th {\n",
       "        vertical-align: top;\n",
       "    }\n",
       "\n",
       "    .dataframe thead th {\n",
       "        text-align: right;\n",
       "    }\n",
       "</style>\n",
       "<table border=\"1\" class=\"dataframe\">\n",
       "  <thead>\n",
       "    <tr style=\"text-align: right;\">\n",
       "      <th></th>\n",
       "      <th>dateTime</th>\n",
       "      <th>value</th>\n",
       "    </tr>\n",
       "  </thead>\n",
       "  <tbody>\n",
       "    <tr>\n",
       "      <th>0</th>\n",
       "      <td>2024-10-04</td>\n",
       "      <td>40</td>\n",
       "    </tr>\n",
       "    <tr>\n",
       "      <th>1</th>\n",
       "      <td>2024-10-05</td>\n",
       "      <td>0</td>\n",
       "    </tr>\n",
       "    <tr>\n",
       "      <th>2</th>\n",
       "      <td>2024-10-06</td>\n",
       "      <td>8</td>\n",
       "    </tr>\n",
       "    <tr>\n",
       "      <th>3</th>\n",
       "      <td>2024-10-07</td>\n",
       "      <td>52</td>\n",
       "    </tr>\n",
       "    <tr>\n",
       "      <th>4</th>\n",
       "      <td>2024-10-08</td>\n",
       "      <td>81</td>\n",
       "    </tr>\n",
       "    <tr>\n",
       "      <th>5</th>\n",
       "      <td>2024-10-09</td>\n",
       "      <td>11</td>\n",
       "    </tr>\n",
       "    <tr>\n",
       "      <th>6</th>\n",
       "      <td>2024-10-10</td>\n",
       "      <td>53</td>\n",
       "    </tr>\n",
       "  </tbody>\n",
       "</table>\n",
       "</div>"
      ],
      "text/plain": [
       "     dateTime value\n",
       "0  2024-10-04    40\n",
       "1  2024-10-05     0\n",
       "2  2024-10-06     8\n",
       "3  2024-10-07    52\n",
       "4  2024-10-08    81\n",
       "5  2024-10-09    11\n",
       "6  2024-10-10    53"
      ]
     },
     "execution_count": 3,
     "metadata": {},
     "output_type": "execute_result"
    }
   ],
   "source": [
    "week_steps = pd.DataFrame(week_json['activities-steps'])\n",
    "week_steps"
   ]
  },
  {
   "cell_type": "code",
   "execution_count": 4,
   "metadata": {},
   "outputs": [],
   "source": [
    "week_steps['Steps'] = pd.to_numeric(week_steps.value)"
   ]
  },
  {
   "cell_type": "code",
   "execution_count": 5,
   "metadata": {},
   "outputs": [
    {
     "data": {
      "application/vnd.plotly.v1+json": {
       "config": {
        "plotlyServerURL": "https://plot.ly"
       },
       "data": [
        {
         "alignmentgroup": "True",
         "hovertemplate": "dateTime=%{x}<br>Steps=%{y}<extra></extra>",
         "legendgroup": "",
         "marker": {
          "color": "#636efa",
          "pattern": {
           "shape": ""
          }
         },
         "name": "",
         "offsetgroup": "",
         "orientation": "v",
         "showlegend": false,
         "textposition": "auto",
         "type": "bar",
         "x": [
          "2024-10-04",
          "2024-10-05",
          "2024-10-06",
          "2024-10-07",
          "2024-10-08",
          "2024-10-09",
          "2024-10-10"
         ],
         "xaxis": "x",
         "y": [
          40,
          0,
          8,
          52,
          81,
          11,
          53
         ],
         "yaxis": "y"
        }
       ],
       "layout": {
        "barmode": "relative",
        "legend": {
         "tracegroupgap": 0
        },
        "margin": {
         "t": 60
        },
        "template": {
         "data": {
          "bar": [
           {
            "error_x": {
             "color": "#2a3f5f"
            },
            "error_y": {
             "color": "#2a3f5f"
            },
            "marker": {
             "line": {
              "color": "#E5ECF6",
              "width": 0.5
             },
             "pattern": {
              "fillmode": "overlay",
              "size": 10,
              "solidity": 0.2
             }
            },
            "type": "bar"
           }
          ],
          "barpolar": [
           {
            "marker": {
             "line": {
              "color": "#E5ECF6",
              "width": 0.5
             },
             "pattern": {
              "fillmode": "overlay",
              "size": 10,
              "solidity": 0.2
             }
            },
            "type": "barpolar"
           }
          ],
          "carpet": [
           {
            "aaxis": {
             "endlinecolor": "#2a3f5f",
             "gridcolor": "white",
             "linecolor": "white",
             "minorgridcolor": "white",
             "startlinecolor": "#2a3f5f"
            },
            "baxis": {
             "endlinecolor": "#2a3f5f",
             "gridcolor": "white",
             "linecolor": "white",
             "minorgridcolor": "white",
             "startlinecolor": "#2a3f5f"
            },
            "type": "carpet"
           }
          ],
          "choropleth": [
           {
            "colorbar": {
             "outlinewidth": 0,
             "ticks": ""
            },
            "type": "choropleth"
           }
          ],
          "contour": [
           {
            "colorbar": {
             "outlinewidth": 0,
             "ticks": ""
            },
            "colorscale": [
             [
              0,
              "#0d0887"
             ],
             [
              0.1111111111111111,
              "#46039f"
             ],
             [
              0.2222222222222222,
              "#7201a8"
             ],
             [
              0.3333333333333333,
              "#9c179e"
             ],
             [
              0.4444444444444444,
              "#bd3786"
             ],
             [
              0.5555555555555556,
              "#d8576b"
             ],
             [
              0.6666666666666666,
              "#ed7953"
             ],
             [
              0.7777777777777778,
              "#fb9f3a"
             ],
             [
              0.8888888888888888,
              "#fdca26"
             ],
             [
              1,
              "#f0f921"
             ]
            ],
            "type": "contour"
           }
          ],
          "contourcarpet": [
           {
            "colorbar": {
             "outlinewidth": 0,
             "ticks": ""
            },
            "type": "contourcarpet"
           }
          ],
          "heatmap": [
           {
            "colorbar": {
             "outlinewidth": 0,
             "ticks": ""
            },
            "colorscale": [
             [
              0,
              "#0d0887"
             ],
             [
              0.1111111111111111,
              "#46039f"
             ],
             [
              0.2222222222222222,
              "#7201a8"
             ],
             [
              0.3333333333333333,
              "#9c179e"
             ],
             [
              0.4444444444444444,
              "#bd3786"
             ],
             [
              0.5555555555555556,
              "#d8576b"
             ],
             [
              0.6666666666666666,
              "#ed7953"
             ],
             [
              0.7777777777777778,
              "#fb9f3a"
             ],
             [
              0.8888888888888888,
              "#fdca26"
             ],
             [
              1,
              "#f0f921"
             ]
            ],
            "type": "heatmap"
           }
          ],
          "heatmapgl": [
           {
            "colorbar": {
             "outlinewidth": 0,
             "ticks": ""
            },
            "colorscale": [
             [
              0,
              "#0d0887"
             ],
             [
              0.1111111111111111,
              "#46039f"
             ],
             [
              0.2222222222222222,
              "#7201a8"
             ],
             [
              0.3333333333333333,
              "#9c179e"
             ],
             [
              0.4444444444444444,
              "#bd3786"
             ],
             [
              0.5555555555555556,
              "#d8576b"
             ],
             [
              0.6666666666666666,
              "#ed7953"
             ],
             [
              0.7777777777777778,
              "#fb9f3a"
             ],
             [
              0.8888888888888888,
              "#fdca26"
             ],
             [
              1,
              "#f0f921"
             ]
            ],
            "type": "heatmapgl"
           }
          ],
          "histogram": [
           {
            "marker": {
             "pattern": {
              "fillmode": "overlay",
              "size": 10,
              "solidity": 0.2
             }
            },
            "type": "histogram"
           }
          ],
          "histogram2d": [
           {
            "colorbar": {
             "outlinewidth": 0,
             "ticks": ""
            },
            "colorscale": [
             [
              0,
              "#0d0887"
             ],
             [
              0.1111111111111111,
              "#46039f"
             ],
             [
              0.2222222222222222,
              "#7201a8"
             ],
             [
              0.3333333333333333,
              "#9c179e"
             ],
             [
              0.4444444444444444,
              "#bd3786"
             ],
             [
              0.5555555555555556,
              "#d8576b"
             ],
             [
              0.6666666666666666,
              "#ed7953"
             ],
             [
              0.7777777777777778,
              "#fb9f3a"
             ],
             [
              0.8888888888888888,
              "#fdca26"
             ],
             [
              1,
              "#f0f921"
             ]
            ],
            "type": "histogram2d"
           }
          ],
          "histogram2dcontour": [
           {
            "colorbar": {
             "outlinewidth": 0,
             "ticks": ""
            },
            "colorscale": [
             [
              0,
              "#0d0887"
             ],
             [
              0.1111111111111111,
              "#46039f"
             ],
             [
              0.2222222222222222,
              "#7201a8"
             ],
             [
              0.3333333333333333,
              "#9c179e"
             ],
             [
              0.4444444444444444,
              "#bd3786"
             ],
             [
              0.5555555555555556,
              "#d8576b"
             ],
             [
              0.6666666666666666,
              "#ed7953"
             ],
             [
              0.7777777777777778,
              "#fb9f3a"
             ],
             [
              0.8888888888888888,
              "#fdca26"
             ],
             [
              1,
              "#f0f921"
             ]
            ],
            "type": "histogram2dcontour"
           }
          ],
          "mesh3d": [
           {
            "colorbar": {
             "outlinewidth": 0,
             "ticks": ""
            },
            "type": "mesh3d"
           }
          ],
          "parcoords": [
           {
            "line": {
             "colorbar": {
              "outlinewidth": 0,
              "ticks": ""
             }
            },
            "type": "parcoords"
           }
          ],
          "pie": [
           {
            "automargin": true,
            "type": "pie"
           }
          ],
          "scatter": [
           {
            "fillpattern": {
             "fillmode": "overlay",
             "size": 10,
             "solidity": 0.2
            },
            "type": "scatter"
           }
          ],
          "scatter3d": [
           {
            "line": {
             "colorbar": {
              "outlinewidth": 0,
              "ticks": ""
             }
            },
            "marker": {
             "colorbar": {
              "outlinewidth": 0,
              "ticks": ""
             }
            },
            "type": "scatter3d"
           }
          ],
          "scattercarpet": [
           {
            "marker": {
             "colorbar": {
              "outlinewidth": 0,
              "ticks": ""
             }
            },
            "type": "scattercarpet"
           }
          ],
          "scattergeo": [
           {
            "marker": {
             "colorbar": {
              "outlinewidth": 0,
              "ticks": ""
             }
            },
            "type": "scattergeo"
           }
          ],
          "scattergl": [
           {
            "marker": {
             "colorbar": {
              "outlinewidth": 0,
              "ticks": ""
             }
            },
            "type": "scattergl"
           }
          ],
          "scattermapbox": [
           {
            "marker": {
             "colorbar": {
              "outlinewidth": 0,
              "ticks": ""
             }
            },
            "type": "scattermapbox"
           }
          ],
          "scatterpolar": [
           {
            "marker": {
             "colorbar": {
              "outlinewidth": 0,
              "ticks": ""
             }
            },
            "type": "scatterpolar"
           }
          ],
          "scatterpolargl": [
           {
            "marker": {
             "colorbar": {
              "outlinewidth": 0,
              "ticks": ""
             }
            },
            "type": "scatterpolargl"
           }
          ],
          "scatterternary": [
           {
            "marker": {
             "colorbar": {
              "outlinewidth": 0,
              "ticks": ""
             }
            },
            "type": "scatterternary"
           }
          ],
          "surface": [
           {
            "colorbar": {
             "outlinewidth": 0,
             "ticks": ""
            },
            "colorscale": [
             [
              0,
              "#0d0887"
             ],
             [
              0.1111111111111111,
              "#46039f"
             ],
             [
              0.2222222222222222,
              "#7201a8"
             ],
             [
              0.3333333333333333,
              "#9c179e"
             ],
             [
              0.4444444444444444,
              "#bd3786"
             ],
             [
              0.5555555555555556,
              "#d8576b"
             ],
             [
              0.6666666666666666,
              "#ed7953"
             ],
             [
              0.7777777777777778,
              "#fb9f3a"
             ],
             [
              0.8888888888888888,
              "#fdca26"
             ],
             [
              1,
              "#f0f921"
             ]
            ],
            "type": "surface"
           }
          ],
          "table": [
           {
            "cells": {
             "fill": {
              "color": "#EBF0F8"
             },
             "line": {
              "color": "white"
             }
            },
            "header": {
             "fill": {
              "color": "#C8D4E3"
             },
             "line": {
              "color": "white"
             }
            },
            "type": "table"
           }
          ]
         },
         "layout": {
          "annotationdefaults": {
           "arrowcolor": "#2a3f5f",
           "arrowhead": 0,
           "arrowwidth": 1
          },
          "autotypenumbers": "strict",
          "coloraxis": {
           "colorbar": {
            "outlinewidth": 0,
            "ticks": ""
           }
          },
          "colorscale": {
           "diverging": [
            [
             0,
             "#8e0152"
            ],
            [
             0.1,
             "#c51b7d"
            ],
            [
             0.2,
             "#de77ae"
            ],
            [
             0.3,
             "#f1b6da"
            ],
            [
             0.4,
             "#fde0ef"
            ],
            [
             0.5,
             "#f7f7f7"
            ],
            [
             0.6,
             "#e6f5d0"
            ],
            [
             0.7,
             "#b8e186"
            ],
            [
             0.8,
             "#7fbc41"
            ],
            [
             0.9,
             "#4d9221"
            ],
            [
             1,
             "#276419"
            ]
           ],
           "sequential": [
            [
             0,
             "#0d0887"
            ],
            [
             0.1111111111111111,
             "#46039f"
            ],
            [
             0.2222222222222222,
             "#7201a8"
            ],
            [
             0.3333333333333333,
             "#9c179e"
            ],
            [
             0.4444444444444444,
             "#bd3786"
            ],
            [
             0.5555555555555556,
             "#d8576b"
            ],
            [
             0.6666666666666666,
             "#ed7953"
            ],
            [
             0.7777777777777778,
             "#fb9f3a"
            ],
            [
             0.8888888888888888,
             "#fdca26"
            ],
            [
             1,
             "#f0f921"
            ]
           ],
           "sequentialminus": [
            [
             0,
             "#0d0887"
            ],
            [
             0.1111111111111111,
             "#46039f"
            ],
            [
             0.2222222222222222,
             "#7201a8"
            ],
            [
             0.3333333333333333,
             "#9c179e"
            ],
            [
             0.4444444444444444,
             "#bd3786"
            ],
            [
             0.5555555555555556,
             "#d8576b"
            ],
            [
             0.6666666666666666,
             "#ed7953"
            ],
            [
             0.7777777777777778,
             "#fb9f3a"
            ],
            [
             0.8888888888888888,
             "#fdca26"
            ],
            [
             1,
             "#f0f921"
            ]
           ]
          },
          "colorway": [
           "#636efa",
           "#EF553B",
           "#00cc96",
           "#ab63fa",
           "#FFA15A",
           "#19d3f3",
           "#FF6692",
           "#B6E880",
           "#FF97FF",
           "#FECB52"
          ],
          "font": {
           "color": "#2a3f5f"
          },
          "geo": {
           "bgcolor": "white",
           "lakecolor": "white",
           "landcolor": "#E5ECF6",
           "showlakes": true,
           "showland": true,
           "subunitcolor": "white"
          },
          "hoverlabel": {
           "align": "left"
          },
          "hovermode": "closest",
          "mapbox": {
           "style": "light"
          },
          "paper_bgcolor": "white",
          "plot_bgcolor": "#E5ECF6",
          "polar": {
           "angularaxis": {
            "gridcolor": "white",
            "linecolor": "white",
            "ticks": ""
           },
           "bgcolor": "#E5ECF6",
           "radialaxis": {
            "gridcolor": "white",
            "linecolor": "white",
            "ticks": ""
           }
          },
          "scene": {
           "xaxis": {
            "backgroundcolor": "#E5ECF6",
            "gridcolor": "white",
            "gridwidth": 2,
            "linecolor": "white",
            "showbackground": true,
            "ticks": "",
            "zerolinecolor": "white"
           },
           "yaxis": {
            "backgroundcolor": "#E5ECF6",
            "gridcolor": "white",
            "gridwidth": 2,
            "linecolor": "white",
            "showbackground": true,
            "ticks": "",
            "zerolinecolor": "white"
           },
           "zaxis": {
            "backgroundcolor": "#E5ECF6",
            "gridcolor": "white",
            "gridwidth": 2,
            "linecolor": "white",
            "showbackground": true,
            "ticks": "",
            "zerolinecolor": "white"
           }
          },
          "shapedefaults": {
           "line": {
            "color": "#2a3f5f"
           }
          },
          "ternary": {
           "aaxis": {
            "gridcolor": "white",
            "linecolor": "white",
            "ticks": ""
           },
           "baxis": {
            "gridcolor": "white",
            "linecolor": "white",
            "ticks": ""
           },
           "bgcolor": "#E5ECF6",
           "caxis": {
            "gridcolor": "white",
            "linecolor": "white",
            "ticks": ""
           }
          },
          "title": {
           "x": 0.05
          },
          "xaxis": {
           "automargin": true,
           "gridcolor": "white",
           "linecolor": "white",
           "ticks": "",
           "title": {
            "standoff": 15
           },
           "zerolinecolor": "white",
           "zerolinewidth": 2
          },
          "yaxis": {
           "automargin": true,
           "gridcolor": "white",
           "linecolor": "white",
           "ticks": "",
           "title": {
            "standoff": 15
           },
           "zerolinecolor": "white",
           "zerolinewidth": 2
          }
         }
        },
        "xaxis": {
         "anchor": "y",
         "domain": [
          0,
          1
         ],
         "title": {
          "text": "dateTime"
         }
        },
        "yaxis": {
         "anchor": "x",
         "domain": [
          0,
          1
         ],
         "title": {
          "text": "Steps"
         }
        }
       }
      }
     },
     "metadata": {},
     "output_type": "display_data"
    }
   ],
   "source": [
    "fig = px.bar(week_steps, x='dateTime', y='Steps')\n",
    "fig.show()"
   ]
  },
  {
   "cell_type": "markdown",
   "metadata": {},
   "source": [
    "## Sleep"
   ]
  },
  {
   "cell_type": "code",
   "execution_count": 2,
   "metadata": {},
   "outputs": [
    {
     "data": {
      "text/plain": [
       "{'sleep': [{'dateOfSleep': '2024-10-17',\n",
       "   'duration': 26940000,\n",
       "   'efficiency': 85,\n",
       "   'endTime': '2024-10-17T07:06:00.000',\n",
       "   'infoCode': 0,\n",
       "   'isMainSleep': True,\n",
       "   'levels': {'data': [{'dateTime': '2024-10-16T23:37:00.000',\n",
       "      'level': 'light',\n",
       "      'seconds': 90},\n",
       "     {'dateTime': '2024-10-16T23:38:30.000', 'level': 'wake', 'seconds': 600},\n",
       "     {'dateTime': '2024-10-16T23:48:30.000', 'level': 'light', 'seconds': 930},\n",
       "     {'dateTime': '2024-10-17T00:04:00.000', 'level': 'wake', 'seconds': 210},\n",
       "     {'dateTime': '2024-10-17T00:07:30.000', 'level': 'light', 'seconds': 150},\n",
       "     {'dateTime': '2024-10-17T00:10:00.000', 'level': 'wake', 'seconds': 270},\n",
       "     {'dateTime': '2024-10-17T00:14:30.000',\n",
       "      'level': 'light',\n",
       "      'seconds': 4050},\n",
       "     {'dateTime': '2024-10-17T01:22:00.000', 'level': 'deep', 'seconds': 1140},\n",
       "     {'dateTime': '2024-10-17T01:41:00.000',\n",
       "      'level': 'light',\n",
       "      'seconds': 2130},\n",
       "     {'dateTime': '2024-10-17T02:16:30.000', 'level': 'deep', 'seconds': 360},\n",
       "     {'dateTime': '2024-10-17T02:22:30.000', 'level': 'light', 'seconds': 720},\n",
       "     {'dateTime': '2024-10-17T02:34:30.000', 'level': 'rem', 'seconds': 270},\n",
       "     {'dateTime': '2024-10-17T02:39:00.000', 'level': 'wake', 'seconds': 930},\n",
       "     {'dateTime': '2024-10-17T02:54:30.000', 'level': 'light', 'seconds': 750},\n",
       "     {'dateTime': '2024-10-17T03:07:00.000', 'level': 'deep', 'seconds': 1980},\n",
       "     {'dateTime': '2024-10-17T03:40:00.000',\n",
       "      'level': 'light',\n",
       "      'seconds': 1740},\n",
       "     {'dateTime': '2024-10-17T04:09:00.000', 'level': 'wake', 'seconds': 1080},\n",
       "     {'dateTime': '2024-10-17T04:27:00.000',\n",
       "      'level': 'light',\n",
       "      'seconds': 1410},\n",
       "     {'dateTime': '2024-10-17T04:50:30.000', 'level': 'wake', 'seconds': 240},\n",
       "     {'dateTime': '2024-10-17T04:54:30.000',\n",
       "      'level': 'light',\n",
       "      'seconds': 1770},\n",
       "     {'dateTime': '2024-10-17T05:24:00.000', 'level': 'rem', 'seconds': 1560},\n",
       "     {'dateTime': '2024-10-17T05:50:00.000', 'level': 'wake', 'seconds': 480},\n",
       "     {'dateTime': '2024-10-17T05:58:00.000',\n",
       "      'level': 'light',\n",
       "      'seconds': 2850},\n",
       "     {'dateTime': '2024-10-17T06:45:30.000', 'level': 'wake', 'seconds': 270},\n",
       "     {'dateTime': '2024-10-17T06:50:00.000', 'level': 'light', 'seconds': 600},\n",
       "     {'dateTime': '2024-10-17T07:00:00.000', 'level': 'wake', 'seconds': 360}],\n",
       "    'shortData': [{'dateTime': '2024-10-17T00:16:30.000',\n",
       "      'level': 'wake',\n",
       "      'seconds': 120},\n",
       "     {'dateTime': '2024-10-17T00:27:30.000', 'level': 'wake', 'seconds': 60},\n",
       "     {'dateTime': '2024-10-17T00:37:00.000', 'level': 'wake', 'seconds': 30},\n",
       "     {'dateTime': '2024-10-17T00:47:30.000', 'level': 'wake', 'seconds': 60},\n",
       "     {'dateTime': '2024-10-17T01:02:30.000', 'level': 'wake', 'seconds': 30},\n",
       "     {'dateTime': '2024-10-17T02:22:00.000', 'level': 'wake', 'seconds': 30},\n",
       "     {'dateTime': '2024-10-17T02:24:30.000', 'level': 'wake', 'seconds': 120},\n",
       "     {'dateTime': '2024-10-17T02:28:30.000', 'level': 'wake', 'seconds': 30},\n",
       "     {'dateTime': '2024-10-17T02:57:00.000', 'level': 'wake', 'seconds': 30},\n",
       "     {'dateTime': '2024-10-17T03:38:00.000', 'level': 'wake', 'seconds': 120},\n",
       "     {'dateTime': '2024-10-17T04:06:00.000', 'level': 'wake', 'seconds': 30},\n",
       "     {'dateTime': '2024-10-17T04:29:30.000', 'level': 'wake', 'seconds': 30},\n",
       "     {'dateTime': '2024-10-17T04:32:00.000', 'level': 'wake', 'seconds': 30},\n",
       "     {'dateTime': '2024-10-17T04:38:30.000', 'level': 'wake', 'seconds': 30},\n",
       "     {'dateTime': '2024-10-17T04:47:00.000', 'level': 'wake', 'seconds': 30},\n",
       "     {'dateTime': '2024-10-17T05:04:30.000', 'level': 'wake', 'seconds': 30},\n",
       "     {'dateTime': '2024-10-17T05:20:30.000', 'level': 'wake', 'seconds': 30},\n",
       "     {'dateTime': '2024-10-17T05:29:00.000', 'level': 'wake', 'seconds': 30},\n",
       "     {'dateTime': '2024-10-17T05:32:30.000', 'level': 'wake', 'seconds': 30},\n",
       "     {'dateTime': '2024-10-17T05:36:30.000', 'level': 'wake', 'seconds': 30},\n",
       "     {'dateTime': '2024-10-17T05:39:30.000', 'level': 'wake', 'seconds': 30},\n",
       "     {'dateTime': '2024-10-17T05:43:00.000', 'level': 'wake', 'seconds': 30},\n",
       "     {'dateTime': '2024-10-17T06:02:00.000', 'level': 'wake', 'seconds': 60},\n",
       "     {'dateTime': '2024-10-17T06:52:30.000', 'level': 'wake', 'seconds': 30},\n",
       "     {'dateTime': '2024-10-17T06:55:00.000', 'level': 'wake', 'seconds': 90}],\n",
       "    'summary': {'deep': {'count': 3, 'minutes': 56, 'thirtyDayAvgMinutes': 81},\n",
       "     'light': {'count': 30, 'minutes': 272, 'thirtyDayAvgMinutes': 241},\n",
       "     'rem': {'count': 7, 'minutes': 28, 'thirtyDayAvgMinutes': 50},\n",
       "     'wake': {'count': 34, 'minutes': 93, 'thirtyDayAvgMinutes': 94}}},\n",
       "   'logId': 47197565154,\n",
       "   'logType': 'auto_detected',\n",
       "   'minutesAfterWakeup': 2,\n",
       "   'minutesAsleep': 356,\n",
       "   'minutesAwake': 93,\n",
       "   'minutesToFallAsleep': 0,\n",
       "   'startTime': '2024-10-16T23:37:00.000',\n",
       "   'timeInBed': 449,\n",
       "   'type': 'stages'}],\n",
       " 'summary': {'stages': {'deep': 56, 'light': 272, 'rem': 28, 'wake': 93},\n",
       "  'totalMinutesAsleep': 356,\n",
       "  'totalSleepRecords': 1,\n",
       "  'totalTimeInBed': 449}}"
      ]
     },
     "execution_count": 2,
     "metadata": {},
     "output_type": "execute_result"
    }
   ],
   "source": [
    "response = requests.get('https://api.fitbit.com/1.2/user/-/sleep/date/2024-10-17.json',\n",
    "    headers={'Authorization': 'Bearer ' + FITBIT_ACCESS_TOKEN})\n",
    "today_json = response.json()\n",
    "today_json"
   ]
  },
  {
   "cell_type": "code",
   "execution_count": 3,
   "metadata": {},
   "outputs": [
    {
     "data": {
      "text/plain": [
       "356"
      ]
     },
     "execution_count": 3,
     "metadata": {},
     "output_type": "execute_result"
    }
   ],
   "source": [
    "today_json['summary']['totalMinutesAsleep']"
   ]
  },
  {
   "cell_type": "code",
   "execution_count": 4,
   "metadata": {},
   "outputs": [],
   "source": [
    "today = pd.Timestamp('2024-10-17') \n",
    "start_date = today - pd.Timedelta('7 days')"
   ]
  },
  {
   "cell_type": "code",
   "execution_count": 5,
   "metadata": {},
   "outputs": [],
   "source": [
    "week_sleep = []\n",
    "for day in pd.date_range(start_date, today):\n",
    "    response = requests.get(f'https://api.fitbit.com/1.2/user/-/sleep/date/{day.date()}.json',\n",
    "                            headers={'Authorization': 'Bearer ' + FITBIT_ACCESS_TOKEN})\n",
    "    day_json = response.json()\n",
    "    week_sleep.append({'Date': day.date(), 'Total Minutes Asleep': day_json['summary']['totalMinutesAsleep']})"
   ]
  },
  {
   "cell_type": "code",
   "execution_count": 6,
   "metadata": {},
   "outputs": [
    {
     "data": {
      "application/vnd.plotly.v1+json": {
       "config": {
        "plotlyServerURL": "https://plot.ly"
       },
       "data": [
        {
         "alignmentgroup": "True",
         "hovertemplate": "Date=%{x}<br>Total Minutes Asleep=%{y}<extra></extra>",
         "legendgroup": "",
         "marker": {
          "color": "#636efa",
          "pattern": {
           "shape": ""
          }
         },
         "name": "",
         "offsetgroup": "",
         "orientation": "v",
         "showlegend": false,
         "textposition": "auto",
         "type": "bar",
         "x": [
          "2024-10-10",
          "2024-10-11",
          "2024-10-12",
          "2024-10-13",
          "2024-10-14",
          "2024-10-15",
          "2024-10-16",
          "2024-10-17"
         ],
         "xaxis": "x",
         "y": [
          0,
          0,
          0,
          0,
          0,
          358,
          0,
          356
         ],
         "yaxis": "y"
        }
       ],
       "layout": {
        "barmode": "relative",
        "legend": {
         "tracegroupgap": 0
        },
        "margin": {
         "t": 60
        },
        "template": {
         "data": {
          "bar": [
           {
            "error_x": {
             "color": "#2a3f5f"
            },
            "error_y": {
             "color": "#2a3f5f"
            },
            "marker": {
             "line": {
              "color": "#E5ECF6",
              "width": 0.5
             },
             "pattern": {
              "fillmode": "overlay",
              "size": 10,
              "solidity": 0.2
             }
            },
            "type": "bar"
           }
          ],
          "barpolar": [
           {
            "marker": {
             "line": {
              "color": "#E5ECF6",
              "width": 0.5
             },
             "pattern": {
              "fillmode": "overlay",
              "size": 10,
              "solidity": 0.2
             }
            },
            "type": "barpolar"
           }
          ],
          "carpet": [
           {
            "aaxis": {
             "endlinecolor": "#2a3f5f",
             "gridcolor": "white",
             "linecolor": "white",
             "minorgridcolor": "white",
             "startlinecolor": "#2a3f5f"
            },
            "baxis": {
             "endlinecolor": "#2a3f5f",
             "gridcolor": "white",
             "linecolor": "white",
             "minorgridcolor": "white",
             "startlinecolor": "#2a3f5f"
            },
            "type": "carpet"
           }
          ],
          "choropleth": [
           {
            "colorbar": {
             "outlinewidth": 0,
             "ticks": ""
            },
            "type": "choropleth"
           }
          ],
          "contour": [
           {
            "colorbar": {
             "outlinewidth": 0,
             "ticks": ""
            },
            "colorscale": [
             [
              0,
              "#0d0887"
             ],
             [
              0.1111111111111111,
              "#46039f"
             ],
             [
              0.2222222222222222,
              "#7201a8"
             ],
             [
              0.3333333333333333,
              "#9c179e"
             ],
             [
              0.4444444444444444,
              "#bd3786"
             ],
             [
              0.5555555555555556,
              "#d8576b"
             ],
             [
              0.6666666666666666,
              "#ed7953"
             ],
             [
              0.7777777777777778,
              "#fb9f3a"
             ],
             [
              0.8888888888888888,
              "#fdca26"
             ],
             [
              1,
              "#f0f921"
             ]
            ],
            "type": "contour"
           }
          ],
          "contourcarpet": [
           {
            "colorbar": {
             "outlinewidth": 0,
             "ticks": ""
            },
            "type": "contourcarpet"
           }
          ],
          "heatmap": [
           {
            "colorbar": {
             "outlinewidth": 0,
             "ticks": ""
            },
            "colorscale": [
             [
              0,
              "#0d0887"
             ],
             [
              0.1111111111111111,
              "#46039f"
             ],
             [
              0.2222222222222222,
              "#7201a8"
             ],
             [
              0.3333333333333333,
              "#9c179e"
             ],
             [
              0.4444444444444444,
              "#bd3786"
             ],
             [
              0.5555555555555556,
              "#d8576b"
             ],
             [
              0.6666666666666666,
              "#ed7953"
             ],
             [
              0.7777777777777778,
              "#fb9f3a"
             ],
             [
              0.8888888888888888,
              "#fdca26"
             ],
             [
              1,
              "#f0f921"
             ]
            ],
            "type": "heatmap"
           }
          ],
          "heatmapgl": [
           {
            "colorbar": {
             "outlinewidth": 0,
             "ticks": ""
            },
            "colorscale": [
             [
              0,
              "#0d0887"
             ],
             [
              0.1111111111111111,
              "#46039f"
             ],
             [
              0.2222222222222222,
              "#7201a8"
             ],
             [
              0.3333333333333333,
              "#9c179e"
             ],
             [
              0.4444444444444444,
              "#bd3786"
             ],
             [
              0.5555555555555556,
              "#d8576b"
             ],
             [
              0.6666666666666666,
              "#ed7953"
             ],
             [
              0.7777777777777778,
              "#fb9f3a"
             ],
             [
              0.8888888888888888,
              "#fdca26"
             ],
             [
              1,
              "#f0f921"
             ]
            ],
            "type": "heatmapgl"
           }
          ],
          "histogram": [
           {
            "marker": {
             "pattern": {
              "fillmode": "overlay",
              "size": 10,
              "solidity": 0.2
             }
            },
            "type": "histogram"
           }
          ],
          "histogram2d": [
           {
            "colorbar": {
             "outlinewidth": 0,
             "ticks": ""
            },
            "colorscale": [
             [
              0,
              "#0d0887"
             ],
             [
              0.1111111111111111,
              "#46039f"
             ],
             [
              0.2222222222222222,
              "#7201a8"
             ],
             [
              0.3333333333333333,
              "#9c179e"
             ],
             [
              0.4444444444444444,
              "#bd3786"
             ],
             [
              0.5555555555555556,
              "#d8576b"
             ],
             [
              0.6666666666666666,
              "#ed7953"
             ],
             [
              0.7777777777777778,
              "#fb9f3a"
             ],
             [
              0.8888888888888888,
              "#fdca26"
             ],
             [
              1,
              "#f0f921"
             ]
            ],
            "type": "histogram2d"
           }
          ],
          "histogram2dcontour": [
           {
            "colorbar": {
             "outlinewidth": 0,
             "ticks": ""
            },
            "colorscale": [
             [
              0,
              "#0d0887"
             ],
             [
              0.1111111111111111,
              "#46039f"
             ],
             [
              0.2222222222222222,
              "#7201a8"
             ],
             [
              0.3333333333333333,
              "#9c179e"
             ],
             [
              0.4444444444444444,
              "#bd3786"
             ],
             [
              0.5555555555555556,
              "#d8576b"
             ],
             [
              0.6666666666666666,
              "#ed7953"
             ],
             [
              0.7777777777777778,
              "#fb9f3a"
             ],
             [
              0.8888888888888888,
              "#fdca26"
             ],
             [
              1,
              "#f0f921"
             ]
            ],
            "type": "histogram2dcontour"
           }
          ],
          "mesh3d": [
           {
            "colorbar": {
             "outlinewidth": 0,
             "ticks": ""
            },
            "type": "mesh3d"
           }
          ],
          "parcoords": [
           {
            "line": {
             "colorbar": {
              "outlinewidth": 0,
              "ticks": ""
             }
            },
            "type": "parcoords"
           }
          ],
          "pie": [
           {
            "automargin": true,
            "type": "pie"
           }
          ],
          "scatter": [
           {
            "fillpattern": {
             "fillmode": "overlay",
             "size": 10,
             "solidity": 0.2
            },
            "type": "scatter"
           }
          ],
          "scatter3d": [
           {
            "line": {
             "colorbar": {
              "outlinewidth": 0,
              "ticks": ""
             }
            },
            "marker": {
             "colorbar": {
              "outlinewidth": 0,
              "ticks": ""
             }
            },
            "type": "scatter3d"
           }
          ],
          "scattercarpet": [
           {
            "marker": {
             "colorbar": {
              "outlinewidth": 0,
              "ticks": ""
             }
            },
            "type": "scattercarpet"
           }
          ],
          "scattergeo": [
           {
            "marker": {
             "colorbar": {
              "outlinewidth": 0,
              "ticks": ""
             }
            },
            "type": "scattergeo"
           }
          ],
          "scattergl": [
           {
            "marker": {
             "colorbar": {
              "outlinewidth": 0,
              "ticks": ""
             }
            },
            "type": "scattergl"
           }
          ],
          "scattermapbox": [
           {
            "marker": {
             "colorbar": {
              "outlinewidth": 0,
              "ticks": ""
             }
            },
            "type": "scattermapbox"
           }
          ],
          "scatterpolar": [
           {
            "marker": {
             "colorbar": {
              "outlinewidth": 0,
              "ticks": ""
             }
            },
            "type": "scatterpolar"
           }
          ],
          "scatterpolargl": [
           {
            "marker": {
             "colorbar": {
              "outlinewidth": 0,
              "ticks": ""
             }
            },
            "type": "scatterpolargl"
           }
          ],
          "scatterternary": [
           {
            "marker": {
             "colorbar": {
              "outlinewidth": 0,
              "ticks": ""
             }
            },
            "type": "scatterternary"
           }
          ],
          "surface": [
           {
            "colorbar": {
             "outlinewidth": 0,
             "ticks": ""
            },
            "colorscale": [
             [
              0,
              "#0d0887"
             ],
             [
              0.1111111111111111,
              "#46039f"
             ],
             [
              0.2222222222222222,
              "#7201a8"
             ],
             [
              0.3333333333333333,
              "#9c179e"
             ],
             [
              0.4444444444444444,
              "#bd3786"
             ],
             [
              0.5555555555555556,
              "#d8576b"
             ],
             [
              0.6666666666666666,
              "#ed7953"
             ],
             [
              0.7777777777777778,
              "#fb9f3a"
             ],
             [
              0.8888888888888888,
              "#fdca26"
             ],
             [
              1,
              "#f0f921"
             ]
            ],
            "type": "surface"
           }
          ],
          "table": [
           {
            "cells": {
             "fill": {
              "color": "#EBF0F8"
             },
             "line": {
              "color": "white"
             }
            },
            "header": {
             "fill": {
              "color": "#C8D4E3"
             },
             "line": {
              "color": "white"
             }
            },
            "type": "table"
           }
          ]
         },
         "layout": {
          "annotationdefaults": {
           "arrowcolor": "#2a3f5f",
           "arrowhead": 0,
           "arrowwidth": 1
          },
          "autotypenumbers": "strict",
          "coloraxis": {
           "colorbar": {
            "outlinewidth": 0,
            "ticks": ""
           }
          },
          "colorscale": {
           "diverging": [
            [
             0,
             "#8e0152"
            ],
            [
             0.1,
             "#c51b7d"
            ],
            [
             0.2,
             "#de77ae"
            ],
            [
             0.3,
             "#f1b6da"
            ],
            [
             0.4,
             "#fde0ef"
            ],
            [
             0.5,
             "#f7f7f7"
            ],
            [
             0.6,
             "#e6f5d0"
            ],
            [
             0.7,
             "#b8e186"
            ],
            [
             0.8,
             "#7fbc41"
            ],
            [
             0.9,
             "#4d9221"
            ],
            [
             1,
             "#276419"
            ]
           ],
           "sequential": [
            [
             0,
             "#0d0887"
            ],
            [
             0.1111111111111111,
             "#46039f"
            ],
            [
             0.2222222222222222,
             "#7201a8"
            ],
            [
             0.3333333333333333,
             "#9c179e"
            ],
            [
             0.4444444444444444,
             "#bd3786"
            ],
            [
             0.5555555555555556,
             "#d8576b"
            ],
            [
             0.6666666666666666,
             "#ed7953"
            ],
            [
             0.7777777777777778,
             "#fb9f3a"
            ],
            [
             0.8888888888888888,
             "#fdca26"
            ],
            [
             1,
             "#f0f921"
            ]
           ],
           "sequentialminus": [
            [
             0,
             "#0d0887"
            ],
            [
             0.1111111111111111,
             "#46039f"
            ],
            [
             0.2222222222222222,
             "#7201a8"
            ],
            [
             0.3333333333333333,
             "#9c179e"
            ],
            [
             0.4444444444444444,
             "#bd3786"
            ],
            [
             0.5555555555555556,
             "#d8576b"
            ],
            [
             0.6666666666666666,
             "#ed7953"
            ],
            [
             0.7777777777777778,
             "#fb9f3a"
            ],
            [
             0.8888888888888888,
             "#fdca26"
            ],
            [
             1,
             "#f0f921"
            ]
           ]
          },
          "colorway": [
           "#636efa",
           "#EF553B",
           "#00cc96",
           "#ab63fa",
           "#FFA15A",
           "#19d3f3",
           "#FF6692",
           "#B6E880",
           "#FF97FF",
           "#FECB52"
          ],
          "font": {
           "color": "#2a3f5f"
          },
          "geo": {
           "bgcolor": "white",
           "lakecolor": "white",
           "landcolor": "#E5ECF6",
           "showlakes": true,
           "showland": true,
           "subunitcolor": "white"
          },
          "hoverlabel": {
           "align": "left"
          },
          "hovermode": "closest",
          "mapbox": {
           "style": "light"
          },
          "paper_bgcolor": "white",
          "plot_bgcolor": "#E5ECF6",
          "polar": {
           "angularaxis": {
            "gridcolor": "white",
            "linecolor": "white",
            "ticks": ""
           },
           "bgcolor": "#E5ECF6",
           "radialaxis": {
            "gridcolor": "white",
            "linecolor": "white",
            "ticks": ""
           }
          },
          "scene": {
           "xaxis": {
            "backgroundcolor": "#E5ECF6",
            "gridcolor": "white",
            "gridwidth": 2,
            "linecolor": "white",
            "showbackground": true,
            "ticks": "",
            "zerolinecolor": "white"
           },
           "yaxis": {
            "backgroundcolor": "#E5ECF6",
            "gridcolor": "white",
            "gridwidth": 2,
            "linecolor": "white",
            "showbackground": true,
            "ticks": "",
            "zerolinecolor": "white"
           },
           "zaxis": {
            "backgroundcolor": "#E5ECF6",
            "gridcolor": "white",
            "gridwidth": 2,
            "linecolor": "white",
            "showbackground": true,
            "ticks": "",
            "zerolinecolor": "white"
           }
          },
          "shapedefaults": {
           "line": {
            "color": "#2a3f5f"
           }
          },
          "ternary": {
           "aaxis": {
            "gridcolor": "white",
            "linecolor": "white",
            "ticks": ""
           },
           "baxis": {
            "gridcolor": "white",
            "linecolor": "white",
            "ticks": ""
           },
           "bgcolor": "#E5ECF6",
           "caxis": {
            "gridcolor": "white",
            "linecolor": "white",
            "ticks": ""
           }
          },
          "title": {
           "x": 0.05
          },
          "xaxis": {
           "automargin": true,
           "gridcolor": "white",
           "linecolor": "white",
           "ticks": "",
           "title": {
            "standoff": 15
           },
           "zerolinecolor": "white",
           "zerolinewidth": 2
          },
          "yaxis": {
           "automargin": true,
           "gridcolor": "white",
           "linecolor": "white",
           "ticks": "",
           "title": {
            "standoff": 15
           },
           "zerolinecolor": "white",
           "zerolinewidth": 2
          }
         }
        },
        "xaxis": {
         "anchor": "y",
         "domain": [
          0,
          1
         ],
         "title": {
          "text": "Date"
         }
        },
        "yaxis": {
         "anchor": "x",
         "domain": [
          0,
          1
         ],
         "title": {
          "text": "Total Minutes Asleep"
         }
        }
       }
      }
     },
     "metadata": {},
     "output_type": "display_data"
    }
   ],
   "source": [
    "fig = px.bar(week_sleep, x='Date', y='Total Minutes Asleep')\n",
    "fig.show()"
   ]
  },
  {
   "cell_type": "markdown",
   "metadata": {},
   "source": [
    "## Heart rate"
   ]
  },
  {
   "cell_type": "markdown",
   "metadata": {},
   "source": [
    "### Daily"
   ]
  },
  {
   "cell_type": "code",
   "execution_count": 2,
   "metadata": {},
   "outputs": [
    {
     "data": {
      "text/plain": [
       "{'activities-heart': [{'value': {'customHeartRateZones': [],\n",
       "    'heartRateZones': [{'caloriesOut': 409.0795,\n",
       "      'max': 98,\n",
       "      'min': 30,\n",
       "      'minutes': 493,\n",
       "      'name': 'Out of Range'},\n",
       "     {'caloriesOut': 0,\n",
       "      'max': 137,\n",
       "      'min': 98,\n",
       "      'minutes': 0,\n",
       "      'name': 'Fat Burn'},\n",
       "     {'caloriesOut': 0,\n",
       "      'max': 166,\n",
       "      'min': 137,\n",
       "      'minutes': 0,\n",
       "      'name': 'Cardio'},\n",
       "     {'caloriesOut': 0, 'max': 220, 'min': 166, 'minutes': 0, 'name': 'Peak'}],\n",
       "    'restingHeartRate': 72},\n",
       "   'dateTime': '2024-10-04'},\n",
       "  {'value': {'customHeartRateZones': [],\n",
       "    'heartRateZones': [{'max': 98, 'min': 30, 'name': 'Out of Range'},\n",
       "     {'max': 137, 'min': 98, 'name': 'Fat Burn'},\n",
       "     {'max': 166, 'min': 137, 'name': 'Cardio'},\n",
       "     {'max': 220, 'min': 166, 'name': 'Peak'}]},\n",
       "   'dateTime': '2024-10-05'},\n",
       "  {'value': {'customHeartRateZones': [],\n",
       "    'heartRateZones': [{'caloriesOut': 5.41025,\n",
       "      'max': 98,\n",
       "      'min': 30,\n",
       "      'minutes': 5,\n",
       "      'name': 'Out of Range'},\n",
       "     {'caloriesOut': 0,\n",
       "      'max': 137,\n",
       "      'min': 98,\n",
       "      'minutes': 0,\n",
       "      'name': 'Fat Burn'},\n",
       "     {'caloriesOut': 0,\n",
       "      'max': 166,\n",
       "      'min': 137,\n",
       "      'minutes': 0,\n",
       "      'name': 'Cardio'},\n",
       "     {'caloriesOut': 0,\n",
       "      'max': 220,\n",
       "      'min': 166,\n",
       "      'minutes': 0,\n",
       "      'name': 'Peak'}]},\n",
       "   'dateTime': '2024-10-06'},\n",
       "  {'value': {'customHeartRateZones': [],\n",
       "    'heartRateZones': [{'caloriesOut': 442.9945,\n",
       "      'max': 98,\n",
       "      'min': 30,\n",
       "      'minutes': 531,\n",
       "      'name': 'Out of Range'},\n",
       "     {'caloriesOut': 0,\n",
       "      'max': 137,\n",
       "      'min': 98,\n",
       "      'minutes': 0,\n",
       "      'name': 'Fat Burn'},\n",
       "     {'caloriesOut': 0,\n",
       "      'max': 166,\n",
       "      'min': 137,\n",
       "      'minutes': 0,\n",
       "      'name': 'Cardio'},\n",
       "     {'caloriesOut': 0, 'max': 220, 'min': 166, 'minutes': 0, 'name': 'Peak'}],\n",
       "    'restingHeartRate': 70},\n",
       "   'dateTime': '2024-10-07'},\n",
       "  {'value': {'customHeartRateZones': [],\n",
       "    'heartRateZones': [{'caloriesOut': 359.25675,\n",
       "      'max': 98,\n",
       "      'min': 30,\n",
       "      'minutes': 425,\n",
       "      'name': 'Out of Range'},\n",
       "     {'caloriesOut': 0,\n",
       "      'max': 137,\n",
       "      'min': 98,\n",
       "      'minutes': 0,\n",
       "      'name': 'Fat Burn'},\n",
       "     {'caloriesOut': 0,\n",
       "      'max': 166,\n",
       "      'min': 137,\n",
       "      'minutes': 0,\n",
       "      'name': 'Cardio'},\n",
       "     {'caloriesOut': 0, 'max': 220, 'min': 166, 'minutes': 0, 'name': 'Peak'}],\n",
       "    'restingHeartRate': 69},\n",
       "   'dateTime': '2024-10-08'},\n",
       "  {'value': {'customHeartRateZones': [],\n",
       "    'heartRateZones': [{'caloriesOut': 33.269,\n",
       "      'max': 98,\n",
       "      'min': 30,\n",
       "      'minutes': 38,\n",
       "      'name': 'Out of Range'},\n",
       "     {'caloriesOut': 0,\n",
       "      'max': 137,\n",
       "      'min': 98,\n",
       "      'minutes': 0,\n",
       "      'name': 'Fat Burn'},\n",
       "     {'caloriesOut': 0,\n",
       "      'max': 166,\n",
       "      'min': 137,\n",
       "      'minutes': 0,\n",
       "      'name': 'Cardio'},\n",
       "     {'caloriesOut': 0,\n",
       "      'max': 220,\n",
       "      'min': 166,\n",
       "      'minutes': 0,\n",
       "      'name': 'Peak'}]},\n",
       "   'dateTime': '2024-10-09'},\n",
       "  {'value': {'customHeartRateZones': [],\n",
       "    'heartRateZones': [{'caloriesOut': 352.63525,\n",
       "      'max': 98,\n",
       "      'min': 30,\n",
       "      'minutes': 424,\n",
       "      'name': 'Out of Range'},\n",
       "     {'caloriesOut': 0,\n",
       "      'max': 137,\n",
       "      'min': 98,\n",
       "      'minutes': 0,\n",
       "      'name': 'Fat Burn'},\n",
       "     {'caloriesOut': 0,\n",
       "      'max': 166,\n",
       "      'min': 137,\n",
       "      'minutes': 0,\n",
       "      'name': 'Cardio'},\n",
       "     {'caloriesOut': 0, 'max': 220, 'min': 166, 'minutes': 0, 'name': 'Peak'}],\n",
       "    'restingHeartRate': 68},\n",
       "   'dateTime': '2024-10-10'}]}"
      ]
     },
     "execution_count": 2,
     "metadata": {},
     "output_type": "execute_result"
    }
   ],
   "source": [
    "response = requests.get('https://api.fitbit.com/1/user/-/activities/heart/date/2024-10-10/7d.json',\n",
    "    headers={'Authorization': 'Bearer ' + FITBIT_ACCESS_TOKEN})\n",
    "week_json = response.json()\n",
    "week_json"
   ]
  },
  {
   "cell_type": "code",
   "execution_count": 3,
   "metadata": {},
   "outputs": [],
   "source": [
    "week_heart = []\n",
    "for day in range(7):\n",
    "    date = week_json['activities-heart'][day]['dateTime']\n",
    "    try:\n",
    "        resting_hr = week_json['activities-heart'][day]['value']['restingHeartRate']\n",
    "    except KeyError:\n",
    "        resting_hr = 0\n",
    "    week_heart.append({'Date': date, 'Resting HR': resting_hr})"
   ]
  },
  {
   "cell_type": "code",
   "execution_count": 4,
   "metadata": {},
   "outputs": [
    {
     "data": {
      "application/vnd.plotly.v1+json": {
       "config": {
        "plotlyServerURL": "https://plot.ly"
       },
       "data": [
        {
         "alignmentgroup": "True",
         "hovertemplate": "Date=%{x}<br>Resting HR=%{y}<extra></extra>",
         "legendgroup": "",
         "marker": {
          "color": "#636efa",
          "pattern": {
           "shape": ""
          }
         },
         "name": "",
         "offsetgroup": "",
         "orientation": "v",
         "showlegend": false,
         "textposition": "auto",
         "type": "bar",
         "x": [
          "2024-10-04",
          "2024-10-05",
          "2024-10-06",
          "2024-10-07",
          "2024-10-08",
          "2024-10-09",
          "2024-10-10"
         ],
         "xaxis": "x",
         "y": [
          72,
          0,
          0,
          70,
          69,
          0,
          68
         ],
         "yaxis": "y"
        }
       ],
       "layout": {
        "barmode": "relative",
        "legend": {
         "tracegroupgap": 0
        },
        "margin": {
         "t": 60
        },
        "template": {
         "data": {
          "bar": [
           {
            "error_x": {
             "color": "#2a3f5f"
            },
            "error_y": {
             "color": "#2a3f5f"
            },
            "marker": {
             "line": {
              "color": "#E5ECF6",
              "width": 0.5
             },
             "pattern": {
              "fillmode": "overlay",
              "size": 10,
              "solidity": 0.2
             }
            },
            "type": "bar"
           }
          ],
          "barpolar": [
           {
            "marker": {
             "line": {
              "color": "#E5ECF6",
              "width": 0.5
             },
             "pattern": {
              "fillmode": "overlay",
              "size": 10,
              "solidity": 0.2
             }
            },
            "type": "barpolar"
           }
          ],
          "carpet": [
           {
            "aaxis": {
             "endlinecolor": "#2a3f5f",
             "gridcolor": "white",
             "linecolor": "white",
             "minorgridcolor": "white",
             "startlinecolor": "#2a3f5f"
            },
            "baxis": {
             "endlinecolor": "#2a3f5f",
             "gridcolor": "white",
             "linecolor": "white",
             "minorgridcolor": "white",
             "startlinecolor": "#2a3f5f"
            },
            "type": "carpet"
           }
          ],
          "choropleth": [
           {
            "colorbar": {
             "outlinewidth": 0,
             "ticks": ""
            },
            "type": "choropleth"
           }
          ],
          "contour": [
           {
            "colorbar": {
             "outlinewidth": 0,
             "ticks": ""
            },
            "colorscale": [
             [
              0,
              "#0d0887"
             ],
             [
              0.1111111111111111,
              "#46039f"
             ],
             [
              0.2222222222222222,
              "#7201a8"
             ],
             [
              0.3333333333333333,
              "#9c179e"
             ],
             [
              0.4444444444444444,
              "#bd3786"
             ],
             [
              0.5555555555555556,
              "#d8576b"
             ],
             [
              0.6666666666666666,
              "#ed7953"
             ],
             [
              0.7777777777777778,
              "#fb9f3a"
             ],
             [
              0.8888888888888888,
              "#fdca26"
             ],
             [
              1,
              "#f0f921"
             ]
            ],
            "type": "contour"
           }
          ],
          "contourcarpet": [
           {
            "colorbar": {
             "outlinewidth": 0,
             "ticks": ""
            },
            "type": "contourcarpet"
           }
          ],
          "heatmap": [
           {
            "colorbar": {
             "outlinewidth": 0,
             "ticks": ""
            },
            "colorscale": [
             [
              0,
              "#0d0887"
             ],
             [
              0.1111111111111111,
              "#46039f"
             ],
             [
              0.2222222222222222,
              "#7201a8"
             ],
             [
              0.3333333333333333,
              "#9c179e"
             ],
             [
              0.4444444444444444,
              "#bd3786"
             ],
             [
              0.5555555555555556,
              "#d8576b"
             ],
             [
              0.6666666666666666,
              "#ed7953"
             ],
             [
              0.7777777777777778,
              "#fb9f3a"
             ],
             [
              0.8888888888888888,
              "#fdca26"
             ],
             [
              1,
              "#f0f921"
             ]
            ],
            "type": "heatmap"
           }
          ],
          "heatmapgl": [
           {
            "colorbar": {
             "outlinewidth": 0,
             "ticks": ""
            },
            "colorscale": [
             [
              0,
              "#0d0887"
             ],
             [
              0.1111111111111111,
              "#46039f"
             ],
             [
              0.2222222222222222,
              "#7201a8"
             ],
             [
              0.3333333333333333,
              "#9c179e"
             ],
             [
              0.4444444444444444,
              "#bd3786"
             ],
             [
              0.5555555555555556,
              "#d8576b"
             ],
             [
              0.6666666666666666,
              "#ed7953"
             ],
             [
              0.7777777777777778,
              "#fb9f3a"
             ],
             [
              0.8888888888888888,
              "#fdca26"
             ],
             [
              1,
              "#f0f921"
             ]
            ],
            "type": "heatmapgl"
           }
          ],
          "histogram": [
           {
            "marker": {
             "pattern": {
              "fillmode": "overlay",
              "size": 10,
              "solidity": 0.2
             }
            },
            "type": "histogram"
           }
          ],
          "histogram2d": [
           {
            "colorbar": {
             "outlinewidth": 0,
             "ticks": ""
            },
            "colorscale": [
             [
              0,
              "#0d0887"
             ],
             [
              0.1111111111111111,
              "#46039f"
             ],
             [
              0.2222222222222222,
              "#7201a8"
             ],
             [
              0.3333333333333333,
              "#9c179e"
             ],
             [
              0.4444444444444444,
              "#bd3786"
             ],
             [
              0.5555555555555556,
              "#d8576b"
             ],
             [
              0.6666666666666666,
              "#ed7953"
             ],
             [
              0.7777777777777778,
              "#fb9f3a"
             ],
             [
              0.8888888888888888,
              "#fdca26"
             ],
             [
              1,
              "#f0f921"
             ]
            ],
            "type": "histogram2d"
           }
          ],
          "histogram2dcontour": [
           {
            "colorbar": {
             "outlinewidth": 0,
             "ticks": ""
            },
            "colorscale": [
             [
              0,
              "#0d0887"
             ],
             [
              0.1111111111111111,
              "#46039f"
             ],
             [
              0.2222222222222222,
              "#7201a8"
             ],
             [
              0.3333333333333333,
              "#9c179e"
             ],
             [
              0.4444444444444444,
              "#bd3786"
             ],
             [
              0.5555555555555556,
              "#d8576b"
             ],
             [
              0.6666666666666666,
              "#ed7953"
             ],
             [
              0.7777777777777778,
              "#fb9f3a"
             ],
             [
              0.8888888888888888,
              "#fdca26"
             ],
             [
              1,
              "#f0f921"
             ]
            ],
            "type": "histogram2dcontour"
           }
          ],
          "mesh3d": [
           {
            "colorbar": {
             "outlinewidth": 0,
             "ticks": ""
            },
            "type": "mesh3d"
           }
          ],
          "parcoords": [
           {
            "line": {
             "colorbar": {
              "outlinewidth": 0,
              "ticks": ""
             }
            },
            "type": "parcoords"
           }
          ],
          "pie": [
           {
            "automargin": true,
            "type": "pie"
           }
          ],
          "scatter": [
           {
            "fillpattern": {
             "fillmode": "overlay",
             "size": 10,
             "solidity": 0.2
            },
            "type": "scatter"
           }
          ],
          "scatter3d": [
           {
            "line": {
             "colorbar": {
              "outlinewidth": 0,
              "ticks": ""
             }
            },
            "marker": {
             "colorbar": {
              "outlinewidth": 0,
              "ticks": ""
             }
            },
            "type": "scatter3d"
           }
          ],
          "scattercarpet": [
           {
            "marker": {
             "colorbar": {
              "outlinewidth": 0,
              "ticks": ""
             }
            },
            "type": "scattercarpet"
           }
          ],
          "scattergeo": [
           {
            "marker": {
             "colorbar": {
              "outlinewidth": 0,
              "ticks": ""
             }
            },
            "type": "scattergeo"
           }
          ],
          "scattergl": [
           {
            "marker": {
             "colorbar": {
              "outlinewidth": 0,
              "ticks": ""
             }
            },
            "type": "scattergl"
           }
          ],
          "scattermapbox": [
           {
            "marker": {
             "colorbar": {
              "outlinewidth": 0,
              "ticks": ""
             }
            },
            "type": "scattermapbox"
           }
          ],
          "scatterpolar": [
           {
            "marker": {
             "colorbar": {
              "outlinewidth": 0,
              "ticks": ""
             }
            },
            "type": "scatterpolar"
           }
          ],
          "scatterpolargl": [
           {
            "marker": {
             "colorbar": {
              "outlinewidth": 0,
              "ticks": ""
             }
            },
            "type": "scatterpolargl"
           }
          ],
          "scatterternary": [
           {
            "marker": {
             "colorbar": {
              "outlinewidth": 0,
              "ticks": ""
             }
            },
            "type": "scatterternary"
           }
          ],
          "surface": [
           {
            "colorbar": {
             "outlinewidth": 0,
             "ticks": ""
            },
            "colorscale": [
             [
              0,
              "#0d0887"
             ],
             [
              0.1111111111111111,
              "#46039f"
             ],
             [
              0.2222222222222222,
              "#7201a8"
             ],
             [
              0.3333333333333333,
              "#9c179e"
             ],
             [
              0.4444444444444444,
              "#bd3786"
             ],
             [
              0.5555555555555556,
              "#d8576b"
             ],
             [
              0.6666666666666666,
              "#ed7953"
             ],
             [
              0.7777777777777778,
              "#fb9f3a"
             ],
             [
              0.8888888888888888,
              "#fdca26"
             ],
             [
              1,
              "#f0f921"
             ]
            ],
            "type": "surface"
           }
          ],
          "table": [
           {
            "cells": {
             "fill": {
              "color": "#EBF0F8"
             },
             "line": {
              "color": "white"
             }
            },
            "header": {
             "fill": {
              "color": "#C8D4E3"
             },
             "line": {
              "color": "white"
             }
            },
            "type": "table"
           }
          ]
         },
         "layout": {
          "annotationdefaults": {
           "arrowcolor": "#2a3f5f",
           "arrowhead": 0,
           "arrowwidth": 1
          },
          "autotypenumbers": "strict",
          "coloraxis": {
           "colorbar": {
            "outlinewidth": 0,
            "ticks": ""
           }
          },
          "colorscale": {
           "diverging": [
            [
             0,
             "#8e0152"
            ],
            [
             0.1,
             "#c51b7d"
            ],
            [
             0.2,
             "#de77ae"
            ],
            [
             0.3,
             "#f1b6da"
            ],
            [
             0.4,
             "#fde0ef"
            ],
            [
             0.5,
             "#f7f7f7"
            ],
            [
             0.6,
             "#e6f5d0"
            ],
            [
             0.7,
             "#b8e186"
            ],
            [
             0.8,
             "#7fbc41"
            ],
            [
             0.9,
             "#4d9221"
            ],
            [
             1,
             "#276419"
            ]
           ],
           "sequential": [
            [
             0,
             "#0d0887"
            ],
            [
             0.1111111111111111,
             "#46039f"
            ],
            [
             0.2222222222222222,
             "#7201a8"
            ],
            [
             0.3333333333333333,
             "#9c179e"
            ],
            [
             0.4444444444444444,
             "#bd3786"
            ],
            [
             0.5555555555555556,
             "#d8576b"
            ],
            [
             0.6666666666666666,
             "#ed7953"
            ],
            [
             0.7777777777777778,
             "#fb9f3a"
            ],
            [
             0.8888888888888888,
             "#fdca26"
            ],
            [
             1,
             "#f0f921"
            ]
           ],
           "sequentialminus": [
            [
             0,
             "#0d0887"
            ],
            [
             0.1111111111111111,
             "#46039f"
            ],
            [
             0.2222222222222222,
             "#7201a8"
            ],
            [
             0.3333333333333333,
             "#9c179e"
            ],
            [
             0.4444444444444444,
             "#bd3786"
            ],
            [
             0.5555555555555556,
             "#d8576b"
            ],
            [
             0.6666666666666666,
             "#ed7953"
            ],
            [
             0.7777777777777778,
             "#fb9f3a"
            ],
            [
             0.8888888888888888,
             "#fdca26"
            ],
            [
             1,
             "#f0f921"
            ]
           ]
          },
          "colorway": [
           "#636efa",
           "#EF553B",
           "#00cc96",
           "#ab63fa",
           "#FFA15A",
           "#19d3f3",
           "#FF6692",
           "#B6E880",
           "#FF97FF",
           "#FECB52"
          ],
          "font": {
           "color": "#2a3f5f"
          },
          "geo": {
           "bgcolor": "white",
           "lakecolor": "white",
           "landcolor": "#E5ECF6",
           "showlakes": true,
           "showland": true,
           "subunitcolor": "white"
          },
          "hoverlabel": {
           "align": "left"
          },
          "hovermode": "closest",
          "mapbox": {
           "style": "light"
          },
          "paper_bgcolor": "white",
          "plot_bgcolor": "#E5ECF6",
          "polar": {
           "angularaxis": {
            "gridcolor": "white",
            "linecolor": "white",
            "ticks": ""
           },
           "bgcolor": "#E5ECF6",
           "radialaxis": {
            "gridcolor": "white",
            "linecolor": "white",
            "ticks": ""
           }
          },
          "scene": {
           "xaxis": {
            "backgroundcolor": "#E5ECF6",
            "gridcolor": "white",
            "gridwidth": 2,
            "linecolor": "white",
            "showbackground": true,
            "ticks": "",
            "zerolinecolor": "white"
           },
           "yaxis": {
            "backgroundcolor": "#E5ECF6",
            "gridcolor": "white",
            "gridwidth": 2,
            "linecolor": "white",
            "showbackground": true,
            "ticks": "",
            "zerolinecolor": "white"
           },
           "zaxis": {
            "backgroundcolor": "#E5ECF6",
            "gridcolor": "white",
            "gridwidth": 2,
            "linecolor": "white",
            "showbackground": true,
            "ticks": "",
            "zerolinecolor": "white"
           }
          },
          "shapedefaults": {
           "line": {
            "color": "#2a3f5f"
           }
          },
          "ternary": {
           "aaxis": {
            "gridcolor": "white",
            "linecolor": "white",
            "ticks": ""
           },
           "baxis": {
            "gridcolor": "white",
            "linecolor": "white",
            "ticks": ""
           },
           "bgcolor": "#E5ECF6",
           "caxis": {
            "gridcolor": "white",
            "linecolor": "white",
            "ticks": ""
           }
          },
          "title": {
           "x": 0.05
          },
          "xaxis": {
           "automargin": true,
           "gridcolor": "white",
           "linecolor": "white",
           "ticks": "",
           "title": {
            "standoff": 15
           },
           "zerolinecolor": "white",
           "zerolinewidth": 2
          },
          "yaxis": {
           "automargin": true,
           "gridcolor": "white",
           "linecolor": "white",
           "ticks": "",
           "title": {
            "standoff": 15
           },
           "zerolinecolor": "white",
           "zerolinewidth": 2
          }
         }
        },
        "xaxis": {
         "anchor": "y",
         "domain": [
          0,
          1
         ],
         "title": {
          "text": "Date"
         }
        },
        "yaxis": {
         "anchor": "x",
         "domain": [
          0,
          1
         ],
         "title": {
          "text": "Resting HR"
         }
        }
       }
      }
     },
     "metadata": {},
     "output_type": "display_data"
    }
   ],
   "source": [
    "fig = px.bar(week_heart, x='Date', y='Resting HR')\n",
    "fig.show()"
   ]
  },
  {
   "cell_type": "markdown",
   "metadata": {},
   "source": [
    "### Minute"
   ]
  },
  {
   "cell_type": "code",
   "execution_count": 2,
   "metadata": {},
   "outputs": [
    {
     "data": {
      "text/plain": [
       "{'activities-heart': [{'dateTime': '2024-10-10',\n",
       "   'value': {'customHeartRateZones': [],\n",
       "    'heartRateZones': [{'caloriesOut': 352.63525,\n",
       "      'max': 98,\n",
       "      'min': 30,\n",
       "      'minutes': 424,\n",
       "      'name': 'Out of Range'},\n",
       "     {'caloriesOut': 0,\n",
       "      'max': 137,\n",
       "      'min': 98,\n",
       "      'minutes': 0,\n",
       "      'name': 'Fat Burn'},\n",
       "     {'caloriesOut': 0,\n",
       "      'max': 166,\n",
       "      'min': 137,\n",
       "      'minutes': 0,\n",
       "      'name': 'Cardio'},\n",
       "     {'caloriesOut': 0, 'max': 220, 'min': 166, 'minutes': 0, 'name': 'Peak'}],\n",
       "    'restingHeartRate': 68}}],\n",
       " 'activities-heart-intraday': {'dataset': [{'time': '00:00:00', 'value': 78},\n",
       "   {'time': '00:01:00', 'value': 79},\n",
       "   {'time': '00:02:00', 'value': 76},\n",
       "   {'time': '00:03:00', 'value': 79},\n",
       "   {'time': '00:04:00', 'value': 73},\n",
       "   {'time': '00:05:00', 'value': 75},\n",
       "   {'time': '00:06:00', 'value': 76},\n",
       "   {'time': '00:07:00', 'value': 74},\n",
       "   {'time': '00:08:00', 'value': 73},\n",
       "   {'time': '00:09:00', 'value': 73},\n",
       "   {'time': '00:10:00', 'value': 72},\n",
       "   {'time': '00:11:00', 'value': 71},\n",
       "   {'time': '00:12:00', 'value': 73},\n",
       "   {'time': '00:13:00', 'value': 72},\n",
       "   {'time': '00:14:00', 'value': 71},\n",
       "   {'time': '00:15:00', 'value': 70},\n",
       "   {'time': '00:16:00', 'value': 69},\n",
       "   {'time': '00:17:00', 'value': 71},\n",
       "   {'time': '00:18:00', 'value': 70},\n",
       "   {'time': '00:19:00', 'value': 70},\n",
       "   {'time': '00:20:00', 'value': 70},\n",
       "   {'time': '00:21:00', 'value': 69},\n",
       "   {'time': '00:22:00', 'value': 70},\n",
       "   {'time': '00:23:00', 'value': 69},\n",
       "   {'time': '00:24:00', 'value': 70},\n",
       "   {'time': '00:25:00', 'value': 70},\n",
       "   {'time': '00:26:00', 'value': 70},\n",
       "   {'time': '00:27:00', 'value': 69},\n",
       "   {'time': '00:28:00', 'value': 71},\n",
       "   {'time': '00:29:00', 'value': 70},\n",
       "   {'time': '00:30:00', 'value': 70},\n",
       "   {'time': '00:31:00', 'value': 69},\n",
       "   {'time': '00:32:00', 'value': 70},\n",
       "   {'time': '00:33:00', 'value': 69},\n",
       "   {'time': '00:34:00', 'value': 68},\n",
       "   {'time': '00:35:00', 'value': 68},\n",
       "   {'time': '00:36:00', 'value': 69},\n",
       "   {'time': '00:37:00', 'value': 69},\n",
       "   {'time': '00:38:00', 'value': 69},\n",
       "   {'time': '00:39:00', 'value': 79},\n",
       "   {'time': '00:40:00', 'value': 70},\n",
       "   {'time': '00:41:00', 'value': 74},\n",
       "   {'time': '00:42:00', 'value': 68},\n",
       "   {'time': '00:43:00', 'value': 67},\n",
       "   {'time': '00:44:00', 'value': 67},\n",
       "   {'time': '00:45:00', 'value': 67},\n",
       "   {'time': '00:46:00', 'value': 65},\n",
       "   {'time': '00:47:00', 'value': 65},\n",
       "   {'time': '00:48:00', 'value': 65},\n",
       "   {'time': '00:49:00', 'value': 65},\n",
       "   {'time': '00:50:00', 'value': 64},\n",
       "   {'time': '00:51:00', 'value': 65},\n",
       "   {'time': '00:52:00', 'value': 65},\n",
       "   {'time': '00:53:00', 'value': 64},\n",
       "   {'time': '00:54:00', 'value': 64},\n",
       "   {'time': '00:55:00', 'value': 64},\n",
       "   {'time': '00:56:00', 'value': 64},\n",
       "   {'time': '00:57:00', 'value': 64},\n",
       "   {'time': '00:58:00', 'value': 64},\n",
       "   {'time': '00:59:00', 'value': 65},\n",
       "   {'time': '01:00:00', 'value': 65},\n",
       "   {'time': '01:01:00', 'value': 65},\n",
       "   {'time': '01:02:00', 'value': 65},\n",
       "   {'time': '01:03:00', 'value': 66},\n",
       "   {'time': '01:04:00', 'value': 66},\n",
       "   {'time': '01:05:00', 'value': 66},\n",
       "   {'time': '01:06:00', 'value': 81},\n",
       "   {'time': '01:07:00', 'value': 71},\n",
       "   {'time': '01:08:00', 'value': 76},\n",
       "   {'time': '01:09:00', 'value': 73},\n",
       "   {'time': '01:10:00', 'value': 71},\n",
       "   {'time': '01:11:00', 'value': 71},\n",
       "   {'time': '01:12:00', 'value': 77},\n",
       "   {'time': '01:13:00', 'value': 72},\n",
       "   {'time': '01:14:00', 'value': 71},\n",
       "   {'time': '01:15:00', 'value': 70},\n",
       "   {'time': '01:16:00', 'value': 71},\n",
       "   {'time': '01:17:00', 'value': 73},\n",
       "   {'time': '01:18:00', 'value': 73},\n",
       "   {'time': '01:19:00', 'value': 71},\n",
       "   {'time': '01:20:00', 'value': 69},\n",
       "   {'time': '01:21:00', 'value': 70},\n",
       "   {'time': '01:22:00', 'value': 71},\n",
       "   {'time': '01:23:00', 'value': 69},\n",
       "   {'time': '01:24:00', 'value': 69},\n",
       "   {'time': '01:25:00', 'value': 70},\n",
       "   {'time': '01:26:00', 'value': 74},\n",
       "   {'time': '01:27:00', 'value': 70},\n",
       "   {'time': '01:28:00', 'value': 67},\n",
       "   {'time': '01:29:00', 'value': 68},\n",
       "   {'time': '01:30:00', 'value': 67},\n",
       "   {'time': '01:31:00', 'value': 68},\n",
       "   {'time': '01:32:00', 'value': 68},\n",
       "   {'time': '01:33:00', 'value': 68},\n",
       "   {'time': '01:34:00', 'value': 67},\n",
       "   {'time': '01:35:00', 'value': 67},\n",
       "   {'time': '01:36:00', 'value': 67},\n",
       "   {'time': '01:37:00', 'value': 66},\n",
       "   {'time': '01:38:00', 'value': 67},\n",
       "   {'time': '01:39:00', 'value': 66},\n",
       "   {'time': '01:40:00', 'value': 66},\n",
       "   {'time': '01:41:00', 'value': 66},\n",
       "   {'time': '01:42:00', 'value': 66},\n",
       "   {'time': '01:43:00', 'value': 66},\n",
       "   {'time': '01:44:00', 'value': 66},\n",
       "   {'time': '01:45:00', 'value': 65},\n",
       "   {'time': '01:46:00', 'value': 66},\n",
       "   {'time': '01:47:00', 'value': 67},\n",
       "   {'time': '01:48:00', 'value': 66},\n",
       "   {'time': '01:49:00', 'value': 66},\n",
       "   {'time': '01:50:00', 'value': 65},\n",
       "   {'time': '01:51:00', 'value': 65},\n",
       "   {'time': '01:52:00', 'value': 66},\n",
       "   {'time': '01:53:00', 'value': 66},\n",
       "   {'time': '01:54:00', 'value': 66},\n",
       "   {'time': '01:55:00', 'value': 66},\n",
       "   {'time': '01:56:00', 'value': 72},\n",
       "   {'time': '01:57:00', 'value': 66},\n",
       "   {'time': '01:58:00', 'value': 66},\n",
       "   {'time': '01:59:00', 'value': 65},\n",
       "   {'time': '02:00:00', 'value': 65},\n",
       "   {'time': '02:01:00', 'value': 66},\n",
       "   {'time': '02:02:00', 'value': 65},\n",
       "   {'time': '02:03:00', 'value': 65},\n",
       "   {'time': '02:04:00', 'value': 63},\n",
       "   {'time': '02:05:00', 'value': 64},\n",
       "   {'time': '02:06:00', 'value': 65},\n",
       "   {'time': '02:07:00', 'value': 65},\n",
       "   {'time': '02:08:00', 'value': 65},\n",
       "   {'time': '02:09:00', 'value': 70},\n",
       "   {'time': '02:10:00', 'value': 75},\n",
       "   {'time': '02:11:00', 'value': 69},\n",
       "   {'time': '02:12:00', 'value': 74},\n",
       "   {'time': '02:13:00', 'value': 70},\n",
       "   {'time': '02:14:00', 'value': 68},\n",
       "   {'time': '02:15:00', 'value': 68},\n",
       "   {'time': '02:16:00', 'value': 67},\n",
       "   {'time': '02:17:00', 'value': 67},\n",
       "   {'time': '02:18:00', 'value': 67},\n",
       "   {'time': '02:19:00', 'value': 72},\n",
       "   {'time': '02:20:00', 'value': 73},\n",
       "   {'time': '02:21:00', 'value': 68},\n",
       "   {'time': '02:22:00', 'value': 68},\n",
       "   {'time': '02:23:00', 'value': 82},\n",
       "   {'time': '02:24:00', 'value': 67},\n",
       "   {'time': '02:25:00', 'value': 65},\n",
       "   {'time': '02:26:00', 'value': 65},\n",
       "   {'time': '02:27:00', 'value': 71},\n",
       "   {'time': '02:28:00', 'value': 66},\n",
       "   {'time': '02:29:00', 'value': 65},\n",
       "   {'time': '02:30:00', 'value': 65},\n",
       "   {'time': '02:31:00', 'value': 66},\n",
       "   {'time': '02:32:00', 'value': 66},\n",
       "   {'time': '02:33:00', 'value': 68},\n",
       "   {'time': '02:34:00', 'value': 75},\n",
       "   {'time': '02:35:00', 'value': 72},\n",
       "   {'time': '02:36:00', 'value': 78},\n",
       "   {'time': '02:37:00', 'value': 73},\n",
       "   {'time': '02:38:00', 'value': 71},\n",
       "   {'time': '02:39:00', 'value': 73},\n",
       "   {'time': '02:40:00', 'value': 76},\n",
       "   {'time': '02:41:00', 'value': 69},\n",
       "   {'time': '02:42:00', 'value': 69},\n",
       "   {'time': '02:43:00', 'value': 70},\n",
       "   {'time': '02:44:00', 'value': 71},\n",
       "   {'time': '02:45:00', 'value': 71},\n",
       "   {'time': '02:46:00', 'value': 73},\n",
       "   {'time': '02:47:00', 'value': 73},\n",
       "   {'time': '02:48:00', 'value': 75},\n",
       "   {'time': '02:49:00', 'value': 69},\n",
       "   {'time': '02:50:00', 'value': 69},\n",
       "   {'time': '02:51:00', 'value': 69},\n",
       "   {'time': '02:52:00', 'value': 71},\n",
       "   {'time': '02:53:00', 'value': 73},\n",
       "   {'time': '02:54:00', 'value': 76},\n",
       "   {'time': '02:55:00', 'value': 76},\n",
       "   {'time': '02:56:00', 'value': 73},\n",
       "   {'time': '02:57:00', 'value': 73},\n",
       "   {'time': '02:58:00', 'value': 74},\n",
       "   {'time': '02:59:00', 'value': 71},\n",
       "   {'time': '03:00:00', 'value': 70},\n",
       "   {'time': '03:01:00', 'value': 71},\n",
       "   {'time': '03:02:00', 'value': 73},\n",
       "   {'time': '03:03:00', 'value': 79},\n",
       "   {'time': '03:04:00', 'value': 79},\n",
       "   {'time': '03:05:00', 'value': 73},\n",
       "   {'time': '03:06:00', 'value': 75},\n",
       "   {'time': '03:07:00', 'value': 74},\n",
       "   {'time': '03:08:00', 'value': 71},\n",
       "   {'time': '03:09:00', 'value': 70},\n",
       "   {'time': '03:10:00', 'value': 72},\n",
       "   {'time': '03:11:00', 'value': 70},\n",
       "   {'time': '03:12:00', 'value': 69},\n",
       "   {'time': '03:13:00', 'value': 69},\n",
       "   {'time': '03:14:00', 'value': 69},\n",
       "   {'time': '03:15:00', 'value': 68},\n",
       "   {'time': '03:16:00', 'value': 74},\n",
       "   {'time': '03:17:00', 'value': 70},\n",
       "   {'time': '03:18:00', 'value': 68},\n",
       "   {'time': '03:19:00', 'value': 69},\n",
       "   {'time': '03:20:00', 'value': 66},\n",
       "   {'time': '03:21:00', 'value': 68},\n",
       "   {'time': '03:22:00', 'value': 67},\n",
       "   {'time': '03:23:00', 'value': 68},\n",
       "   {'time': '03:24:00', 'value': 67},\n",
       "   {'time': '03:25:00', 'value': 66},\n",
       "   {'time': '03:26:00', 'value': 66},\n",
       "   {'time': '03:27:00', 'value': 67},\n",
       "   {'time': '03:28:00', 'value': 67},\n",
       "   {'time': '03:29:00', 'value': 68},\n",
       "   {'time': '03:30:00', 'value': 68},\n",
       "   {'time': '03:31:00', 'value': 66},\n",
       "   {'time': '03:32:00', 'value': 67},\n",
       "   {'time': '03:33:00', 'value': 66},\n",
       "   {'time': '03:34:00', 'value': 66},\n",
       "   {'time': '03:35:00', 'value': 67},\n",
       "   {'time': '03:36:00', 'value': 66},\n",
       "   {'time': '03:37:00', 'value': 66},\n",
       "   {'time': '03:38:00', 'value': 66},\n",
       "   {'time': '03:39:00', 'value': 67},\n",
       "   {'time': '03:40:00', 'value': 66},\n",
       "   {'time': '03:41:00', 'value': 66},\n",
       "   {'time': '03:42:00', 'value': 66},\n",
       "   {'time': '03:43:00', 'value': 66},\n",
       "   {'time': '03:44:00', 'value': 66},\n",
       "   {'time': '03:45:00', 'value': 66},\n",
       "   {'time': '03:46:00', 'value': 66},\n",
       "   {'time': '03:47:00', 'value': 67},\n",
       "   {'time': '03:48:00', 'value': 66},\n",
       "   {'time': '03:49:00', 'value': 66},\n",
       "   {'time': '03:50:00', 'value': 66},\n",
       "   {'time': '03:51:00', 'value': 66},\n",
       "   {'time': '03:52:00', 'value': 66},\n",
       "   {'time': '03:53:00', 'value': 67},\n",
       "   {'time': '03:54:00', 'value': 67},\n",
       "   {'time': '03:55:00', 'value': 66},\n",
       "   {'time': '03:56:00', 'value': 66},\n",
       "   {'time': '03:57:00', 'value': 66},\n",
       "   {'time': '03:58:00', 'value': 66},\n",
       "   {'time': '03:59:00', 'value': 66},\n",
       "   {'time': '04:00:00', 'value': 67},\n",
       "   {'time': '04:01:00', 'value': 66},\n",
       "   {'time': '04:02:00', 'value': 67},\n",
       "   {'time': '04:03:00', 'value': 67},\n",
       "   {'time': '04:04:00', 'value': 66},\n",
       "   {'time': '04:05:00', 'value': 74},\n",
       "   {'time': '04:06:00', 'value': 72},\n",
       "   {'time': '04:07:00', 'value': 75},\n",
       "   {'time': '04:08:00', 'value': 72},\n",
       "   {'time': '04:09:00', 'value': 68},\n",
       "   {'time': '04:10:00', 'value': 74},\n",
       "   {'time': '04:11:00', 'value': 66},\n",
       "   {'time': '04:12:00', 'value': 66},\n",
       "   {'time': '04:13:00', 'value': 65},\n",
       "   {'time': '04:14:00', 'value': 65},\n",
       "   {'time': '04:15:00', 'value': 64},\n",
       "   {'time': '04:16:00', 'value': 65},\n",
       "   {'time': '04:17:00', 'value': 65},\n",
       "   {'time': '04:18:00', 'value': 65},\n",
       "   {'time': '04:20:00', 'value': 70},\n",
       "   {'time': '04:21:00', 'value': 65},\n",
       "   {'time': '04:22:00', 'value': 71},\n",
       "   {'time': '04:23:00', 'value': 65},\n",
       "   {'time': '04:24:00', 'value': 66},\n",
       "   {'time': '04:25:00', 'value': 65},\n",
       "   {'time': '04:26:00', 'value': 64},\n",
       "   {'time': '04:27:00', 'value': 64},\n",
       "   {'time': '04:28:00', 'value': 65},\n",
       "   {'time': '04:29:00', 'value': 65},\n",
       "   {'time': '04:30:00', 'value': 72},\n",
       "   {'time': '04:31:00', 'value': 72},\n",
       "   {'time': '04:32:00', 'value': 67},\n",
       "   {'time': '04:33:00', 'value': 66},\n",
       "   {'time': '04:34:00', 'value': 67},\n",
       "   {'time': '04:35:00', 'value': 73},\n",
       "   {'time': '04:36:00', 'value': 68},\n",
       "   {'time': '04:37:00', 'value': 70},\n",
       "   {'time': '04:38:00', 'value': 66},\n",
       "   {'time': '04:39:00', 'value': 64},\n",
       "   {'time': '04:40:00', 'value': 70},\n",
       "   {'time': '04:41:00', 'value': 63},\n",
       "   {'time': '04:42:00', 'value': 64},\n",
       "   {'time': '04:43:00', 'value': 68},\n",
       "   {'time': '04:44:00', 'value': 65},\n",
       "   {'time': '04:45:00', 'value': 64},\n",
       "   {'time': '04:46:00', 'value': 65},\n",
       "   {'time': '04:47:00', 'value': 71},\n",
       "   {'time': '04:48:00', 'value': 73},\n",
       "   {'time': '04:49:00', 'value': 67},\n",
       "   {'time': '04:50:00', 'value': 66},\n",
       "   {'time': '04:51:00', 'value': 67},\n",
       "   {'time': '04:52:00', 'value': 68},\n",
       "   {'time': '04:53:00', 'value': 70},\n",
       "   {'time': '04:54:00', 'value': 68},\n",
       "   {'time': '04:55:00', 'value': 73},\n",
       "   {'time': '04:56:00', 'value': 72},\n",
       "   {'time': '04:57:00', 'value': 66},\n",
       "   {'time': '04:58:00', 'value': 72},\n",
       "   {'time': '04:59:00', 'value': 70},\n",
       "   {'time': '05:00:00', 'value': 75},\n",
       "   {'time': '05:01:00', 'value': 67},\n",
       "   {'time': '05:02:00', 'value': 71},\n",
       "   {'time': '05:03:00', 'value': 68},\n",
       "   {'time': '05:04:00', 'value': 65},\n",
       "   {'time': '05:05:00', 'value': 66},\n",
       "   {'time': '05:06:00', 'value': 65},\n",
       "   {'time': '05:07:00', 'value': 66},\n",
       "   {'time': '05:08:00', 'value': 66},\n",
       "   {'time': '05:11:00', 'value': 66},\n",
       "   {'time': '05:12:00', 'value': 71},\n",
       "   {'time': '05:13:00', 'value': 81},\n",
       "   {'time': '05:14:00', 'value': 77},\n",
       "   {'time': '05:15:00', 'value': 73},\n",
       "   {'time': '05:16:00', 'value': 72},\n",
       "   {'time': '05:17:00', 'value': 73},\n",
       "   {'time': '05:18:00', 'value': 72},\n",
       "   {'time': '05:19:00', 'value': 72},\n",
       "   {'time': '05:20:00', 'value': 72},\n",
       "   {'time': '05:21:00', 'value': 75},\n",
       "   {'time': '05:22:00', 'value': 68},\n",
       "   {'time': '05:23:00', 'value': 69},\n",
       "   {'time': '05:24:00', 'value': 70},\n",
       "   {'time': '05:25:00', 'value': 66},\n",
       "   {'time': '05:26:00', 'value': 68},\n",
       "   {'time': '05:28:00', 'value': 67},\n",
       "   {'time': '05:29:00', 'value': 69},\n",
       "   {'time': '05:30:00', 'value': 69},\n",
       "   {'time': '05:31:00', 'value': 80},\n",
       "   {'time': '05:32:00', 'value': 70},\n",
       "   {'time': '05:33:00', 'value': 71},\n",
       "   {'time': '05:34:00', 'value': 72},\n",
       "   {'time': '05:35:00', 'value': 71},\n",
       "   {'time': '05:36:00', 'value': 66},\n",
       "   {'time': '05:37:00', 'value': 67},\n",
       "   {'time': '05:38:00', 'value': 72},\n",
       "   {'time': '05:39:00', 'value': 72},\n",
       "   {'time': '05:40:00', 'value': 67},\n",
       "   {'time': '05:41:00', 'value': 66},\n",
       "   {'time': '05:42:00', 'value': 70},\n",
       "   {'time': '05:43:00', 'value': 72},\n",
       "   {'time': '05:44:00', 'value': 72},\n",
       "   {'time': '05:45:00', 'value': 72},\n",
       "   {'time': '05:46:00', 'value': 78},\n",
       "   {'time': '05:47:00', 'value': 73},\n",
       "   {'time': '05:48:00', 'value': 71},\n",
       "   {'time': '05:49:00', 'value': 67},\n",
       "   {'time': '05:50:00', 'value': 70},\n",
       "   {'time': '05:51:00', 'value': 71},\n",
       "   {'time': '05:52:00', 'value': 67},\n",
       "   {'time': '05:53:00', 'value': 67},\n",
       "   {'time': '05:54:00', 'value': 67},\n",
       "   {'time': '05:55:00', 'value': 71},\n",
       "   {'time': '05:56:00', 'value': 74},\n",
       "   {'time': '05:57:00', 'value': 75},\n",
       "   {'time': '05:58:00', 'value': 70},\n",
       "   {'time': '05:59:00', 'value': 67},\n",
       "   {'time': '06:00:00', 'value': 66},\n",
       "   {'time': '06:01:00', 'value': 68},\n",
       "   {'time': '06:02:00', 'value': 67},\n",
       "   {'time': '06:03:00', 'value': 64},\n",
       "   {'time': '06:04:00', 'value': 65},\n",
       "   {'time': '06:05:00', 'value': 64},\n",
       "   {'time': '06:06:00', 'value': 65},\n",
       "   {'time': '06:07:00', 'value': 65},\n",
       "   {'time': '06:08:00', 'value': 64},\n",
       "   {'time': '06:09:00', 'value': 63},\n",
       "   {'time': '06:10:00', 'value': 62},\n",
       "   {'time': '06:11:00', 'value': 63},\n",
       "   {'time': '06:12:00', 'value': 63},\n",
       "   {'time': '06:13:00', 'value': 63},\n",
       "   {'time': '06:14:00', 'value': 63},\n",
       "   {'time': '06:15:00', 'value': 63},\n",
       "   {'time': '06:16:00', 'value': 64},\n",
       "   {'time': '06:17:00', 'value': 64},\n",
       "   {'time': '06:18:00', 'value': 64},\n",
       "   {'time': '06:19:00', 'value': 65},\n",
       "   {'time': '06:20:00', 'value': 64},\n",
       "   {'time': '06:21:00', 'value': 63},\n",
       "   {'time': '06:22:00', 'value': 63},\n",
       "   {'time': '06:23:00', 'value': 64},\n",
       "   {'time': '06:24:00', 'value': 64},\n",
       "   {'time': '06:25:00', 'value': 66},\n",
       "   {'time': '06:26:00', 'value': 66},\n",
       "   {'time': '06:27:00', 'value': 65},\n",
       "   {'time': '06:28:00', 'value': 65},\n",
       "   {'time': '06:29:00', 'value': 66},\n",
       "   {'time': '06:30:00', 'value': 65},\n",
       "   {'time': '06:31:00', 'value': 64},\n",
       "   {'time': '06:32:00', 'value': 66},\n",
       "   {'time': '06:33:00', 'value': 67},\n",
       "   {'time': '06:34:00', 'value': 65},\n",
       "   {'time': '06:35:00', 'value': 66},\n",
       "   {'time': '06:36:00', 'value': 67},\n",
       "   {'time': '06:37:00', 'value': 68},\n",
       "   {'time': '06:38:00', 'value': 69},\n",
       "   {'time': '06:39:00', 'value': 69},\n",
       "   {'time': '06:40:00', 'value': 74},\n",
       "   {'time': '06:41:00', 'value': 68},\n",
       "   {'time': '06:42:00', 'value': 73},\n",
       "   {'time': '06:43:00', 'value': 70},\n",
       "   {'time': '06:44:00', 'value': 70},\n",
       "   {'time': '06:45:00', 'value': 69},\n",
       "   {'time': '06:46:00', 'value': 69},\n",
       "   {'time': '06:47:00', 'value': 68},\n",
       "   {'time': '06:48:00', 'value': 68},\n",
       "   {'time': '06:49:00', 'value': 76},\n",
       "   {'time': '06:50:00', 'value': 67},\n",
       "   {'time': '06:51:00', 'value': 65},\n",
       "   {'time': '06:52:00', 'value': 68},\n",
       "   {'time': '06:53:00', 'value': 67},\n",
       "   {'time': '06:54:00', 'value': 72},\n",
       "   {'time': '06:55:00', 'value': 72},\n",
       "   {'time': '06:56:00', 'value': 69},\n",
       "   {'time': '06:57:00', 'value': 68},\n",
       "   {'time': '06:58:00', 'value': 74},\n",
       "   {'time': '06:59:00', 'value': 72},\n",
       "   {'time': '07:00:00', 'value': 73},\n",
       "   {'time': '07:01:00', 'value': 71},\n",
       "   {'time': '07:02:00', 'value': 66},\n",
       "   {'time': '07:03:00', 'value': 72},\n",
       "   {'time': '07:04:00', 'value': 75},\n",
       "   {'time': '07:05:00', 'value': 87},\n",
       "   {'time': '07:06:00', 'value': 92},\n",
       "   {'time': '07:09:00', 'value': 97}],\n",
       "  'datasetInterval': 1,\n",
       "  'datasetType': 'minute'}}"
      ]
     },
     "execution_count": 2,
     "metadata": {},
     "output_type": "execute_result"
    }
   ],
   "source": [
    "response = requests.get('https://api.fitbit.com/1/user/7NSGVR/activities/heart/date/2024-10-10/1d.json',\n",
    "    headers={'Authorization': 'Bearer ' + FITBIT_ACCESS_TOKEN})\n",
    "today_json = response.json()\n",
    "today_json"
   ]
  },
  {
   "cell_type": "code",
   "execution_count": 3,
   "metadata": {},
   "outputs": [
    {
     "data": {
      "text/html": [
       "<div>\n",
       "<style scoped>\n",
       "    .dataframe tbody tr th:only-of-type {\n",
       "        vertical-align: middle;\n",
       "    }\n",
       "\n",
       "    .dataframe tbody tr th {\n",
       "        vertical-align: top;\n",
       "    }\n",
       "\n",
       "    .dataframe thead th {\n",
       "        text-align: right;\n",
       "    }\n",
       "</style>\n",
       "<table border=\"1\" class=\"dataframe\">\n",
       "  <thead>\n",
       "    <tr style=\"text-align: right;\">\n",
       "      <th></th>\n",
       "      <th>time</th>\n",
       "      <th>value</th>\n",
       "    </tr>\n",
       "  </thead>\n",
       "  <tbody>\n",
       "    <tr>\n",
       "      <th>0</th>\n",
       "      <td>00:00:00</td>\n",
       "      <td>78</td>\n",
       "    </tr>\n",
       "    <tr>\n",
       "      <th>1</th>\n",
       "      <td>00:01:00</td>\n",
       "      <td>79</td>\n",
       "    </tr>\n",
       "    <tr>\n",
       "      <th>2</th>\n",
       "      <td>00:02:00</td>\n",
       "      <td>76</td>\n",
       "    </tr>\n",
       "    <tr>\n",
       "      <th>3</th>\n",
       "      <td>00:03:00</td>\n",
       "      <td>79</td>\n",
       "    </tr>\n",
       "    <tr>\n",
       "      <th>4</th>\n",
       "      <td>00:04:00</td>\n",
       "      <td>73</td>\n",
       "    </tr>\n",
       "    <tr>\n",
       "      <th>...</th>\n",
       "      <td>...</td>\n",
       "      <td>...</td>\n",
       "    </tr>\n",
       "    <tr>\n",
       "      <th>419</th>\n",
       "      <td>07:03:00</td>\n",
       "      <td>72</td>\n",
       "    </tr>\n",
       "    <tr>\n",
       "      <th>420</th>\n",
       "      <td>07:04:00</td>\n",
       "      <td>75</td>\n",
       "    </tr>\n",
       "    <tr>\n",
       "      <th>421</th>\n",
       "      <td>07:05:00</td>\n",
       "      <td>87</td>\n",
       "    </tr>\n",
       "    <tr>\n",
       "      <th>422</th>\n",
       "      <td>07:06:00</td>\n",
       "      <td>92</td>\n",
       "    </tr>\n",
       "    <tr>\n",
       "      <th>423</th>\n",
       "      <td>07:09:00</td>\n",
       "      <td>97</td>\n",
       "    </tr>\n",
       "  </tbody>\n",
       "</table>\n",
       "<p>424 rows × 2 columns</p>\n",
       "</div>"
      ],
      "text/plain": [
       "         time  value\n",
       "0    00:00:00     78\n",
       "1    00:01:00     79\n",
       "2    00:02:00     76\n",
       "3    00:03:00     79\n",
       "4    00:04:00     73\n",
       "..        ...    ...\n",
       "419  07:03:00     72\n",
       "420  07:04:00     75\n",
       "421  07:05:00     87\n",
       "422  07:06:00     92\n",
       "423  07:09:00     97\n",
       "\n",
       "[424 rows x 2 columns]"
      ]
     },
     "execution_count": 3,
     "metadata": {},
     "output_type": "execute_result"
    }
   ],
   "source": [
    "today_heart = pd.DataFrame(today_json['activities-heart-intraday']['dataset'])\n",
    "today_heart"
   ]
  },
  {
   "cell_type": "code",
   "execution_count": 4,
   "metadata": {},
   "outputs": [],
   "source": [
    "date = '2024-10-10'\n",
    "today_heart.time = pd.to_datetime(date + ' ' + today_heart.time)"
   ]
  },
  {
   "cell_type": "code",
   "execution_count": 5,
   "metadata": {},
   "outputs": [
    {
     "data": {
      "application/vnd.plotly.v1+json": {
       "config": {
        "plotlyServerURL": "https://plot.ly"
       },
       "data": [
        {
         "hovertemplate": "time=%{x}<br>value=%{y}<extra></extra>",
         "legendgroup": "",
         "line": {
          "color": "#636efa",
          "dash": "solid"
         },
         "marker": {
          "symbol": "circle"
         },
         "mode": "lines+markers",
         "name": "",
         "orientation": "v",
         "showlegend": false,
         "type": "scatter",
         "x": [
          "2024-10-10T00:00:00",
          "2024-10-10T00:01:00",
          "2024-10-10T00:02:00",
          "2024-10-10T00:03:00",
          "2024-10-10T00:04:00",
          "2024-10-10T00:05:00",
          "2024-10-10T00:06:00",
          "2024-10-10T00:07:00",
          "2024-10-10T00:08:00",
          "2024-10-10T00:09:00",
          "2024-10-10T00:10:00",
          "2024-10-10T00:11:00",
          "2024-10-10T00:12:00",
          "2024-10-10T00:13:00",
          "2024-10-10T00:14:00",
          "2024-10-10T00:15:00",
          "2024-10-10T00:16:00",
          "2024-10-10T00:17:00",
          "2024-10-10T00:18:00",
          "2024-10-10T00:19:00",
          "2024-10-10T00:20:00",
          "2024-10-10T00:21:00",
          "2024-10-10T00:22:00",
          "2024-10-10T00:23:00",
          "2024-10-10T00:24:00",
          "2024-10-10T00:25:00",
          "2024-10-10T00:26:00",
          "2024-10-10T00:27:00",
          "2024-10-10T00:28:00",
          "2024-10-10T00:29:00",
          "2024-10-10T00:30:00",
          "2024-10-10T00:31:00",
          "2024-10-10T00:32:00",
          "2024-10-10T00:33:00",
          "2024-10-10T00:34:00",
          "2024-10-10T00:35:00",
          "2024-10-10T00:36:00",
          "2024-10-10T00:37:00",
          "2024-10-10T00:38:00",
          "2024-10-10T00:39:00",
          "2024-10-10T00:40:00",
          "2024-10-10T00:41:00",
          "2024-10-10T00:42:00",
          "2024-10-10T00:43:00",
          "2024-10-10T00:44:00",
          "2024-10-10T00:45:00",
          "2024-10-10T00:46:00",
          "2024-10-10T00:47:00",
          "2024-10-10T00:48:00",
          "2024-10-10T00:49:00",
          "2024-10-10T00:50:00",
          "2024-10-10T00:51:00",
          "2024-10-10T00:52:00",
          "2024-10-10T00:53:00",
          "2024-10-10T00:54:00",
          "2024-10-10T00:55:00",
          "2024-10-10T00:56:00",
          "2024-10-10T00:57:00",
          "2024-10-10T00:58:00",
          "2024-10-10T00:59:00",
          "2024-10-10T01:00:00",
          "2024-10-10T01:01:00",
          "2024-10-10T01:02:00",
          "2024-10-10T01:03:00",
          "2024-10-10T01:04:00",
          "2024-10-10T01:05:00",
          "2024-10-10T01:06:00",
          "2024-10-10T01:07:00",
          "2024-10-10T01:08:00",
          "2024-10-10T01:09:00",
          "2024-10-10T01:10:00",
          "2024-10-10T01:11:00",
          "2024-10-10T01:12:00",
          "2024-10-10T01:13:00",
          "2024-10-10T01:14:00",
          "2024-10-10T01:15:00",
          "2024-10-10T01:16:00",
          "2024-10-10T01:17:00",
          "2024-10-10T01:18:00",
          "2024-10-10T01:19:00",
          "2024-10-10T01:20:00",
          "2024-10-10T01:21:00",
          "2024-10-10T01:22:00",
          "2024-10-10T01:23:00",
          "2024-10-10T01:24:00",
          "2024-10-10T01:25:00",
          "2024-10-10T01:26:00",
          "2024-10-10T01:27:00",
          "2024-10-10T01:28:00",
          "2024-10-10T01:29:00",
          "2024-10-10T01:30:00",
          "2024-10-10T01:31:00",
          "2024-10-10T01:32:00",
          "2024-10-10T01:33:00",
          "2024-10-10T01:34:00",
          "2024-10-10T01:35:00",
          "2024-10-10T01:36:00",
          "2024-10-10T01:37:00",
          "2024-10-10T01:38:00",
          "2024-10-10T01:39:00",
          "2024-10-10T01:40:00",
          "2024-10-10T01:41:00",
          "2024-10-10T01:42:00",
          "2024-10-10T01:43:00",
          "2024-10-10T01:44:00",
          "2024-10-10T01:45:00",
          "2024-10-10T01:46:00",
          "2024-10-10T01:47:00",
          "2024-10-10T01:48:00",
          "2024-10-10T01:49:00",
          "2024-10-10T01:50:00",
          "2024-10-10T01:51:00",
          "2024-10-10T01:52:00",
          "2024-10-10T01:53:00",
          "2024-10-10T01:54:00",
          "2024-10-10T01:55:00",
          "2024-10-10T01:56:00",
          "2024-10-10T01:57:00",
          "2024-10-10T01:58:00",
          "2024-10-10T01:59:00",
          "2024-10-10T02:00:00",
          "2024-10-10T02:01:00",
          "2024-10-10T02:02:00",
          "2024-10-10T02:03:00",
          "2024-10-10T02:04:00",
          "2024-10-10T02:05:00",
          "2024-10-10T02:06:00",
          "2024-10-10T02:07:00",
          "2024-10-10T02:08:00",
          "2024-10-10T02:09:00",
          "2024-10-10T02:10:00",
          "2024-10-10T02:11:00",
          "2024-10-10T02:12:00",
          "2024-10-10T02:13:00",
          "2024-10-10T02:14:00",
          "2024-10-10T02:15:00",
          "2024-10-10T02:16:00",
          "2024-10-10T02:17:00",
          "2024-10-10T02:18:00",
          "2024-10-10T02:19:00",
          "2024-10-10T02:20:00",
          "2024-10-10T02:21:00",
          "2024-10-10T02:22:00",
          "2024-10-10T02:23:00",
          "2024-10-10T02:24:00",
          "2024-10-10T02:25:00",
          "2024-10-10T02:26:00",
          "2024-10-10T02:27:00",
          "2024-10-10T02:28:00",
          "2024-10-10T02:29:00",
          "2024-10-10T02:30:00",
          "2024-10-10T02:31:00",
          "2024-10-10T02:32:00",
          "2024-10-10T02:33:00",
          "2024-10-10T02:34:00",
          "2024-10-10T02:35:00",
          "2024-10-10T02:36:00",
          "2024-10-10T02:37:00",
          "2024-10-10T02:38:00",
          "2024-10-10T02:39:00",
          "2024-10-10T02:40:00",
          "2024-10-10T02:41:00",
          "2024-10-10T02:42:00",
          "2024-10-10T02:43:00",
          "2024-10-10T02:44:00",
          "2024-10-10T02:45:00",
          "2024-10-10T02:46:00",
          "2024-10-10T02:47:00",
          "2024-10-10T02:48:00",
          "2024-10-10T02:49:00",
          "2024-10-10T02:50:00",
          "2024-10-10T02:51:00",
          "2024-10-10T02:52:00",
          "2024-10-10T02:53:00",
          "2024-10-10T02:54:00",
          "2024-10-10T02:55:00",
          "2024-10-10T02:56:00",
          "2024-10-10T02:57:00",
          "2024-10-10T02:58:00",
          "2024-10-10T02:59:00",
          "2024-10-10T03:00:00",
          "2024-10-10T03:01:00",
          "2024-10-10T03:02:00",
          "2024-10-10T03:03:00",
          "2024-10-10T03:04:00",
          "2024-10-10T03:05:00",
          "2024-10-10T03:06:00",
          "2024-10-10T03:07:00",
          "2024-10-10T03:08:00",
          "2024-10-10T03:09:00",
          "2024-10-10T03:10:00",
          "2024-10-10T03:11:00",
          "2024-10-10T03:12:00",
          "2024-10-10T03:13:00",
          "2024-10-10T03:14:00",
          "2024-10-10T03:15:00",
          "2024-10-10T03:16:00",
          "2024-10-10T03:17:00",
          "2024-10-10T03:18:00",
          "2024-10-10T03:19:00",
          "2024-10-10T03:20:00",
          "2024-10-10T03:21:00",
          "2024-10-10T03:22:00",
          "2024-10-10T03:23:00",
          "2024-10-10T03:24:00",
          "2024-10-10T03:25:00",
          "2024-10-10T03:26:00",
          "2024-10-10T03:27:00",
          "2024-10-10T03:28:00",
          "2024-10-10T03:29:00",
          "2024-10-10T03:30:00",
          "2024-10-10T03:31:00",
          "2024-10-10T03:32:00",
          "2024-10-10T03:33:00",
          "2024-10-10T03:34:00",
          "2024-10-10T03:35:00",
          "2024-10-10T03:36:00",
          "2024-10-10T03:37:00",
          "2024-10-10T03:38:00",
          "2024-10-10T03:39:00",
          "2024-10-10T03:40:00",
          "2024-10-10T03:41:00",
          "2024-10-10T03:42:00",
          "2024-10-10T03:43:00",
          "2024-10-10T03:44:00",
          "2024-10-10T03:45:00",
          "2024-10-10T03:46:00",
          "2024-10-10T03:47:00",
          "2024-10-10T03:48:00",
          "2024-10-10T03:49:00",
          "2024-10-10T03:50:00",
          "2024-10-10T03:51:00",
          "2024-10-10T03:52:00",
          "2024-10-10T03:53:00",
          "2024-10-10T03:54:00",
          "2024-10-10T03:55:00",
          "2024-10-10T03:56:00",
          "2024-10-10T03:57:00",
          "2024-10-10T03:58:00",
          "2024-10-10T03:59:00",
          "2024-10-10T04:00:00",
          "2024-10-10T04:01:00",
          "2024-10-10T04:02:00",
          "2024-10-10T04:03:00",
          "2024-10-10T04:04:00",
          "2024-10-10T04:05:00",
          "2024-10-10T04:06:00",
          "2024-10-10T04:07:00",
          "2024-10-10T04:08:00",
          "2024-10-10T04:09:00",
          "2024-10-10T04:10:00",
          "2024-10-10T04:11:00",
          "2024-10-10T04:12:00",
          "2024-10-10T04:13:00",
          "2024-10-10T04:14:00",
          "2024-10-10T04:15:00",
          "2024-10-10T04:16:00",
          "2024-10-10T04:17:00",
          "2024-10-10T04:18:00",
          "2024-10-10T04:20:00",
          "2024-10-10T04:21:00",
          "2024-10-10T04:22:00",
          "2024-10-10T04:23:00",
          "2024-10-10T04:24:00",
          "2024-10-10T04:25:00",
          "2024-10-10T04:26:00",
          "2024-10-10T04:27:00",
          "2024-10-10T04:28:00",
          "2024-10-10T04:29:00",
          "2024-10-10T04:30:00",
          "2024-10-10T04:31:00",
          "2024-10-10T04:32:00",
          "2024-10-10T04:33:00",
          "2024-10-10T04:34:00",
          "2024-10-10T04:35:00",
          "2024-10-10T04:36:00",
          "2024-10-10T04:37:00",
          "2024-10-10T04:38:00",
          "2024-10-10T04:39:00",
          "2024-10-10T04:40:00",
          "2024-10-10T04:41:00",
          "2024-10-10T04:42:00",
          "2024-10-10T04:43:00",
          "2024-10-10T04:44:00",
          "2024-10-10T04:45:00",
          "2024-10-10T04:46:00",
          "2024-10-10T04:47:00",
          "2024-10-10T04:48:00",
          "2024-10-10T04:49:00",
          "2024-10-10T04:50:00",
          "2024-10-10T04:51:00",
          "2024-10-10T04:52:00",
          "2024-10-10T04:53:00",
          "2024-10-10T04:54:00",
          "2024-10-10T04:55:00",
          "2024-10-10T04:56:00",
          "2024-10-10T04:57:00",
          "2024-10-10T04:58:00",
          "2024-10-10T04:59:00",
          "2024-10-10T05:00:00",
          "2024-10-10T05:01:00",
          "2024-10-10T05:02:00",
          "2024-10-10T05:03:00",
          "2024-10-10T05:04:00",
          "2024-10-10T05:05:00",
          "2024-10-10T05:06:00",
          "2024-10-10T05:07:00",
          "2024-10-10T05:08:00",
          "2024-10-10T05:11:00",
          "2024-10-10T05:12:00",
          "2024-10-10T05:13:00",
          "2024-10-10T05:14:00",
          "2024-10-10T05:15:00",
          "2024-10-10T05:16:00",
          "2024-10-10T05:17:00",
          "2024-10-10T05:18:00",
          "2024-10-10T05:19:00",
          "2024-10-10T05:20:00",
          "2024-10-10T05:21:00",
          "2024-10-10T05:22:00",
          "2024-10-10T05:23:00",
          "2024-10-10T05:24:00",
          "2024-10-10T05:25:00",
          "2024-10-10T05:26:00",
          "2024-10-10T05:28:00",
          "2024-10-10T05:29:00",
          "2024-10-10T05:30:00",
          "2024-10-10T05:31:00",
          "2024-10-10T05:32:00",
          "2024-10-10T05:33:00",
          "2024-10-10T05:34:00",
          "2024-10-10T05:35:00",
          "2024-10-10T05:36:00",
          "2024-10-10T05:37:00",
          "2024-10-10T05:38:00",
          "2024-10-10T05:39:00",
          "2024-10-10T05:40:00",
          "2024-10-10T05:41:00",
          "2024-10-10T05:42:00",
          "2024-10-10T05:43:00",
          "2024-10-10T05:44:00",
          "2024-10-10T05:45:00",
          "2024-10-10T05:46:00",
          "2024-10-10T05:47:00",
          "2024-10-10T05:48:00",
          "2024-10-10T05:49:00",
          "2024-10-10T05:50:00",
          "2024-10-10T05:51:00",
          "2024-10-10T05:52:00",
          "2024-10-10T05:53:00",
          "2024-10-10T05:54:00",
          "2024-10-10T05:55:00",
          "2024-10-10T05:56:00",
          "2024-10-10T05:57:00",
          "2024-10-10T05:58:00",
          "2024-10-10T05:59:00",
          "2024-10-10T06:00:00",
          "2024-10-10T06:01:00",
          "2024-10-10T06:02:00",
          "2024-10-10T06:03:00",
          "2024-10-10T06:04:00",
          "2024-10-10T06:05:00",
          "2024-10-10T06:06:00",
          "2024-10-10T06:07:00",
          "2024-10-10T06:08:00",
          "2024-10-10T06:09:00",
          "2024-10-10T06:10:00",
          "2024-10-10T06:11:00",
          "2024-10-10T06:12:00",
          "2024-10-10T06:13:00",
          "2024-10-10T06:14:00",
          "2024-10-10T06:15:00",
          "2024-10-10T06:16:00",
          "2024-10-10T06:17:00",
          "2024-10-10T06:18:00",
          "2024-10-10T06:19:00",
          "2024-10-10T06:20:00",
          "2024-10-10T06:21:00",
          "2024-10-10T06:22:00",
          "2024-10-10T06:23:00",
          "2024-10-10T06:24:00",
          "2024-10-10T06:25:00",
          "2024-10-10T06:26:00",
          "2024-10-10T06:27:00",
          "2024-10-10T06:28:00",
          "2024-10-10T06:29:00",
          "2024-10-10T06:30:00",
          "2024-10-10T06:31:00",
          "2024-10-10T06:32:00",
          "2024-10-10T06:33:00",
          "2024-10-10T06:34:00",
          "2024-10-10T06:35:00",
          "2024-10-10T06:36:00",
          "2024-10-10T06:37:00",
          "2024-10-10T06:38:00",
          "2024-10-10T06:39:00",
          "2024-10-10T06:40:00",
          "2024-10-10T06:41:00",
          "2024-10-10T06:42:00",
          "2024-10-10T06:43:00",
          "2024-10-10T06:44:00",
          "2024-10-10T06:45:00",
          "2024-10-10T06:46:00",
          "2024-10-10T06:47:00",
          "2024-10-10T06:48:00",
          "2024-10-10T06:49:00",
          "2024-10-10T06:50:00",
          "2024-10-10T06:51:00",
          "2024-10-10T06:52:00",
          "2024-10-10T06:53:00",
          "2024-10-10T06:54:00",
          "2024-10-10T06:55:00",
          "2024-10-10T06:56:00",
          "2024-10-10T06:57:00",
          "2024-10-10T06:58:00",
          "2024-10-10T06:59:00",
          "2024-10-10T07:00:00",
          "2024-10-10T07:01:00",
          "2024-10-10T07:02:00",
          "2024-10-10T07:03:00",
          "2024-10-10T07:04:00",
          "2024-10-10T07:05:00",
          "2024-10-10T07:06:00",
          "2024-10-10T07:09:00"
         ],
         "xaxis": "x",
         "y": [
          78,
          79,
          76,
          79,
          73,
          75,
          76,
          74,
          73,
          73,
          72,
          71,
          73,
          72,
          71,
          70,
          69,
          71,
          70,
          70,
          70,
          69,
          70,
          69,
          70,
          70,
          70,
          69,
          71,
          70,
          70,
          69,
          70,
          69,
          68,
          68,
          69,
          69,
          69,
          79,
          70,
          74,
          68,
          67,
          67,
          67,
          65,
          65,
          65,
          65,
          64,
          65,
          65,
          64,
          64,
          64,
          64,
          64,
          64,
          65,
          65,
          65,
          65,
          66,
          66,
          66,
          81,
          71,
          76,
          73,
          71,
          71,
          77,
          72,
          71,
          70,
          71,
          73,
          73,
          71,
          69,
          70,
          71,
          69,
          69,
          70,
          74,
          70,
          67,
          68,
          67,
          68,
          68,
          68,
          67,
          67,
          67,
          66,
          67,
          66,
          66,
          66,
          66,
          66,
          66,
          65,
          66,
          67,
          66,
          66,
          65,
          65,
          66,
          66,
          66,
          66,
          72,
          66,
          66,
          65,
          65,
          66,
          65,
          65,
          63,
          64,
          65,
          65,
          65,
          70,
          75,
          69,
          74,
          70,
          68,
          68,
          67,
          67,
          67,
          72,
          73,
          68,
          68,
          82,
          67,
          65,
          65,
          71,
          66,
          65,
          65,
          66,
          66,
          68,
          75,
          72,
          78,
          73,
          71,
          73,
          76,
          69,
          69,
          70,
          71,
          71,
          73,
          73,
          75,
          69,
          69,
          69,
          71,
          73,
          76,
          76,
          73,
          73,
          74,
          71,
          70,
          71,
          73,
          79,
          79,
          73,
          75,
          74,
          71,
          70,
          72,
          70,
          69,
          69,
          69,
          68,
          74,
          70,
          68,
          69,
          66,
          68,
          67,
          68,
          67,
          66,
          66,
          67,
          67,
          68,
          68,
          66,
          67,
          66,
          66,
          67,
          66,
          66,
          66,
          67,
          66,
          66,
          66,
          66,
          66,
          66,
          66,
          67,
          66,
          66,
          66,
          66,
          66,
          67,
          67,
          66,
          66,
          66,
          66,
          66,
          67,
          66,
          67,
          67,
          66,
          74,
          72,
          75,
          72,
          68,
          74,
          66,
          66,
          65,
          65,
          64,
          65,
          65,
          65,
          70,
          65,
          71,
          65,
          66,
          65,
          64,
          64,
          65,
          65,
          72,
          72,
          67,
          66,
          67,
          73,
          68,
          70,
          66,
          64,
          70,
          63,
          64,
          68,
          65,
          64,
          65,
          71,
          73,
          67,
          66,
          67,
          68,
          70,
          68,
          73,
          72,
          66,
          72,
          70,
          75,
          67,
          71,
          68,
          65,
          66,
          65,
          66,
          66,
          66,
          71,
          81,
          77,
          73,
          72,
          73,
          72,
          72,
          72,
          75,
          68,
          69,
          70,
          66,
          68,
          67,
          69,
          69,
          80,
          70,
          71,
          72,
          71,
          66,
          67,
          72,
          72,
          67,
          66,
          70,
          72,
          72,
          72,
          78,
          73,
          71,
          67,
          70,
          71,
          67,
          67,
          67,
          71,
          74,
          75,
          70,
          67,
          66,
          68,
          67,
          64,
          65,
          64,
          65,
          65,
          64,
          63,
          62,
          63,
          63,
          63,
          63,
          63,
          64,
          64,
          64,
          65,
          64,
          63,
          63,
          64,
          64,
          66,
          66,
          65,
          65,
          66,
          65,
          64,
          66,
          67,
          65,
          66,
          67,
          68,
          69,
          69,
          74,
          68,
          73,
          70,
          70,
          69,
          69,
          68,
          68,
          76,
          67,
          65,
          68,
          67,
          72,
          72,
          69,
          68,
          74,
          72,
          73,
          71,
          66,
          72,
          75,
          87,
          92,
          97
         ],
         "yaxis": "y"
        }
       ],
       "layout": {
        "legend": {
         "tracegroupgap": 0
        },
        "margin": {
         "t": 60
        },
        "template": {
         "data": {
          "bar": [
           {
            "error_x": {
             "color": "#2a3f5f"
            },
            "error_y": {
             "color": "#2a3f5f"
            },
            "marker": {
             "line": {
              "color": "#E5ECF6",
              "width": 0.5
             },
             "pattern": {
              "fillmode": "overlay",
              "size": 10,
              "solidity": 0.2
             }
            },
            "type": "bar"
           }
          ],
          "barpolar": [
           {
            "marker": {
             "line": {
              "color": "#E5ECF6",
              "width": 0.5
             },
             "pattern": {
              "fillmode": "overlay",
              "size": 10,
              "solidity": 0.2
             }
            },
            "type": "barpolar"
           }
          ],
          "carpet": [
           {
            "aaxis": {
             "endlinecolor": "#2a3f5f",
             "gridcolor": "white",
             "linecolor": "white",
             "minorgridcolor": "white",
             "startlinecolor": "#2a3f5f"
            },
            "baxis": {
             "endlinecolor": "#2a3f5f",
             "gridcolor": "white",
             "linecolor": "white",
             "minorgridcolor": "white",
             "startlinecolor": "#2a3f5f"
            },
            "type": "carpet"
           }
          ],
          "choropleth": [
           {
            "colorbar": {
             "outlinewidth": 0,
             "ticks": ""
            },
            "type": "choropleth"
           }
          ],
          "contour": [
           {
            "colorbar": {
             "outlinewidth": 0,
             "ticks": ""
            },
            "colorscale": [
             [
              0,
              "#0d0887"
             ],
             [
              0.1111111111111111,
              "#46039f"
             ],
             [
              0.2222222222222222,
              "#7201a8"
             ],
             [
              0.3333333333333333,
              "#9c179e"
             ],
             [
              0.4444444444444444,
              "#bd3786"
             ],
             [
              0.5555555555555556,
              "#d8576b"
             ],
             [
              0.6666666666666666,
              "#ed7953"
             ],
             [
              0.7777777777777778,
              "#fb9f3a"
             ],
             [
              0.8888888888888888,
              "#fdca26"
             ],
             [
              1,
              "#f0f921"
             ]
            ],
            "type": "contour"
           }
          ],
          "contourcarpet": [
           {
            "colorbar": {
             "outlinewidth": 0,
             "ticks": ""
            },
            "type": "contourcarpet"
           }
          ],
          "heatmap": [
           {
            "colorbar": {
             "outlinewidth": 0,
             "ticks": ""
            },
            "colorscale": [
             [
              0,
              "#0d0887"
             ],
             [
              0.1111111111111111,
              "#46039f"
             ],
             [
              0.2222222222222222,
              "#7201a8"
             ],
             [
              0.3333333333333333,
              "#9c179e"
             ],
             [
              0.4444444444444444,
              "#bd3786"
             ],
             [
              0.5555555555555556,
              "#d8576b"
             ],
             [
              0.6666666666666666,
              "#ed7953"
             ],
             [
              0.7777777777777778,
              "#fb9f3a"
             ],
             [
              0.8888888888888888,
              "#fdca26"
             ],
             [
              1,
              "#f0f921"
             ]
            ],
            "type": "heatmap"
           }
          ],
          "heatmapgl": [
           {
            "colorbar": {
             "outlinewidth": 0,
             "ticks": ""
            },
            "colorscale": [
             [
              0,
              "#0d0887"
             ],
             [
              0.1111111111111111,
              "#46039f"
             ],
             [
              0.2222222222222222,
              "#7201a8"
             ],
             [
              0.3333333333333333,
              "#9c179e"
             ],
             [
              0.4444444444444444,
              "#bd3786"
             ],
             [
              0.5555555555555556,
              "#d8576b"
             ],
             [
              0.6666666666666666,
              "#ed7953"
             ],
             [
              0.7777777777777778,
              "#fb9f3a"
             ],
             [
              0.8888888888888888,
              "#fdca26"
             ],
             [
              1,
              "#f0f921"
             ]
            ],
            "type": "heatmapgl"
           }
          ],
          "histogram": [
           {
            "marker": {
             "pattern": {
              "fillmode": "overlay",
              "size": 10,
              "solidity": 0.2
             }
            },
            "type": "histogram"
           }
          ],
          "histogram2d": [
           {
            "colorbar": {
             "outlinewidth": 0,
             "ticks": ""
            },
            "colorscale": [
             [
              0,
              "#0d0887"
             ],
             [
              0.1111111111111111,
              "#46039f"
             ],
             [
              0.2222222222222222,
              "#7201a8"
             ],
             [
              0.3333333333333333,
              "#9c179e"
             ],
             [
              0.4444444444444444,
              "#bd3786"
             ],
             [
              0.5555555555555556,
              "#d8576b"
             ],
             [
              0.6666666666666666,
              "#ed7953"
             ],
             [
              0.7777777777777778,
              "#fb9f3a"
             ],
             [
              0.8888888888888888,
              "#fdca26"
             ],
             [
              1,
              "#f0f921"
             ]
            ],
            "type": "histogram2d"
           }
          ],
          "histogram2dcontour": [
           {
            "colorbar": {
             "outlinewidth": 0,
             "ticks": ""
            },
            "colorscale": [
             [
              0,
              "#0d0887"
             ],
             [
              0.1111111111111111,
              "#46039f"
             ],
             [
              0.2222222222222222,
              "#7201a8"
             ],
             [
              0.3333333333333333,
              "#9c179e"
             ],
             [
              0.4444444444444444,
              "#bd3786"
             ],
             [
              0.5555555555555556,
              "#d8576b"
             ],
             [
              0.6666666666666666,
              "#ed7953"
             ],
             [
              0.7777777777777778,
              "#fb9f3a"
             ],
             [
              0.8888888888888888,
              "#fdca26"
             ],
             [
              1,
              "#f0f921"
             ]
            ],
            "type": "histogram2dcontour"
           }
          ],
          "mesh3d": [
           {
            "colorbar": {
             "outlinewidth": 0,
             "ticks": ""
            },
            "type": "mesh3d"
           }
          ],
          "parcoords": [
           {
            "line": {
             "colorbar": {
              "outlinewidth": 0,
              "ticks": ""
             }
            },
            "type": "parcoords"
           }
          ],
          "pie": [
           {
            "automargin": true,
            "type": "pie"
           }
          ],
          "scatter": [
           {
            "fillpattern": {
             "fillmode": "overlay",
             "size": 10,
             "solidity": 0.2
            },
            "type": "scatter"
           }
          ],
          "scatter3d": [
           {
            "line": {
             "colorbar": {
              "outlinewidth": 0,
              "ticks": ""
             }
            },
            "marker": {
             "colorbar": {
              "outlinewidth": 0,
              "ticks": ""
             }
            },
            "type": "scatter3d"
           }
          ],
          "scattercarpet": [
           {
            "marker": {
             "colorbar": {
              "outlinewidth": 0,
              "ticks": ""
             }
            },
            "type": "scattercarpet"
           }
          ],
          "scattergeo": [
           {
            "marker": {
             "colorbar": {
              "outlinewidth": 0,
              "ticks": ""
             }
            },
            "type": "scattergeo"
           }
          ],
          "scattergl": [
           {
            "marker": {
             "colorbar": {
              "outlinewidth": 0,
              "ticks": ""
             }
            },
            "type": "scattergl"
           }
          ],
          "scattermapbox": [
           {
            "marker": {
             "colorbar": {
              "outlinewidth": 0,
              "ticks": ""
             }
            },
            "type": "scattermapbox"
           }
          ],
          "scatterpolar": [
           {
            "marker": {
             "colorbar": {
              "outlinewidth": 0,
              "ticks": ""
             }
            },
            "type": "scatterpolar"
           }
          ],
          "scatterpolargl": [
           {
            "marker": {
             "colorbar": {
              "outlinewidth": 0,
              "ticks": ""
             }
            },
            "type": "scatterpolargl"
           }
          ],
          "scatterternary": [
           {
            "marker": {
             "colorbar": {
              "outlinewidth": 0,
              "ticks": ""
             }
            },
            "type": "scatterternary"
           }
          ],
          "surface": [
           {
            "colorbar": {
             "outlinewidth": 0,
             "ticks": ""
            },
            "colorscale": [
             [
              0,
              "#0d0887"
             ],
             [
              0.1111111111111111,
              "#46039f"
             ],
             [
              0.2222222222222222,
              "#7201a8"
             ],
             [
              0.3333333333333333,
              "#9c179e"
             ],
             [
              0.4444444444444444,
              "#bd3786"
             ],
             [
              0.5555555555555556,
              "#d8576b"
             ],
             [
              0.6666666666666666,
              "#ed7953"
             ],
             [
              0.7777777777777778,
              "#fb9f3a"
             ],
             [
              0.8888888888888888,
              "#fdca26"
             ],
             [
              1,
              "#f0f921"
             ]
            ],
            "type": "surface"
           }
          ],
          "table": [
           {
            "cells": {
             "fill": {
              "color": "#EBF0F8"
             },
             "line": {
              "color": "white"
             }
            },
            "header": {
             "fill": {
              "color": "#C8D4E3"
             },
             "line": {
              "color": "white"
             }
            },
            "type": "table"
           }
          ]
         },
         "layout": {
          "annotationdefaults": {
           "arrowcolor": "#2a3f5f",
           "arrowhead": 0,
           "arrowwidth": 1
          },
          "autotypenumbers": "strict",
          "coloraxis": {
           "colorbar": {
            "outlinewidth": 0,
            "ticks": ""
           }
          },
          "colorscale": {
           "diverging": [
            [
             0,
             "#8e0152"
            ],
            [
             0.1,
             "#c51b7d"
            ],
            [
             0.2,
             "#de77ae"
            ],
            [
             0.3,
             "#f1b6da"
            ],
            [
             0.4,
             "#fde0ef"
            ],
            [
             0.5,
             "#f7f7f7"
            ],
            [
             0.6,
             "#e6f5d0"
            ],
            [
             0.7,
             "#b8e186"
            ],
            [
             0.8,
             "#7fbc41"
            ],
            [
             0.9,
             "#4d9221"
            ],
            [
             1,
             "#276419"
            ]
           ],
           "sequential": [
            [
             0,
             "#0d0887"
            ],
            [
             0.1111111111111111,
             "#46039f"
            ],
            [
             0.2222222222222222,
             "#7201a8"
            ],
            [
             0.3333333333333333,
             "#9c179e"
            ],
            [
             0.4444444444444444,
             "#bd3786"
            ],
            [
             0.5555555555555556,
             "#d8576b"
            ],
            [
             0.6666666666666666,
             "#ed7953"
            ],
            [
             0.7777777777777778,
             "#fb9f3a"
            ],
            [
             0.8888888888888888,
             "#fdca26"
            ],
            [
             1,
             "#f0f921"
            ]
           ],
           "sequentialminus": [
            [
             0,
             "#0d0887"
            ],
            [
             0.1111111111111111,
             "#46039f"
            ],
            [
             0.2222222222222222,
             "#7201a8"
            ],
            [
             0.3333333333333333,
             "#9c179e"
            ],
            [
             0.4444444444444444,
             "#bd3786"
            ],
            [
             0.5555555555555556,
             "#d8576b"
            ],
            [
             0.6666666666666666,
             "#ed7953"
            ],
            [
             0.7777777777777778,
             "#fb9f3a"
            ],
            [
             0.8888888888888888,
             "#fdca26"
            ],
            [
             1,
             "#f0f921"
            ]
           ]
          },
          "colorway": [
           "#636efa",
           "#EF553B",
           "#00cc96",
           "#ab63fa",
           "#FFA15A",
           "#19d3f3",
           "#FF6692",
           "#B6E880",
           "#FF97FF",
           "#FECB52"
          ],
          "font": {
           "color": "#2a3f5f"
          },
          "geo": {
           "bgcolor": "white",
           "lakecolor": "white",
           "landcolor": "#E5ECF6",
           "showlakes": true,
           "showland": true,
           "subunitcolor": "white"
          },
          "hoverlabel": {
           "align": "left"
          },
          "hovermode": "closest",
          "mapbox": {
           "style": "light"
          },
          "paper_bgcolor": "white",
          "plot_bgcolor": "#E5ECF6",
          "polar": {
           "angularaxis": {
            "gridcolor": "white",
            "linecolor": "white",
            "ticks": ""
           },
           "bgcolor": "#E5ECF6",
           "radialaxis": {
            "gridcolor": "white",
            "linecolor": "white",
            "ticks": ""
           }
          },
          "scene": {
           "xaxis": {
            "backgroundcolor": "#E5ECF6",
            "gridcolor": "white",
            "gridwidth": 2,
            "linecolor": "white",
            "showbackground": true,
            "ticks": "",
            "zerolinecolor": "white"
           },
           "yaxis": {
            "backgroundcolor": "#E5ECF6",
            "gridcolor": "white",
            "gridwidth": 2,
            "linecolor": "white",
            "showbackground": true,
            "ticks": "",
            "zerolinecolor": "white"
           },
           "zaxis": {
            "backgroundcolor": "#E5ECF6",
            "gridcolor": "white",
            "gridwidth": 2,
            "linecolor": "white",
            "showbackground": true,
            "ticks": "",
            "zerolinecolor": "white"
           }
          },
          "shapedefaults": {
           "line": {
            "color": "#2a3f5f"
           }
          },
          "ternary": {
           "aaxis": {
            "gridcolor": "white",
            "linecolor": "white",
            "ticks": ""
           },
           "baxis": {
            "gridcolor": "white",
            "linecolor": "white",
            "ticks": ""
           },
           "bgcolor": "#E5ECF6",
           "caxis": {
            "gridcolor": "white",
            "linecolor": "white",
            "ticks": ""
           }
          },
          "title": {
           "x": 0.05
          },
          "xaxis": {
           "automargin": true,
           "gridcolor": "white",
           "linecolor": "white",
           "ticks": "",
           "title": {
            "standoff": 15
           },
           "zerolinecolor": "white",
           "zerolinewidth": 2
          },
          "yaxis": {
           "automargin": true,
           "gridcolor": "white",
           "linecolor": "white",
           "ticks": "",
           "title": {
            "standoff": 15
           },
           "zerolinecolor": "white",
           "zerolinewidth": 2
          }
         }
        },
        "xaxis": {
         "anchor": "y",
         "domain": [
          0,
          1
         ],
         "title": {
          "text": "time"
         }
        },
        "yaxis": {
         "anchor": "x",
         "domain": [
          0,
          1
         ],
         "title": {
          "text": "value"
         }
        }
       }
      }
     },
     "metadata": {},
     "output_type": "display_data"
    }
   ],
   "source": [
    "px.line(today_heart, x='time', y='value', markers=True)"
   ]
  }
 ],
 "metadata": {
  "kernelspec": {
   "display_name": "env",
   "language": "python",
   "name": "python3"
  },
  "language_info": {
   "codemirror_mode": {
    "name": "ipython",
    "version": 3
   },
   "file_extension": ".py",
   "mimetype": "text/x-python",
   "name": "python",
   "nbconvert_exporter": "python",
   "pygments_lexer": "ipython3",
   "version": "3.11.2"
  }
 },
 "nbformat": 4,
 "nbformat_minor": 2
}
